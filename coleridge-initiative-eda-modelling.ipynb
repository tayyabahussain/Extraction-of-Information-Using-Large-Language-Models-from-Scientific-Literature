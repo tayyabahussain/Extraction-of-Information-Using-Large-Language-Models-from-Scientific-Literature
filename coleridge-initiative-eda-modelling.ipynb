{
 "cells": [
  {
   "cell_type": "markdown",
   "id": "creative-variance",
   "metadata": {
    "papermill": {
     "duration": 0.099801,
     "end_time": "2024-01-02T10:31:29.726954",
     "exception": false,
     "start_time": "2024-01-02T10:31:29.627153",
     "status": "completed"
    },
    "tags": []
   },
   "source": [
    "# <p style=\"font-family:newtimeroman; text-align:center; font-size:40px;\">A Novel Data Extraction Framework Using Natural Language Processing (DEFNLP) Techniques</p>\n",
    "<p style=\"font-family:newtimeroman; text-align:center; font-size:30px;\">Discover how data is used for the public good</p>"
   ]
  },
  {
   "cell_type": "markdown",
   "id": "dimensional-lightweight",
   "metadata": {
    "papermill": {
     "duration": 0.095938,
     "end_time": "2024-01-02T10:31:29.925009",
     "exception": false,
     "start_time": "2024-01-02T10:31:29.829071",
     "status": "completed"
    },
    "tags": []
   },
   "source": [
    "<a id='0'></a>\n",
    "# <p style=\"background-color:purple; font-family:newtimeroman; font-size:100%; text-align:center; border-radius: 15px 50px; color:white;\">Please dont forget to upvote the notebook </p>"
   ]
  },
  {
   "cell_type": "markdown",
   "id": "hollywood-calibration",
   "metadata": {
    "papermill": {
     "duration": 0.095808,
     "end_time": "2024-01-02T10:31:30.114683",
     "exception": false,
     "start_time": "2024-01-02T10:31:30.018875",
     "status": "completed"
    },
    "tags": []
   },
   "source": [
    "## In this notebook basically we have to predict text for some strings by using nlp techniques\n",
    "*** \n",
    ">The objective of the competition is to identify the mention of datasets within scientific publications.\n",
    "\n",
    "This competition challenges data scientists to show how publicly funded data are used to serve science and society. Evidence through data is critical if government is to address the many threats facing society, including; pandemics, climate change, Alzheimer’s disease, child hunger, increasing food production, maintaining biodiversity, and addressing many other challenges. Yet much of the information about data necessary to inform evidence and science is locked inside publications.\n",
    "\n",
    "Can natural language processing find the hidden-in-plain-sight data citations? Can machine learning find the link between the words used in research articles and the data referenced in the article?\n",
    "\n",
    "Now is the time for data scientists to help restore trust in data and evidence. In the United States, federal agencies are now mandated to show how their data are being used. The new Foundations of Evidence-based Policymaking Act requires agencies to modernize their data management. New Presidential Executive Orders are pushing government agencies to make evidence-based decisions based on the best available data and science. And the government is working to respond in an open and transparent way.\n",
    "\n",
    "This competition will build just such an open and transparent approach. The results will show how public data are being used in science and help the government make wiser, more transparent public investments. It will help move researchers and governments from using ad-hoc methods to automated ways of finding out what datasets are being used to solve problems, what measures are being generated, and which researchers are the experts. Previous competitions have shown that it is possible to develop algorithms to automate the search and discovery of references to data. Now, we want the Kaggle community to develop the best approaches to identify critical datasets used in scientific publications.\n",
    "\n",
    "In this competition, you'll use natural language processing (NLP) to automate the discovery of how scientific data are referenced in publications. Utilizing the full text of scientific publications from numerous research areas gathered from CHORUS publisher members and other sources, you'll identify data sets that the publications' authors used in their work.\n",
    "\n",
    "It achieves this goal by working with the agencies to create value for the taxpayer from the careful use of data by building new technologies to enable secure access to and sharing of confidential microdata and by training agency staff to acquire modern data skills.\n",
    "\n",
    "If successful, you'll help support evidence in government data. Automated NLP approaches will enable government agencies and researchers to quickly find the information they need. The approach will be used to develop data usage scorecards to better enable agencies to show how their data are used and bring down a critical barrier to the access and use of public data."
   ]
  },
  {
   "cell_type": "markdown",
   "id": "connected-preview",
   "metadata": {
    "papermill": {
     "duration": 0.094391,
     "end_time": "2024-01-02T10:31:30.303625",
     "exception": false,
     "start_time": "2024-01-02T10:31:30.209234",
     "status": "completed"
    },
    "tags": []
   },
   "source": [
    "<a id='1'></a>\n",
    "# <p style=\"background-color:blue; font-family:newtimeroman; font-size:120%; text-align:center; border-radius: 10px 25px;color:white;\">Table of Content</p>\n",
    "* [1. Importing Modules & Libraries](#1)\n",
    "* [2. Data Exploration](#2)\n",
    "* [3. Data Vizualization](#3)\n",
    "* [4. Data Cleaning](#4)\n",
    "* [5. Baseline Model & Submission](#5)"
   ]
  },
  {
   "cell_type": "markdown",
   "id": "virtual-joyce",
   "metadata": {
    "papermill": {
     "duration": 0.095099,
     "end_time": "2024-01-02T10:31:30.493129",
     "exception": false,
     "start_time": "2024-01-02T10:31:30.398030",
     "status": "completed"
    },
    "tags": []
   },
   "source": [
    "<a id='1'></a>\n",
    "# <p style=\"background-color:skyblue; font-family:newtimeroman; font-size:150%; text-align:center; border-radius: 15px 50px;\">1. Importing Modules & Libraries</p>"
   ]
  },
  {
   "cell_type": "code",
   "execution_count": 1,
   "id": "floral-siemens",
   "metadata": {
    "execution": {
     "iopub.execute_input": "2024-01-02T10:31:30.688411Z",
     "iopub.status.busy": "2024-01-02T10:31:30.687039Z",
     "iopub.status.idle": "2024-01-02T10:31:45.733051Z",
     "shell.execute_reply": "2024-01-02T10:31:45.732251Z",
     "shell.execute_reply.started": "2021-10-10T20:49:01.747549Z"
    },
    "papermill": {
     "duration": 15.143917,
     "end_time": "2024-01-02T10:31:45.733244",
     "exception": false,
     "start_time": "2024-01-02T10:31:30.589327",
     "status": "completed"
    },
    "tags": []
   },
   "outputs": [
    {
     "data": {
      "text/plain": [
       "['sample_submission.csv', 'train.csv', 'test', 'train']"
      ]
     },
     "execution_count": 1,
     "metadata": {},
     "output_type": "execute_result"
    }
   ],
   "source": [
    "import warnings\n",
    "warnings.filterwarnings('ignore', category=DeprecationWarning)\n",
    "warnings.filterwarnings('ignore', category=FutureWarning)\n",
    "\n",
    "import os\n",
    "import re\n",
    "import json\n",
    "import time\n",
    "import glob\n",
    "from collections import defaultdict\n",
    "from textblob import TextBlob\n",
    "from functools import partial\n",
    "\n",
    "import pandas as pd\n",
    "import numpy as np\n",
    "\n",
    "import matplotlib.pyplot as plt\n",
    "import seaborn as sn\n",
    "import plotly.express as px\n",
    "import plotly.graph_objects as go\n",
    "\n",
    "import nltk\n",
    "import urllib.request\n",
    "from PIL import Image\n",
    "import spacy\n",
    "nlp = spacy.load('en_core_web_lg', disable=['parser', 'ner'])\n",
    "nlp.max_length = 4000000\n",
    "from nltk.probability import FreqDist\n",
    "from wordcloud import WordCloud, STOPWORDS\n",
    "\n",
    "from tqdm.autonotebook import tqdm\n",
    "import string\n",
    "\n",
    "%matplotlib inline\n",
    "\n",
    "os.listdir('/kaggle/input/coleridgeinitiative-show-us-the-data/')"
   ]
  },
  {
   "cell_type": "markdown",
   "id": "considerable-tanzania",
   "metadata": {
    "papermill": {
     "duration": 0.095145,
     "end_time": "2024-01-02T10:31:45.924458",
     "exception": false,
     "start_time": "2024-01-02T10:31:45.829313",
     "status": "completed"
    },
    "tags": []
   },
   "source": [
    "We are provided with 4 main pieces of data:\n",
    "\n",
    "* `train.csv:` The CSV file containing all the metadata of the publications, such as their title and the dataset they utilize.\n",
    "* `train:` The directory containing the actual publications that are referenced in train.csvin JSON format.\n",
    "* `test:` The directory containing the actual publications that will be used for testing purposes (thus, with no ground truth CSV file available).\n",
    "* `sample_submission.csv:` The CSV file containing all the publications IDs in the test set, for which we'll have to populate the prediction column."
   ]
  },
  {
   "cell_type": "markdown",
   "id": "junior-forth",
   "metadata": {
    "papermill": {
     "duration": 0.094275,
     "end_time": "2024-01-02T10:31:46.113284",
     "exception": false,
     "start_time": "2024-01-02T10:31:46.019009",
     "status": "completed"
    },
    "tags": []
   },
   "source": [
    "<a id='2'></a>\n",
    "# <p style=\"background-color:skyblue; font-family:newtimeroman; font-size:150%; text-align:center; border-radius: 15px 50px;\">2. Data Exploration</p>"
   ]
  },
  {
   "cell_type": "markdown",
   "id": "fundamental-structure",
   "metadata": {
    "papermill": {
     "duration": 0.095287,
     "end_time": "2024-01-02T10:31:46.304145",
     "exception": false,
     "start_time": "2024-01-02T10:31:46.208858",
     "status": "completed"
    },
    "tags": []
   },
   "source": [
    "# Reading csv files and train & test file paths"
   ]
  },
  {
   "cell_type": "code",
   "execution_count": 2,
   "id": "distant-closing",
   "metadata": {
    "execution": {
     "iopub.execute_input": "2024-01-02T10:31:46.499157Z",
     "iopub.status.busy": "2024-01-02T10:31:46.498375Z",
     "iopub.status.idle": "2024-01-02T10:31:46.663463Z",
     "shell.execute_reply": "2024-01-02T10:31:46.664103Z",
     "shell.execute_reply.started": "2021-10-10T20:49:15.159767Z"
    },
    "papermill": {
     "duration": 0.265792,
     "end_time": "2024-01-02T10:31:46.664297",
     "exception": false,
     "start_time": "2024-01-02T10:31:46.398505",
     "status": "completed"
    },
    "tags": []
   },
   "outputs": [],
   "source": [
    "train_df = pd.read_csv('../input/coleridgeinitiative-show-us-the-data/train.csv')\n",
    "sample_sub = pd.read_csv('../input/coleridgeinitiative-show-us-the-data/sample_submission.csv')\n",
    "train_files_path = '../input/coleridgeinitiative-show-us-the-data/train'\n",
    "test_files_path = '../input/coleridgeinitiative-show-us-the-data/test'"
   ]
  },
  {
   "cell_type": "markdown",
   "id": "fundamental-smell",
   "metadata": {
    "papermill": {
     "duration": 0.095681,
     "end_time": "2024-01-02T10:31:46.855650",
     "exception": false,
     "start_time": "2024-01-02T10:31:46.759969",
     "status": "completed"
    },
    "tags": []
   },
   "source": [
    "<a id='1'></a>\n",
    "## <p style=\"text-align:center;\">Data Description</p>\n",
    "train.csv - labels and metadata for the training set train/test directory - the full text of the training/test set's publications in JSON format, broken into sections with section titles\n",
    "\n",
    "* `id` - publication id - note that there are multiple rows for some training documents, indicating multiple mentioned datasets.\n",
    "* `pub_title` - title of the publication (a small number of publications have the same title).\n",
    "* `dataset_title` - the title of the dataset that is mentioned within the publication.\n",
    "* `dataset_label` - a portion of the text that indicates the dataset.\n",
    "* `cleaned_label` - the dataset_label, as passed through the clean_text function from the Evaluation page.\n",
    "\n",
    "sample_submission.csv - a sample submission file in the correct format.\n",
    "* `Id` - publication id.\n",
    "* `PredictionString` - To be filled with equivalent of cleaned_label of train data."
   ]
  },
  {
   "cell_type": "code",
   "execution_count": 3,
   "id": "radio-partnership",
   "metadata": {
    "execution": {
     "iopub.execute_input": "2024-01-02T10:31:47.066832Z",
     "iopub.status.busy": "2024-01-02T10:31:47.065766Z",
     "iopub.status.idle": "2024-01-02T10:31:47.093552Z",
     "shell.execute_reply": "2024-01-02T10:31:47.094191Z",
     "shell.execute_reply.started": "2021-10-10T20:49:15.335769Z"
    },
    "papermill": {
     "duration": 0.142528,
     "end_time": "2024-01-02T10:31:47.094438",
     "exception": false,
     "start_time": "2024-01-02T10:31:46.951910",
     "status": "completed"
    },
    "tags": []
   },
   "outputs": [
    {
     "data": {
      "text/html": [
       "<div>\n",
       "<style scoped>\n",
       "    .dataframe tbody tr th:only-of-type {\n",
       "        vertical-align: middle;\n",
       "    }\n",
       "\n",
       "    .dataframe tbody tr th {\n",
       "        vertical-align: top;\n",
       "    }\n",
       "\n",
       "    .dataframe thead th {\n",
       "        text-align: right;\n",
       "    }\n",
       "</style>\n",
       "<table border=\"1\" class=\"dataframe\">\n",
       "  <thead>\n",
       "    <tr style=\"text-align: right;\">\n",
       "      <th></th>\n",
       "      <th>Id</th>\n",
       "      <th>pub_title</th>\n",
       "      <th>dataset_title</th>\n",
       "      <th>dataset_label</th>\n",
       "      <th>cleaned_label</th>\n",
       "    </tr>\n",
       "  </thead>\n",
       "  <tbody>\n",
       "    <tr>\n",
       "      <th>0</th>\n",
       "      <td>d0fa7568-7d8e-4db9-870f-f9c6f668c17b</td>\n",
       "      <td>The Impact of Dual Enrollment on College Degre...</td>\n",
       "      <td>National Education Longitudinal Study</td>\n",
       "      <td>National Education Longitudinal Study</td>\n",
       "      <td>national education longitudinal study</td>\n",
       "    </tr>\n",
       "    <tr>\n",
       "      <th>1</th>\n",
       "      <td>2f26f645-3dec-485d-b68d-f013c9e05e60</td>\n",
       "      <td>Educational Attainment of High School Dropouts...</td>\n",
       "      <td>National Education Longitudinal Study</td>\n",
       "      <td>National Education Longitudinal Study</td>\n",
       "      <td>national education longitudinal study</td>\n",
       "    </tr>\n",
       "    <tr>\n",
       "      <th>2</th>\n",
       "      <td>c5d5cd2c-59de-4f29-bbb1-6a88c7b52f29</td>\n",
       "      <td>Differences in Outcomes for Female and Male St...</td>\n",
       "      <td>National Education Longitudinal Study</td>\n",
       "      <td>National Education Longitudinal Study</td>\n",
       "      <td>national education longitudinal study</td>\n",
       "    </tr>\n",
       "    <tr>\n",
       "      <th>3</th>\n",
       "      <td>5c9a3bc9-41ba-4574-ad71-e25c1442c8af</td>\n",
       "      <td>Stepping Stone and Option Value in a Model of ...</td>\n",
       "      <td>National Education Longitudinal Study</td>\n",
       "      <td>National Education Longitudinal Study</td>\n",
       "      <td>national education longitudinal study</td>\n",
       "    </tr>\n",
       "    <tr>\n",
       "      <th>4</th>\n",
       "      <td>c754dec7-c5a3-4337-9892-c02158475064</td>\n",
       "      <td>Parental Effort, School Resources, and Student...</td>\n",
       "      <td>National Education Longitudinal Study</td>\n",
       "      <td>National Education Longitudinal Study</td>\n",
       "      <td>national education longitudinal study</td>\n",
       "    </tr>\n",
       "  </tbody>\n",
       "</table>\n",
       "</div>"
      ],
      "text/plain": [
       "                                     Id  \\\n",
       "0  d0fa7568-7d8e-4db9-870f-f9c6f668c17b   \n",
       "1  2f26f645-3dec-485d-b68d-f013c9e05e60   \n",
       "2  c5d5cd2c-59de-4f29-bbb1-6a88c7b52f29   \n",
       "3  5c9a3bc9-41ba-4574-ad71-e25c1442c8af   \n",
       "4  c754dec7-c5a3-4337-9892-c02158475064   \n",
       "\n",
       "                                           pub_title  \\\n",
       "0  The Impact of Dual Enrollment on College Degre...   \n",
       "1  Educational Attainment of High School Dropouts...   \n",
       "2  Differences in Outcomes for Female and Male St...   \n",
       "3  Stepping Stone and Option Value in a Model of ...   \n",
       "4  Parental Effort, School Resources, and Student...   \n",
       "\n",
       "                           dataset_title  \\\n",
       "0  National Education Longitudinal Study   \n",
       "1  National Education Longitudinal Study   \n",
       "2  National Education Longitudinal Study   \n",
       "3  National Education Longitudinal Study   \n",
       "4  National Education Longitudinal Study   \n",
       "\n",
       "                           dataset_label  \\\n",
       "0  National Education Longitudinal Study   \n",
       "1  National Education Longitudinal Study   \n",
       "2  National Education Longitudinal Study   \n",
       "3  National Education Longitudinal Study   \n",
       "4  National Education Longitudinal Study   \n",
       "\n",
       "                           cleaned_label  \n",
       "0  national education longitudinal study  \n",
       "1  national education longitudinal study  \n",
       "2  national education longitudinal study  \n",
       "3  national education longitudinal study  \n",
       "4  national education longitudinal study  "
      ]
     },
     "execution_count": 3,
     "metadata": {},
     "output_type": "execute_result"
    }
   ],
   "source": [
    "train_df.head()"
   ]
  },
  {
   "cell_type": "markdown",
   "id": "ultimate-husband",
   "metadata": {
    "papermill": {
     "duration": 0.097089,
     "end_time": "2024-01-02T10:31:47.289174",
     "exception": false,
     "start_time": "2024-01-02T10:31:47.192085",
     "status": "completed"
    },
    "tags": []
   },
   "source": [
    "<p style=\"color:blue;font-size:20px;\">📝Great! we don't have any null values.</p>"
   ]
  },
  {
   "cell_type": "markdown",
   "id": "original-armstrong",
   "metadata": {
    "papermill": {
     "duration": 0.097592,
     "end_time": "2024-01-02T10:31:47.483622",
     "exception": false,
     "start_time": "2024-01-02T10:31:47.386030",
     "status": "completed"
    },
    "tags": []
   },
   "source": [
    "### Observations\n",
    "\n",
    "- 1) There are duplicate id's meaning that there are some pulications that are using mutiple datasets. That's why that id is repeating.\n",
    "- 2) Same is the case with pub_title. A single publication is using mutiple datasets.\n",
    "- 3) There is NO one to one mapping of id and pub_title. Meaning that there are cases when two different publications (from two different authors) have same title. Well, interesting!!!\n",
    "- 4) There 45 dataset titles but 130 dataet labels. Meaning that there are some datasets that has multiple labels. We'll look into how these two are related."
   ]
  },
  {
   "cell_type": "markdown",
   "id": "loving-timer",
   "metadata": {
    "papermill": {
     "duration": 0.102829,
     "end_time": "2024-01-02T10:31:47.682767",
     "exception": false,
     "start_time": "2024-01-02T10:31:47.579938",
     "status": "completed"
    },
    "tags": []
   },
   "source": [
    "<p style=\"color: blue;font-size:15px;\">📝 We have duplicate ids but we are not going to remove them from data because one research paper may consist of more than one datasets. Anyhow duplicate ids with respective datasets are shown below</p>"
   ]
  },
  {
   "cell_type": "markdown",
   "id": "sized-anxiety",
   "metadata": {
    "papermill": {
     "duration": 0.099005,
     "end_time": "2024-01-02T10:31:47.880578",
     "exception": false,
     "start_time": "2024-01-02T10:31:47.781573",
     "status": "completed"
    },
    "tags": []
   },
   "source": [
    "<a id='3'></a>\n",
    "# <p style=\"background-color:skyblue; font-family:newtimeroman; font-size:150%; text-align:center; border-radius: 15px 50px;\">3. Data Vizualization</p>"
   ]
  },
  {
   "cell_type": "markdown",
   "id": "employed-killer",
   "metadata": {
    "papermill": {
     "duration": 0.101397,
     "end_time": "2024-01-02T10:31:48.081687",
     "exception": false,
     "start_time": "2024-01-02T10:31:47.980290",
     "status": "completed"
    },
    "tags": []
   },
   "source": [
    "<p style=\"color:blue;font-size:25px;\">📝Merge all text from json into train.csv with colmn name text</p>"
   ]
  },
  {
   "cell_type": "code",
   "execution_count": 4,
   "id": "innovative-confidentiality",
   "metadata": {
    "execution": {
     "iopub.execute_input": "2024-01-02T10:31:48.288599Z",
     "iopub.status.busy": "2024-01-02T10:31:48.287757Z",
     "iopub.status.idle": "2024-01-02T10:31:48.290119Z",
     "shell.execute_reply": "2024-01-02T10:31:48.290715Z",
     "shell.execute_reply.started": "2021-10-10T20:49:15.363166Z"
    },
    "papermill": {
     "duration": 0.112173,
     "end_time": "2024-01-02T10:31:48.290932",
     "exception": false,
     "start_time": "2024-01-02T10:31:48.178759",
     "status": "completed"
    },
    "tags": []
   },
   "outputs": [],
   "source": [
    "def read_append_return(filename, train_files_path=train_files_path, output='text'):\n",
    "    \"\"\"\n",
    "    Function to read json file and then return the text data from them and append to the dataframe\n",
    "    \"\"\"\n",
    "    json_path = os.path.join(train_files_path, (filename+'.json'))\n",
    "    headings = []\n",
    "    contents = []\n",
    "    combined = []\n",
    "    with open(json_path, 'r') as f:\n",
    "        json_decode = json.load(f)\n",
    "        for data in json_decode:\n",
    "            headings.append(data.get('section_title'))\n",
    "            contents.append(data.get('text'))\n",
    "            combined.append(data.get('section_title'))\n",
    "            combined.append(data.get('text'))\n",
    "    \n",
    "    all_headings = ' '.join(headings)\n",
    "    all_contents = ' '.join(contents)\n",
    "    all_data = '. '.join(combined)\n",
    "    \n",
    "    if output == 'text':\n",
    "        return all_contents\n",
    "    elif output == 'head':\n",
    "        return all_headings\n",
    "    else:\n",
    "        return all_data"
   ]
  },
  {
   "cell_type": "markdown",
   "id": "civilian-tissue",
   "metadata": {
    "papermill": {
     "duration": 0.094805,
     "end_time": "2024-01-02T10:31:48.482430",
     "exception": false,
     "start_time": "2024-01-02T10:31:48.387625",
     "status": "completed"
    },
    "tags": []
   },
   "source": [
    "<p style=\"color:blue;font-size:20px;\">📝tqdm is used to show any code running with a progress bar</p>"
   ]
  },
  {
   "cell_type": "code",
   "execution_count": 5,
   "id": "roman-lesson",
   "metadata": {
    "execution": {
     "iopub.execute_input": "2024-01-02T10:31:48.680070Z",
     "iopub.status.busy": "2024-01-02T10:31:48.679267Z",
     "iopub.status.idle": "2024-01-02T10:33:52.047382Z",
     "shell.execute_reply": "2024-01-02T10:33:52.046484Z",
     "shell.execute_reply.started": "2021-10-10T20:49:15.376232Z"
    },
    "papermill": {
     "duration": 123.468418,
     "end_time": "2024-01-02T10:33:52.047612",
     "exception": false,
     "start_time": "2024-01-02T10:31:48.579194",
     "status": "completed"
    },
    "tags": []
   },
   "outputs": [
    {
     "data": {
      "application/vnd.jupyter.widget-view+json": {
       "model_id": "de167dc69b7344f293adb84bbc036cb7",
       "version_major": 2,
       "version_minor": 0
      },
      "text/plain": [
       "  0%|          | 0/19661 [00:00<?, ?it/s]"
      ]
     },
     "metadata": {},
     "output_type": "display_data"
    },
    {
     "name": "stdout",
     "output_type": "stream",
     "text": [
      "CPU times: user 14.7 s, sys: 6.61 s, total: 21.3 s\n",
      "Wall time: 2min 3s\n"
     ]
    }
   ],
   "source": [
    "%%time\n",
    "tqdm.pandas()   \n",
    "train_df['text'] = train_df['Id'].progress_apply(read_append_return)"
   ]
  },
  {
   "cell_type": "markdown",
   "id": "worldwide-florist",
   "metadata": {
    "papermill": {
     "duration": 0.101469,
     "end_time": "2024-01-02T10:33:52.246703",
     "exception": false,
     "start_time": "2024-01-02T10:33:52.145234",
     "status": "completed"
    },
    "tags": []
   },
   "source": [
    "<p style=\"color:blue;font-size:20px;\">📝We have our text appended in our train dataframe</p>"
   ]
  },
  {
   "cell_type": "code",
   "execution_count": 6,
   "id": "cognitive-stick",
   "metadata": {
    "execution": {
     "iopub.execute_input": "2024-01-02T10:33:52.461679Z",
     "iopub.status.busy": "2024-01-02T10:33:52.460870Z",
     "iopub.status.idle": "2024-01-02T10:33:52.465766Z",
     "shell.execute_reply": "2024-01-02T10:33:52.466336Z",
     "shell.execute_reply.started": "2021-10-10T20:50:37.925001Z"
    },
    "papermill": {
     "duration": 0.120213,
     "end_time": "2024-01-02T10:33:52.466580",
     "exception": false,
     "start_time": "2024-01-02T10:33:52.346367",
     "status": "completed"
    },
    "tags": []
   },
   "outputs": [
    {
     "data": {
      "text/html": [
       "<div>\n",
       "<style scoped>\n",
       "    .dataframe tbody tr th:only-of-type {\n",
       "        vertical-align: middle;\n",
       "    }\n",
       "\n",
       "    .dataframe tbody tr th {\n",
       "        vertical-align: top;\n",
       "    }\n",
       "\n",
       "    .dataframe thead th {\n",
       "        text-align: right;\n",
       "    }\n",
       "</style>\n",
       "<table border=\"1\" class=\"dataframe\">\n",
       "  <thead>\n",
       "    <tr style=\"text-align: right;\">\n",
       "      <th></th>\n",
       "      <th>Id</th>\n",
       "      <th>pub_title</th>\n",
       "      <th>dataset_title</th>\n",
       "      <th>dataset_label</th>\n",
       "      <th>cleaned_label</th>\n",
       "      <th>text</th>\n",
       "    </tr>\n",
       "  </thead>\n",
       "  <tbody>\n",
       "    <tr>\n",
       "      <th>0</th>\n",
       "      <td>d0fa7568-7d8e-4db9-870f-f9c6f668c17b</td>\n",
       "      <td>The Impact of Dual Enrollment on College Degre...</td>\n",
       "      <td>National Education Longitudinal Study</td>\n",
       "      <td>National Education Longitudinal Study</td>\n",
       "      <td>national education longitudinal study</td>\n",
       "      <td>This study used data from the National Educati...</td>\n",
       "    </tr>\n",
       "    <tr>\n",
       "      <th>1</th>\n",
       "      <td>2f26f645-3dec-485d-b68d-f013c9e05e60</td>\n",
       "      <td>Educational Attainment of High School Dropouts...</td>\n",
       "      <td>National Education Longitudinal Study</td>\n",
       "      <td>National Education Longitudinal Study</td>\n",
       "      <td>national education longitudinal study</td>\n",
       "      <td>Dropping out of high school is not necessarily...</td>\n",
       "    </tr>\n",
       "    <tr>\n",
       "      <th>2</th>\n",
       "      <td>c5d5cd2c-59de-4f29-bbb1-6a88c7b52f29</td>\n",
       "      <td>Differences in Outcomes for Female and Male St...</td>\n",
       "      <td>National Education Longitudinal Study</td>\n",
       "      <td>National Education Longitudinal Study</td>\n",
       "      <td>national education longitudinal study</td>\n",
       "      <td>, stress satisfactory outcomes for all youth,...</td>\n",
       "    </tr>\n",
       "    <tr>\n",
       "      <th>3</th>\n",
       "      <td>5c9a3bc9-41ba-4574-ad71-e25c1442c8af</td>\n",
       "      <td>Stepping Stone and Option Value in a Model of ...</td>\n",
       "      <td>National Education Longitudinal Study</td>\n",
       "      <td>National Education Longitudinal Study</td>\n",
       "      <td>national education longitudinal study</td>\n",
       "      <td>Federal Reserve Bank of Richmond S1. Accountin...</td>\n",
       "    </tr>\n",
       "    <tr>\n",
       "      <th>4</th>\n",
       "      <td>c754dec7-c5a3-4337-9892-c02158475064</td>\n",
       "      <td>Parental Effort, School Resources, and Student...</td>\n",
       "      <td>National Education Longitudinal Study</td>\n",
       "      <td>National Education Longitudinal Study</td>\n",
       "      <td>national education longitudinal study</td>\n",
       "      <td>This article investigates an important factor ...</td>\n",
       "    </tr>\n",
       "  </tbody>\n",
       "</table>\n",
       "</div>"
      ],
      "text/plain": [
       "                                     Id  \\\n",
       "0  d0fa7568-7d8e-4db9-870f-f9c6f668c17b   \n",
       "1  2f26f645-3dec-485d-b68d-f013c9e05e60   \n",
       "2  c5d5cd2c-59de-4f29-bbb1-6a88c7b52f29   \n",
       "3  5c9a3bc9-41ba-4574-ad71-e25c1442c8af   \n",
       "4  c754dec7-c5a3-4337-9892-c02158475064   \n",
       "\n",
       "                                           pub_title  \\\n",
       "0  The Impact of Dual Enrollment on College Degre...   \n",
       "1  Educational Attainment of High School Dropouts...   \n",
       "2  Differences in Outcomes for Female and Male St...   \n",
       "3  Stepping Stone and Option Value in a Model of ...   \n",
       "4  Parental Effort, School Resources, and Student...   \n",
       "\n",
       "                           dataset_title  \\\n",
       "0  National Education Longitudinal Study   \n",
       "1  National Education Longitudinal Study   \n",
       "2  National Education Longitudinal Study   \n",
       "3  National Education Longitudinal Study   \n",
       "4  National Education Longitudinal Study   \n",
       "\n",
       "                           dataset_label  \\\n",
       "0  National Education Longitudinal Study   \n",
       "1  National Education Longitudinal Study   \n",
       "2  National Education Longitudinal Study   \n",
       "3  National Education Longitudinal Study   \n",
       "4  National Education Longitudinal Study   \n",
       "\n",
       "                           cleaned_label  \\\n",
       "0  national education longitudinal study   \n",
       "1  national education longitudinal study   \n",
       "2  national education longitudinal study   \n",
       "3  national education longitudinal study   \n",
       "4  national education longitudinal study   \n",
       "\n",
       "                                                text  \n",
       "0  This study used data from the National Educati...  \n",
       "1  Dropping out of high school is not necessarily...  \n",
       "2   , stress satisfactory outcomes for all youth,...  \n",
       "3  Federal Reserve Bank of Richmond S1. Accountin...  \n",
       "4  This article investigates an important factor ...  "
      ]
     },
     "execution_count": 6,
     "metadata": {},
     "output_type": "execute_result"
    }
   ],
   "source": [
    "train_df.head()"
   ]
  },
  {
   "cell_type": "code",
   "execution_count": 7,
   "id": "applicable-battlefield",
   "metadata": {
    "execution": {
     "iopub.execute_input": "2024-01-02T10:33:52.671740Z",
     "iopub.status.busy": "2024-01-02T10:33:52.670917Z",
     "iopub.status.idle": "2024-01-02T10:33:52.761328Z",
     "shell.execute_reply": "2024-01-02T10:33:52.761980Z",
     "shell.execute_reply.started": "2021-10-10T20:50:37.941407Z"
    },
    "papermill": {
     "duration": 0.196821,
     "end_time": "2024-01-02T10:33:52.762212",
     "exception": false,
     "start_time": "2024-01-02T10:33:52.565391",
     "status": "completed"
    },
    "tags": []
   },
   "outputs": [
    {
     "data": {
      "application/vnd.jupyter.widget-view+json": {
       "model_id": "a742ecf0e4f44281aac688c70235f7b0",
       "version_major": 2,
       "version_minor": 0
      },
      "text/plain": [
       "  0%|          | 0/4 [00:00<?, ?it/s]"
      ]
     },
     "metadata": {},
     "output_type": "display_data"
    },
    {
     "name": "stdout",
     "output_type": "stream",
     "text": [
      "CPU times: user 49.9 ms, sys: 2.47 ms, total: 52.4 ms\n",
      "Wall time: 85.7 ms\n"
     ]
    }
   ],
   "source": [
    "%%time\n",
    "tqdm.pandas()\n",
    "sample_sub['text'] = sample_sub['Id'].progress_apply(partial(read_append_return, train_files_path=test_files_path))"
   ]
  },
  {
   "cell_type": "markdown",
   "id": "diagnostic-participant",
   "metadata": {
    "papermill": {
     "duration": 0.103326,
     "end_time": "2024-01-02T10:33:52.967354",
     "exception": false,
     "start_time": "2024-01-02T10:33:52.864028",
     "status": "completed"
    },
    "tags": []
   },
   "source": [
    "<p style=\"color:blue;font-size:20px;\">📝Also, we have the text of for the sample_submission file</p>"
   ]
  },
  {
   "cell_type": "code",
   "execution_count": 8,
   "id": "incident-uzbekistan",
   "metadata": {
    "execution": {
     "iopub.execute_input": "2024-01-02T10:33:53.186692Z",
     "iopub.status.busy": "2024-01-02T10:33:53.185502Z",
     "iopub.status.idle": "2024-01-02T10:33:53.190469Z",
     "shell.execute_reply": "2024-01-02T10:33:53.189705Z",
     "shell.execute_reply.started": "2021-10-10T20:50:38.025937Z"
    },
    "papermill": {
     "duration": 0.121542,
     "end_time": "2024-01-02T10:33:53.190659",
     "exception": false,
     "start_time": "2024-01-02T10:33:53.069117",
     "status": "completed"
    },
    "tags": []
   },
   "outputs": [
    {
     "data": {
      "text/html": [
       "<div>\n",
       "<style scoped>\n",
       "    .dataframe tbody tr th:only-of-type {\n",
       "        vertical-align: middle;\n",
       "    }\n",
       "\n",
       "    .dataframe tbody tr th {\n",
       "        vertical-align: top;\n",
       "    }\n",
       "\n",
       "    .dataframe thead th {\n",
       "        text-align: right;\n",
       "    }\n",
       "</style>\n",
       "<table border=\"1\" class=\"dataframe\">\n",
       "  <thead>\n",
       "    <tr style=\"text-align: right;\">\n",
       "      <th></th>\n",
       "      <th>Id</th>\n",
       "      <th>PredictionString</th>\n",
       "      <th>text</th>\n",
       "    </tr>\n",
       "  </thead>\n",
       "  <tbody>\n",
       "    <tr>\n",
       "      <th>0</th>\n",
       "      <td>2100032a-7c33-4bff-97ef-690822c43466</td>\n",
       "      <td>NaN</td>\n",
       "      <td>Cognitive deficits and reduced educational ach...</td>\n",
       "    </tr>\n",
       "    <tr>\n",
       "      <th>1</th>\n",
       "      <td>2f392438-e215-4169-bebf-21ac4ff253e1</td>\n",
       "      <td>NaN</td>\n",
       "      <td>This report describes how the education system...</td>\n",
       "    </tr>\n",
       "    <tr>\n",
       "      <th>2</th>\n",
       "      <td>3f316b38-1a24-45a9-8d8c-4e05a42257c6</td>\n",
       "      <td>NaN</td>\n",
       "      <td>Cape Hatteras National Seashore (CAHA), locate...</td>\n",
       "    </tr>\n",
       "    <tr>\n",
       "      <th>3</th>\n",
       "      <td>8e6996b4-ca08-4c0b-bed2-aaf07a4c6a60</td>\n",
       "      <td>NaN</td>\n",
       "      <td>A significant body of research has been conduc...</td>\n",
       "    </tr>\n",
       "  </tbody>\n",
       "</table>\n",
       "</div>"
      ],
      "text/plain": [
       "                                     Id  PredictionString  \\\n",
       "0  2100032a-7c33-4bff-97ef-690822c43466               NaN   \n",
       "1  2f392438-e215-4169-bebf-21ac4ff253e1               NaN   \n",
       "2  3f316b38-1a24-45a9-8d8c-4e05a42257c6               NaN   \n",
       "3  8e6996b4-ca08-4c0b-bed2-aaf07a4c6a60               NaN   \n",
       "\n",
       "                                                text  \n",
       "0  Cognitive deficits and reduced educational ach...  \n",
       "1  This report describes how the education system...  \n",
       "2  Cape Hatteras National Seashore (CAHA), locate...  \n",
       "3  A significant body of research has been conduc...  "
      ]
     },
     "execution_count": 8,
     "metadata": {},
     "output_type": "execute_result"
    }
   ],
   "source": [
    "sample_sub.head()"
   ]
  },
  {
   "cell_type": "code",
   "execution_count": 9,
   "id": "seventh-patient",
   "metadata": {
    "execution": {
     "iopub.execute_input": "2024-01-02T10:33:53.402875Z",
     "iopub.status.busy": "2024-01-02T10:33:53.402052Z",
     "iopub.status.idle": "2024-01-02T10:33:53.407317Z",
     "shell.execute_reply": "2024-01-02T10:33:53.406694Z",
     "shell.execute_reply.started": "2021-10-10T20:50:38.044953Z"
    },
    "papermill": {
     "duration": 0.115006,
     "end_time": "2024-01-02T10:33:53.407484",
     "exception": false,
     "start_time": "2024-01-02T10:33:53.292478",
     "status": "completed"
    },
    "tags": []
   },
   "outputs": [
    {
     "data": {
      "text/plain": [
       "0    Cognitive deficits and reduced educational ach...\n",
       "1    This report describes how the education system...\n",
       "2    Cape Hatteras National Seashore (CAHA), locate...\n",
       "3    A significant body of research has been conduc...\n",
       "Name: text, dtype: object"
      ]
     },
     "execution_count": 9,
     "metadata": {},
     "output_type": "execute_result"
    }
   ],
   "source": [
    "sample_sub['text']"
   ]
  },
  {
   "cell_type": "markdown",
   "id": "julian-german",
   "metadata": {
    "papermill": {
     "duration": 0.097853,
     "end_time": "2024-01-02T10:33:53.604248",
     "exception": false,
     "start_time": "2024-01-02T10:33:53.506395",
     "status": "completed"
    },
    "tags": []
   },
   "source": [
    "<a id='4'></a>\n",
    "# <p style=\"background-color:skyblue; font-family:newtimeroman; font-size:150%; text-align:center; border-radius: 15px 50px;\">4. Data Cleaning</p>"
   ]
  },
  {
   "cell_type": "code",
   "execution_count": 10,
   "id": "grateful-clearing",
   "metadata": {
    "execution": {
     "iopub.execute_input": "2024-01-02T10:33:53.810391Z",
     "iopub.status.busy": "2024-01-02T10:33:53.809440Z",
     "iopub.status.idle": "2024-01-02T10:33:53.812759Z",
     "shell.execute_reply": "2024-01-02T10:33:53.811992Z",
     "shell.execute_reply.started": "2021-10-10T20:50:38.058552Z"
    },
    "papermill": {
     "duration": 0.110215,
     "end_time": "2024-01-02T10:33:53.812942",
     "exception": false,
     "start_time": "2024-01-02T10:33:53.702727",
     "status": "completed"
    },
    "tags": []
   },
   "outputs": [],
   "source": [
    "def text_cleaning(text):\n",
    "    '''\n",
    "    Converts all text to lower case, Removes special charecters, emojis and multiple spaces\n",
    "    text - Sentence that needs to be cleaned\n",
    "    '''\n",
    "    text = ''.join([k for k in text if k not in string.punctuation])\n",
    "    text = re.sub('r[^\\w\\s]', ' ', str(text).lower()).strip()\n",
    "    lem = nltk.stem.wordnet.WordNetLemmatizer()\n",
    "    text = lem.lemmatize(text)\n",
    "#     text = re.sub('[^A-Za-z0-9]+', ' ', str(text).lower()).strip()\n",
    "#     text = re.sub(\"/'+/g\", ' ', text)\n",
    "    \n",
    "    return text"
   ]
  },
  {
   "cell_type": "code",
   "execution_count": 11,
   "id": "mounted-liberia",
   "metadata": {
    "execution": {
     "iopub.execute_input": "2024-01-02T10:33:54.053086Z",
     "iopub.status.busy": "2024-01-02T10:33:54.052004Z",
     "iopub.status.idle": "2024-01-02T10:37:29.041931Z",
     "shell.execute_reply": "2024-01-02T10:37:29.041303Z",
     "shell.execute_reply.started": "2021-10-10T20:50:38.069947Z"
    },
    "papermill": {
     "duration": 215.130358,
     "end_time": "2024-01-02T10:37:29.042111",
     "exception": false,
     "start_time": "2024-01-02T10:33:53.911753",
     "status": "completed"
    },
    "tags": []
   },
   "outputs": [
    {
     "data": {
      "application/vnd.jupyter.widget-view+json": {
       "model_id": "876d93582ba3483f875bf4cd128a60d3",
       "version_major": 2,
       "version_minor": 0
      },
      "text/plain": [
       "  0%|          | 0/19661 [00:00<?, ?it/s]"
      ]
     },
     "metadata": {},
     "output_type": "display_data"
    },
    {
     "name": "stdout",
     "output_type": "stream",
     "text": [
      "CPU times: user 3min 32s, sys: 2.95 s, total: 3min 35s\n",
      "Wall time: 3min 35s\n"
     ]
    }
   ],
   "source": [
    "%%time\n",
    "tqdm.pandas()\n",
    "train_df['text'] = train_df['text'].progress_apply(text_cleaning)"
   ]
  },
  {
   "cell_type": "markdown",
   "id": "expected-immunology",
   "metadata": {
    "papermill": {
     "duration": 0.10203,
     "end_time": "2024-01-02T10:37:29.243579",
     "exception": false,
     "start_time": "2024-01-02T10:37:29.141549",
     "status": "completed"
    },
    "tags": []
   },
   "source": [
    "<p style=\"color:blue;font-size:20px;\">📝We have our data cleaned!</p>"
   ]
  },
  {
   "cell_type": "code",
   "execution_count": 12,
   "id": "coordinated-agenda",
   "metadata": {
    "execution": {
     "iopub.execute_input": "2024-01-02T10:37:29.456640Z",
     "iopub.status.busy": "2024-01-02T10:37:29.455431Z",
     "iopub.status.idle": "2024-01-02T10:37:29.473681Z",
     "shell.execute_reply": "2024-01-02T10:37:29.474348Z",
     "shell.execute_reply.started": "2021-10-10T20:53:20.6147Z"
    },
    "papermill": {
     "duration": 0.127614,
     "end_time": "2024-01-02T10:37:29.474583",
     "exception": false,
     "start_time": "2024-01-02T10:37:29.346969",
     "status": "completed"
    },
    "tags": []
   },
   "outputs": [
    {
     "data": {
      "text/html": [
       "<div>\n",
       "<style scoped>\n",
       "    .dataframe tbody tr th:only-of-type {\n",
       "        vertical-align: middle;\n",
       "    }\n",
       "\n",
       "    .dataframe tbody tr th {\n",
       "        vertical-align: top;\n",
       "    }\n",
       "\n",
       "    .dataframe thead th {\n",
       "        text-align: right;\n",
       "    }\n",
       "</style>\n",
       "<table border=\"1\" class=\"dataframe\">\n",
       "  <thead>\n",
       "    <tr style=\"text-align: right;\">\n",
       "      <th></th>\n",
       "      <th>Id</th>\n",
       "      <th>pub_title</th>\n",
       "      <th>dataset_title</th>\n",
       "      <th>dataset_label</th>\n",
       "      <th>cleaned_label</th>\n",
       "      <th>text</th>\n",
       "    </tr>\n",
       "  </thead>\n",
       "  <tbody>\n",
       "    <tr>\n",
       "      <th>0</th>\n",
       "      <td>d0fa7568-7d8e-4db9-870f-f9c6f668c17b</td>\n",
       "      <td>The Impact of Dual Enrollment on College Degre...</td>\n",
       "      <td>National Education Longitudinal Study</td>\n",
       "      <td>National Education Longitudinal Study</td>\n",
       "      <td>national education longitudinal study</td>\n",
       "      <td>this study used data from the national educati...</td>\n",
       "    </tr>\n",
       "    <tr>\n",
       "      <th>1</th>\n",
       "      <td>2f26f645-3dec-485d-b68d-f013c9e05e60</td>\n",
       "      <td>Educational Attainment of High School Dropouts...</td>\n",
       "      <td>National Education Longitudinal Study</td>\n",
       "      <td>National Education Longitudinal Study</td>\n",
       "      <td>national education longitudinal study</td>\n",
       "      <td>dropping out of high school is not necessarily...</td>\n",
       "    </tr>\n",
       "    <tr>\n",
       "      <th>2</th>\n",
       "      <td>c5d5cd2c-59de-4f29-bbb1-6a88c7b52f29</td>\n",
       "      <td>Differences in Outcomes for Female and Male St...</td>\n",
       "      <td>National Education Longitudinal Study</td>\n",
       "      <td>National Education Longitudinal Study</td>\n",
       "      <td>national education longitudinal study</td>\n",
       "      <td>stress satisfactory outcomes for all youth inc...</td>\n",
       "    </tr>\n",
       "    <tr>\n",
       "      <th>3</th>\n",
       "      <td>5c9a3bc9-41ba-4574-ad71-e25c1442c8af</td>\n",
       "      <td>Stepping Stone and Option Value in a Model of ...</td>\n",
       "      <td>National Education Longitudinal Study</td>\n",
       "      <td>National Education Longitudinal Study</td>\n",
       "      <td>national education longitudinal study</td>\n",
       "      <td>federal reserve bank of richmond s1 accounting...</td>\n",
       "    </tr>\n",
       "    <tr>\n",
       "      <th>4</th>\n",
       "      <td>c754dec7-c5a3-4337-9892-c02158475064</td>\n",
       "      <td>Parental Effort, School Resources, and Student...</td>\n",
       "      <td>National Education Longitudinal Study</td>\n",
       "      <td>National Education Longitudinal Study</td>\n",
       "      <td>national education longitudinal study</td>\n",
       "      <td>this article investigates an important factor ...</td>\n",
       "    </tr>\n",
       "  </tbody>\n",
       "</table>\n",
       "</div>"
      ],
      "text/plain": [
       "                                     Id  \\\n",
       "0  d0fa7568-7d8e-4db9-870f-f9c6f668c17b   \n",
       "1  2f26f645-3dec-485d-b68d-f013c9e05e60   \n",
       "2  c5d5cd2c-59de-4f29-bbb1-6a88c7b52f29   \n",
       "3  5c9a3bc9-41ba-4574-ad71-e25c1442c8af   \n",
       "4  c754dec7-c5a3-4337-9892-c02158475064   \n",
       "\n",
       "                                           pub_title  \\\n",
       "0  The Impact of Dual Enrollment on College Degre...   \n",
       "1  Educational Attainment of High School Dropouts...   \n",
       "2  Differences in Outcomes for Female and Male St...   \n",
       "3  Stepping Stone and Option Value in a Model of ...   \n",
       "4  Parental Effort, School Resources, and Student...   \n",
       "\n",
       "                           dataset_title  \\\n",
       "0  National Education Longitudinal Study   \n",
       "1  National Education Longitudinal Study   \n",
       "2  National Education Longitudinal Study   \n",
       "3  National Education Longitudinal Study   \n",
       "4  National Education Longitudinal Study   \n",
       "\n",
       "                           dataset_label  \\\n",
       "0  National Education Longitudinal Study   \n",
       "1  National Education Longitudinal Study   \n",
       "2  National Education Longitudinal Study   \n",
       "3  National Education Longitudinal Study   \n",
       "4  National Education Longitudinal Study   \n",
       "\n",
       "                           cleaned_label  \\\n",
       "0  national education longitudinal study   \n",
       "1  national education longitudinal study   \n",
       "2  national education longitudinal study   \n",
       "3  national education longitudinal study   \n",
       "4  national education longitudinal study   \n",
       "\n",
       "                                                text  \n",
       "0  this study used data from the national educati...  \n",
       "1  dropping out of high school is not necessarily...  \n",
       "2  stress satisfactory outcomes for all youth inc...  \n",
       "3  federal reserve bank of richmond s1 accounting...  \n",
       "4  this article investigates an important factor ...  "
      ]
     },
     "execution_count": 12,
     "metadata": {},
     "output_type": "execute_result"
    }
   ],
   "source": [
    "train_df.head()"
   ]
  },
  {
   "cell_type": "code",
   "execution_count": 13,
   "id": "blind-playlist",
   "metadata": {
    "execution": {
     "iopub.execute_input": "2024-01-02T10:37:29.684215Z",
     "iopub.status.busy": "2024-01-02T10:37:29.683083Z",
     "iopub.status.idle": "2024-01-02T10:37:29.693890Z",
     "shell.execute_reply": "2024-01-02T10:37:29.694661Z",
     "shell.execute_reply.started": "2021-10-10T20:53:20.631972Z"
    },
    "papermill": {
     "duration": 0.117722,
     "end_time": "2024-01-02T10:37:29.694900",
     "exception": false,
     "start_time": "2024-01-02T10:37:29.577178",
     "status": "completed"
    },
    "tags": []
   },
   "outputs": [
    {
     "name": "stdout",
     "output_type": "stream",
     "text": [
      "0        this study used data from the national educati...\n",
      "1        dropping out of high school is not necessarily...\n",
      "2        stress satisfactory outcomes for all youth inc...\n",
      "3        federal reserve bank of richmond s1 accounting...\n",
      "4        this article investigates an important factor ...\n",
      "                               ...                        \n",
      "19656    our lives have been fundamentally altered this...\n",
      "19657    the outbreak of the coronavirus disease 2019  ...\n",
      "19658    the ongoing covid19 pandemic has challenged th...\n",
      "19659    deployment of approximative mathematical model...\n",
      "19660    deployment of approximative mathematical model...\n",
      "Name: text, Length: 19661, dtype: object\n"
     ]
    }
   ],
   "source": [
    "text = train_df['text']\n",
    "print(text)"
   ]
  },
  {
   "cell_type": "markdown",
   "id": "protecting-match",
   "metadata": {
    "papermill": {
     "duration": 0.107799,
     "end_time": "2024-01-02T10:37:29.910126",
     "exception": false,
     "start_time": "2024-01-02T10:37:29.802327",
     "status": "completed"
    },
    "tags": []
   },
   "source": [
    "<p style=\"color:blue;font-size:20px;\">📝Remove stop words from <b>cleaned_label</b> of train.csv</p>"
   ]
  },
  {
   "cell_type": "code",
   "execution_count": 14,
   "id": "analyzed-fundamentals",
   "metadata": {
    "execution": {
     "iopub.execute_input": "2024-01-02T10:37:30.127883Z",
     "iopub.status.busy": "2024-01-02T10:37:30.127081Z",
     "iopub.status.idle": "2024-01-02T10:37:30.357282Z",
     "shell.execute_reply": "2024-01-02T10:37:30.356506Z",
     "shell.execute_reply.started": "2021-10-10T20:53:20.649412Z"
    },
    "papermill": {
     "duration": 0.339387,
     "end_time": "2024-01-02T10:37:30.357533",
     "exception": false,
     "start_time": "2024-01-02T10:37:30.018146",
     "status": "completed"
    },
    "tags": []
   },
   "outputs": [],
   "source": [
    "words =list(train_df['cleaned_label'].values)\n",
    "stopwords=['ourselves', 'hers','the','of','and','in', 'between', 'yourself', 'but', 'again','of', 'there', 'about', 'once', 'during', 'out', 'very', 'having', 'with', 'they', 'own', 'an', 'be', 'some', 'for', 'do', 'its', 'yours', 'such', 'into', 'of', 'most', 'itself', 'other', 'off', 'is', 's', 'am', 'or', 'who', 'as', 'from', 'him', 'each', 'the', 'themselves', 'until', 'below', 'are', 'we', 'these', 'your', 'his', 'through', 'don', 'nor', 'me', 'were', 'her', 'more', 'himself', 'this', 'down', 'should', 'our', 'their', 'while', 'above', 'both', 'up', 'to', 'ours', 'had', 'she', 'all', 'no', 'when', 'at', 'any', 'before', 'them', 'same', 'and', 'been', 'have', 'in', 'will', 'on', 'does', 'yourselves', 'then', 'that', 'because', 'what', 'over', 'why', 'so', 'can', 'did', 'not', 'now', 'under', 'he', 'you', 'herself', 'has', 'just', 'where', 'too', 'only', 'myself', 'which', 'those', 'i', 'after', 'few', 'whom', 't', 'being', 'if', 'theirs', 'my', 'against', 'a', 'by', 'doing', 'it', 'how', 'further', 'was', 'here', 'than']\n",
    "split_words=[]\n",
    "for word in words:\n",
    "    lo_w=[]\n",
    "    list_of_words=str(word).split()\n",
    "    for w in list_of_words:\n",
    "        if w not in stopwords:\n",
    "            lo_w.append(w)\n",
    "    split_words.append(lo_w)\n",
    "allwords = []\n",
    "for wordlist in split_words:\n",
    "    allwords += wordlist"
   ]
  },
  {
   "cell_type": "markdown",
   "id": "human-product",
   "metadata": {
    "papermill": {
     "duration": 0.105822,
     "end_time": "2024-01-02T10:37:30.567662",
     "exception": false,
     "start_time": "2024-01-02T10:37:30.461840",
     "status": "completed"
    },
    "tags": []
   },
   "source": [
    "*Command to do a regex substitution*"
   ]
  },
  {
   "cell_type": "code",
   "execution_count": 15,
   "id": "lightweight-pound",
   "metadata": {
    "execution": {
     "iopub.execute_input": "2024-01-02T10:37:30.793114Z",
     "iopub.status.busy": "2024-01-02T10:37:30.792208Z",
     "iopub.status.idle": "2024-01-02T10:37:30.795301Z",
     "shell.execute_reply": "2024-01-02T10:37:30.795944Z",
     "shell.execute_reply.started": "2021-10-10T20:53:20.844801Z"
    },
    "papermill": {
     "duration": 0.123936,
     "end_time": "2024-01-02T10:37:30.796176",
     "exception": false,
     "start_time": "2024-01-02T10:37:30.672240",
     "status": "completed"
    },
    "tags": []
   },
   "outputs": [],
   "source": [
    "def clean_text(txt):\n",
    "    return re.sub('[^A-Za-z0-9]+', ' ', str(txt).lower()).strip()"
   ]
  },
  {
   "cell_type": "markdown",
   "id": "metallic-enemy",
   "metadata": {
    "papermill": {
     "duration": 0.107253,
     "end_time": "2024-01-02T10:37:31.089270",
     "exception": false,
     "start_time": "2024-01-02T10:37:30.982017",
     "status": "completed"
    },
    "tags": []
   },
   "source": [
    "<a id='5'></a>\n",
    "# <p style=\"background-color:skyblue; font-family:newtimeroman; font-size:150%; text-align:center; border-radius: 15px 50px;\">5. Baseline model and Submission</p>"
   ]
  },
  {
   "cell_type": "code",
   "execution_count": 16,
   "id": "composed-gothic",
   "metadata": {
    "execution": {
     "iopub.execute_input": "2024-01-02T10:37:31.306200Z",
     "iopub.status.busy": "2024-01-02T10:37:31.305303Z",
     "iopub.status.idle": "2024-01-02T10:37:31.736460Z",
     "shell.execute_reply": "2024-01-02T10:37:31.737098Z",
     "shell.execute_reply.started": "2021-10-10T20:53:20.852218Z"
    },
    "papermill": {
     "duration": 0.542479,
     "end_time": "2024-01-02T10:37:31.737318",
     "exception": false,
     "start_time": "2024-01-02T10:37:31.194839",
     "status": "completed"
    },
    "tags": []
   },
   "outputs": [
    {
     "data": {
      "application/vnd.jupyter.widget-view+json": {
       "model_id": "8d76fade9445421da6ed277bfa170d11",
       "version_major": 2,
       "version_minor": 0
      },
      "text/plain": [
       "0it [00:00, ?it/s]"
      ]
     },
     "metadata": {},
     "output_type": "display_data"
    }
   ],
   "source": [
    "temp_1 = [x.lower() for x in train_df['dataset_label'].unique()]\n",
    "temp_2 = [x.lower() for x in train_df['dataset_title'].unique()]\n",
    "temp_3 = [x.lower() for x in train_df['cleaned_label'].unique()]\n",
    "\n",
    "existing_labels = set(temp_1 + temp_2 + temp_3)\n",
    "id_list = []\n",
    "lables_list = []\n",
    "for index, row in tqdm(sample_sub.iterrows()):\n",
    "    sample_text = row['text']\n",
    "    row_id = row['Id']\n",
    "    temp_df = train_df[train_df['text'] == text_cleaning(sample_text)]\n",
    "    cleaned_labels = temp_df['cleaned_label'].to_list()\n",
    "    for known_label in existing_labels:\n",
    "        if known_label in sample_text.lower():\n",
    "            cleaned_labels.append(clean_text(known_label))\n",
    "    cleaned_labels = [clean_text(x) for x in cleaned_labels]\n",
    "    cleaned_labels = set(cleaned_labels)\n",
    "    lables_list.append('|'.join(cleaned_labels))\n",
    "    id_list.append(row_id)"
   ]
  },
  {
   "cell_type": "code",
   "execution_count": 17,
   "id": "anonymous-particle",
   "metadata": {
    "execution": {
     "iopub.execute_input": "2024-01-02T10:37:31.945156Z",
     "iopub.status.busy": "2024-01-02T10:37:31.944014Z",
     "iopub.status.idle": "2024-01-02T10:37:31.953638Z",
     "shell.execute_reply": "2024-01-02T10:37:31.952877Z",
     "shell.execute_reply.started": "2021-10-10T20:53:21.262019Z"
    },
    "papermill": {
     "duration": 0.114848,
     "end_time": "2024-01-02T10:37:31.953798",
     "exception": false,
     "start_time": "2024-01-02T10:37:31.838950",
     "status": "completed"
    },
    "tags": []
   },
   "outputs": [],
   "source": [
    "submission1 = pd.DataFrame()\n",
    "submission1['Id'] = id_list\n",
    "submission1['PredictionString'] = lables_list"
   ]
  },
  {
   "cell_type": "code",
   "execution_count": 18,
   "id": "legal-beverage",
   "metadata": {
    "execution": {
     "iopub.execute_input": "2024-01-02T10:37:32.162791Z",
     "iopub.status.busy": "2024-01-02T10:37:32.161755Z",
     "iopub.status.idle": "2024-01-02T10:37:32.173267Z",
     "shell.execute_reply": "2024-01-02T10:37:32.173828Z",
     "shell.execute_reply.started": "2021-10-10T20:53:21.270566Z"
    },
    "papermill": {
     "duration": 0.118075,
     "end_time": "2024-01-02T10:37:32.174036",
     "exception": false,
     "start_time": "2024-01-02T10:37:32.055961",
     "status": "completed"
    },
    "tags": []
   },
   "outputs": [
    {
     "data": {
      "text/html": [
       "<div>\n",
       "<style scoped>\n",
       "    .dataframe tbody tr th:only-of-type {\n",
       "        vertical-align: middle;\n",
       "    }\n",
       "\n",
       "    .dataframe tbody tr th {\n",
       "        vertical-align: top;\n",
       "    }\n",
       "\n",
       "    .dataframe thead th {\n",
       "        text-align: right;\n",
       "    }\n",
       "</style>\n",
       "<table border=\"1\" class=\"dataframe\">\n",
       "  <thead>\n",
       "    <tr style=\"text-align: right;\">\n",
       "      <th></th>\n",
       "      <th>Id</th>\n",
       "      <th>PredictionString</th>\n",
       "    </tr>\n",
       "  </thead>\n",
       "  <tbody>\n",
       "    <tr>\n",
       "      <th>0</th>\n",
       "      <td>2100032a-7c33-4bff-97ef-690822c43466</td>\n",
       "      <td>adni|alzheimer s disease neuroimaging initiati...</td>\n",
       "    </tr>\n",
       "    <tr>\n",
       "      <th>1</th>\n",
       "      <td>2f392438-e215-4169-bebf-21ac4ff253e1</td>\n",
       "      <td>common core of data|trends in international ma...</td>\n",
       "    </tr>\n",
       "    <tr>\n",
       "      <th>2</th>\n",
       "      <td>3f316b38-1a24-45a9-8d8c-4e05a42257c6</td>\n",
       "      <td>noaa storm surge inundation|sea lake and overl...</td>\n",
       "    </tr>\n",
       "    <tr>\n",
       "      <th>3</th>\n",
       "      <td>8e6996b4-ca08-4c0b-bed2-aaf07a4c6a60</td>\n",
       "      <td>rural urban continuum codes</td>\n",
       "    </tr>\n",
       "  </tbody>\n",
       "</table>\n",
       "</div>"
      ],
      "text/plain": [
       "                                     Id  \\\n",
       "0  2100032a-7c33-4bff-97ef-690822c43466   \n",
       "1  2f392438-e215-4169-bebf-21ac4ff253e1   \n",
       "2  3f316b38-1a24-45a9-8d8c-4e05a42257c6   \n",
       "3  8e6996b4-ca08-4c0b-bed2-aaf07a4c6a60   \n",
       "\n",
       "                                    PredictionString  \n",
       "0  adni|alzheimer s disease neuroimaging initiati...  \n",
       "1  common core of data|trends in international ma...  \n",
       "2  noaa storm surge inundation|sea lake and overl...  \n",
       "3                        rural urban continuum codes  "
      ]
     },
     "execution_count": 18,
     "metadata": {},
     "output_type": "execute_result"
    }
   ],
   "source": [
    "submission1.head()"
   ]
  },
  {
   "cell_type": "code",
   "execution_count": 19,
   "id": "eleven-kenya",
   "metadata": {
    "execution": {
     "iopub.execute_input": "2024-01-02T10:37:32.391823Z",
     "iopub.status.busy": "2024-01-02T10:37:32.390997Z",
     "iopub.status.idle": "2024-01-02T10:37:41.403837Z",
     "shell.execute_reply": "2024-01-02T10:37:41.404724Z",
     "shell.execute_reply.started": "2021-10-10T20:53:21.288033Z"
    },
    "papermill": {
     "duration": 9.122563,
     "end_time": "2024-01-02T10:37:41.404992",
     "exception": false,
     "start_time": "2024-01-02T10:37:32.282429",
     "status": "completed"
    },
    "tags": []
   },
   "outputs": [],
   "source": [
    "from spacy import displacy\n",
    "from collections import Counter\n",
    "import en_core_web_lg\n",
    "nlp = en_core_web_lg.load()"
   ]
  },
  {
   "cell_type": "code",
   "execution_count": 20,
   "id": "disturbed-consumer",
   "metadata": {
    "execution": {
     "iopub.execute_input": "2024-01-02T10:37:41.638334Z",
     "iopub.status.busy": "2024-01-02T10:37:41.637015Z",
     "iopub.status.idle": "2024-01-02T10:37:41.649023Z",
     "shell.execute_reply": "2024-01-02T10:37:41.649793Z",
     "shell.execute_reply.started": "2021-10-10T20:53:28.718176Z"
    },
    "papermill": {
     "duration": 0.12706,
     "end_time": "2024-01-02T10:37:41.650053",
     "exception": false,
     "start_time": "2024-01-02T10:37:41.522993",
     "status": "completed"
    },
    "tags": []
   },
   "outputs": [],
   "source": [
    "sample_sub2 = pd.read_csv('../input/coleridgeinitiative-show-us-the-data/sample_submission.csv')"
   ]
  },
  {
   "cell_type": "code",
   "execution_count": 21,
   "id": "married-europe",
   "metadata": {
    "execution": {
     "iopub.execute_input": "2024-01-02T10:37:41.870768Z",
     "iopub.status.busy": "2024-01-02T10:37:41.869448Z",
     "iopub.status.idle": "2024-01-02T10:37:41.932930Z",
     "shell.execute_reply": "2024-01-02T10:37:41.932252Z",
     "shell.execute_reply.started": "2021-10-10T20:53:28.731582Z"
    },
    "papermill": {
     "duration": 0.177766,
     "end_time": "2024-01-02T10:37:41.933124",
     "exception": false,
     "start_time": "2024-01-02T10:37:41.755358",
     "status": "completed"
    },
    "tags": []
   },
   "outputs": [
    {
     "data": {
      "application/vnd.jupyter.widget-view+json": {
       "model_id": "c4652cdb6feb4fc3873f682a893db04d",
       "version_major": 2,
       "version_minor": 0
      },
      "text/plain": [
       "  0%|          | 0/4 [00:00<?, ?it/s]"
      ]
     },
     "metadata": {},
     "output_type": "display_data"
    },
    {
     "name": "stdout",
     "output_type": "stream",
     "text": [
      "CPU times: user 48.7 ms, sys: 2.94 ms, total: 51.6 ms\n",
      "Wall time: 52.6 ms\n"
     ]
    }
   ],
   "source": [
    "%%time\n",
    "tqdm.pandas()\n",
    "sample_sub2['text'] = sample_sub2['Id'].progress_apply(partial(read_append_return, train_files_path=test_files_path))"
   ]
  },
  {
   "cell_type": "code",
   "execution_count": 22,
   "id": "running-tuesday",
   "metadata": {
    "execution": {
     "iopub.execute_input": "2024-01-02T10:37:42.179984Z",
     "iopub.status.busy": "2024-01-02T10:37:42.178791Z",
     "iopub.status.idle": "2024-01-02T10:37:42.184314Z",
     "shell.execute_reply": "2024-01-02T10:37:42.183541Z",
     "shell.execute_reply.started": "2021-10-10T20:53:28.802428Z"
    },
    "papermill": {
     "duration": 0.143744,
     "end_time": "2024-01-02T10:37:42.184491",
     "exception": false,
     "start_time": "2024-01-02T10:37:42.040747",
     "status": "completed"
    },
    "tags": []
   },
   "outputs": [
    {
     "data": {
      "text/html": [
       "<div>\n",
       "<style scoped>\n",
       "    .dataframe tbody tr th:only-of-type {\n",
       "        vertical-align: middle;\n",
       "    }\n",
       "\n",
       "    .dataframe tbody tr th {\n",
       "        vertical-align: top;\n",
       "    }\n",
       "\n",
       "    .dataframe thead th {\n",
       "        text-align: right;\n",
       "    }\n",
       "</style>\n",
       "<table border=\"1\" class=\"dataframe\">\n",
       "  <thead>\n",
       "    <tr style=\"text-align: right;\">\n",
       "      <th></th>\n",
       "      <th>Id</th>\n",
       "      <th>PredictionString</th>\n",
       "      <th>text</th>\n",
       "    </tr>\n",
       "  </thead>\n",
       "  <tbody>\n",
       "    <tr>\n",
       "      <th>0</th>\n",
       "      <td>2100032a-7c33-4bff-97ef-690822c43466</td>\n",
       "      <td>NaN</td>\n",
       "      <td>Cognitive deficits and reduced educational ach...</td>\n",
       "    </tr>\n",
       "    <tr>\n",
       "      <th>1</th>\n",
       "      <td>2f392438-e215-4169-bebf-21ac4ff253e1</td>\n",
       "      <td>NaN</td>\n",
       "      <td>This report describes how the education system...</td>\n",
       "    </tr>\n",
       "    <tr>\n",
       "      <th>2</th>\n",
       "      <td>3f316b38-1a24-45a9-8d8c-4e05a42257c6</td>\n",
       "      <td>NaN</td>\n",
       "      <td>Cape Hatteras National Seashore CAHA located a...</td>\n",
       "    </tr>\n",
       "    <tr>\n",
       "      <th>3</th>\n",
       "      <td>8e6996b4-ca08-4c0b-bed2-aaf07a4c6a60</td>\n",
       "      <td>NaN</td>\n",
       "      <td>A significant body of research has been conduc...</td>\n",
       "    </tr>\n",
       "  </tbody>\n",
       "</table>\n",
       "</div>"
      ],
      "text/plain": [
       "                                     Id  PredictionString  \\\n",
       "0  2100032a-7c33-4bff-97ef-690822c43466               NaN   \n",
       "1  2f392438-e215-4169-bebf-21ac4ff253e1               NaN   \n",
       "2  3f316b38-1a24-45a9-8d8c-4e05a42257c6               NaN   \n",
       "3  8e6996b4-ca08-4c0b-bed2-aaf07a4c6a60               NaN   \n",
       "\n",
       "                                                text  \n",
       "0  Cognitive deficits and reduced educational ach...  \n",
       "1  This report describes how the education system...  \n",
       "2  Cape Hatteras National Seashore CAHA located a...  \n",
       "3  A significant body of research has been conduc...  "
      ]
     },
     "execution_count": 22,
     "metadata": {},
     "output_type": "execute_result"
    }
   ],
   "source": [
    "sample_sub2['text'] = sample_sub2['text'].str.replace('[^\\w\\s]','')\n",
    "sample_sub2.head()"
   ]
  },
  {
   "cell_type": "code",
   "execution_count": 23,
   "id": "crazy-monte",
   "metadata": {
    "execution": {
     "iopub.execute_input": "2024-01-02T10:37:42.404565Z",
     "iopub.status.busy": "2024-01-02T10:37:42.402482Z",
     "iopub.status.idle": "2024-01-02T10:37:42.408507Z",
     "shell.execute_reply": "2024-01-02T10:37:42.407864Z",
     "shell.execute_reply.started": "2021-10-10T20:53:28.838502Z"
    },
    "papermill": {
     "duration": 0.117071,
     "end_time": "2024-01-02T10:37:42.408706",
     "exception": false,
     "start_time": "2024-01-02T10:37:42.291635",
     "status": "completed"
    },
    "tags": []
   },
   "outputs": [],
   "source": [
    "#del train_df\n",
    "# del sample_sub"
   ]
  },
  {
   "cell_type": "code",
   "execution_count": 24,
   "id": "pointed-funeral",
   "metadata": {
    "execution": {
     "iopub.execute_input": "2024-01-02T10:37:42.625498Z",
     "iopub.status.busy": "2024-01-02T10:37:42.624694Z",
     "iopub.status.idle": "2024-01-02T10:37:42.640700Z",
     "shell.execute_reply": "2024-01-02T10:37:42.640006Z",
     "shell.execute_reply.started": "2021-10-10T20:53:28.852502Z"
    },
    "papermill": {
     "duration": 0.124176,
     "end_time": "2024-01-02T10:37:42.640885",
     "exception": false,
     "start_time": "2024-01-02T10:37:42.516709",
     "status": "completed"
    },
    "tags": []
   },
   "outputs": [
    {
     "data": {
      "text/html": [
       "<div>\n",
       "<style scoped>\n",
       "    .dataframe tbody tr th:only-of-type {\n",
       "        vertical-align: middle;\n",
       "    }\n",
       "\n",
       "    .dataframe tbody tr th {\n",
       "        vertical-align: top;\n",
       "    }\n",
       "\n",
       "    .dataframe thead th {\n",
       "        text-align: right;\n",
       "    }\n",
       "</style>\n",
       "<table border=\"1\" class=\"dataframe\">\n",
       "  <thead>\n",
       "    <tr style=\"text-align: right;\">\n",
       "      <th></th>\n",
       "      <th>Id</th>\n",
       "      <th>PredictionString</th>\n",
       "      <th>text</th>\n",
       "    </tr>\n",
       "  </thead>\n",
       "  <tbody>\n",
       "    <tr>\n",
       "      <th>0</th>\n",
       "      <td>2100032a-7c33-4bff-97ef-690822c43466</td>\n",
       "      <td>NaN</td>\n",
       "      <td>Cognitive deficits and reduced educational ach...</td>\n",
       "    </tr>\n",
       "    <tr>\n",
       "      <th>1</th>\n",
       "      <td>2f392438-e215-4169-bebf-21ac4ff253e1</td>\n",
       "      <td>NaN</td>\n",
       "      <td>This report describes how the education system...</td>\n",
       "    </tr>\n",
       "    <tr>\n",
       "      <th>2</th>\n",
       "      <td>3f316b38-1a24-45a9-8d8c-4e05a42257c6</td>\n",
       "      <td>NaN</td>\n",
       "      <td>Cape Hatteras National Seashore CAHA located a...</td>\n",
       "    </tr>\n",
       "    <tr>\n",
       "      <th>3</th>\n",
       "      <td>8e6996b4-ca08-4c0b-bed2-aaf07a4c6a60</td>\n",
       "      <td>NaN</td>\n",
       "      <td>A significant body of research has been conduc...</td>\n",
       "    </tr>\n",
       "  </tbody>\n",
       "</table>\n",
       "</div>"
      ],
      "text/plain": [
       "                                     Id  PredictionString  \\\n",
       "0  2100032a-7c33-4bff-97ef-690822c43466               NaN   \n",
       "1  2f392438-e215-4169-bebf-21ac4ff253e1               NaN   \n",
       "2  3f316b38-1a24-45a9-8d8c-4e05a42257c6               NaN   \n",
       "3  8e6996b4-ca08-4c0b-bed2-aaf07a4c6a60               NaN   \n",
       "\n",
       "                                                text  \n",
       "0  Cognitive deficits and reduced educational ach...  \n",
       "1  This report describes how the education system...  \n",
       "2  Cape Hatteras National Seashore CAHA located a...  \n",
       "3  A significant body of research has been conduc...  "
      ]
     },
     "execution_count": 24,
     "metadata": {},
     "output_type": "execute_result"
    }
   ],
   "source": [
    "sample_sub2.head()"
   ]
  },
  {
   "cell_type": "code",
   "execution_count": 25,
   "id": "stopped-imaging",
   "metadata": {
    "execution": {
     "iopub.execute_input": "2024-01-02T10:37:43.158903Z",
     "iopub.status.busy": "2024-01-02T10:37:43.158099Z",
     "iopub.status.idle": "2024-01-02T10:37:43.163024Z",
     "shell.execute_reply": "2024-01-02T10:37:43.162401Z",
     "shell.execute_reply.started": "2021-10-10T20:53:28.872813Z"
    },
    "papermill": {
     "duration": 0.414737,
     "end_time": "2024-01-02T10:37:43.163185",
     "exception": false,
     "start_time": "2024-01-02T10:37:42.748448",
     "status": "completed"
    },
    "tags": []
   },
   "outputs": [
    {
     "data": {
      "text/plain": [
       "134"
      ]
     },
     "execution_count": 25,
     "metadata": {},
     "output_type": "execute_result"
    }
   ],
   "source": [
    "import gc\n",
    "gc.collect()"
   ]
  },
  {
   "cell_type": "code",
   "execution_count": 26,
   "id": "pending-toolbox",
   "metadata": {
    "execution": {
     "iopub.execute_input": "2024-01-02T10:37:43.381354Z",
     "iopub.status.busy": "2024-01-02T10:37:43.380607Z",
     "iopub.status.idle": "2024-01-02T10:37:43.395004Z",
     "shell.execute_reply": "2024-01-02T10:37:43.395815Z",
     "shell.execute_reply.started": "2021-10-10T20:53:29.069Z"
    },
    "papermill": {
     "duration": 0.124561,
     "end_time": "2024-01-02T10:37:43.396033",
     "exception": false,
     "start_time": "2024-01-02T10:37:43.271472",
     "status": "completed"
    },
    "tags": []
   },
   "outputs": [],
   "source": [
    "datalist = pd.read_csv('../input/para-data/datalist.csv')"
   ]
  },
  {
   "cell_type": "code",
   "execution_count": 27,
   "id": "accredited-liberia",
   "metadata": {
    "execution": {
     "iopub.execute_input": "2024-01-02T10:37:43.617211Z",
     "iopub.status.busy": "2024-01-02T10:37:43.616397Z",
     "iopub.status.idle": "2024-01-02T10:37:43.629567Z",
     "shell.execute_reply": "2024-01-02T10:37:43.628758Z",
     "shell.execute_reply.started": "2021-10-10T20:53:29.094974Z"
    },
    "papermill": {
     "duration": 0.125992,
     "end_time": "2024-01-02T10:37:43.629739",
     "exception": false,
     "start_time": "2024-01-02T10:37:43.503747",
     "status": "completed"
    },
    "tags": []
   },
   "outputs": [
    {
     "data": {
      "text/html": [
       "<div>\n",
       "<style scoped>\n",
       "    .dataframe tbody tr th:only-of-type {\n",
       "        vertical-align: middle;\n",
       "    }\n",
       "\n",
       "    .dataframe tbody tr th {\n",
       "        vertical-align: top;\n",
       "    }\n",
       "\n",
       "    .dataframe thead th {\n",
       "        text-align: right;\n",
       "    }\n",
       "</style>\n",
       "<table border=\"1\" class=\"dataframe\">\n",
       "  <thead>\n",
       "    <tr style=\"text-align: right;\">\n",
       "      <th></th>\n",
       "      <th>Data</th>\n",
       "    </tr>\n",
       "  </thead>\n",
       "  <tbody>\n",
       "    <tr>\n",
       "      <th>0</th>\n",
       "      <td>HBCS</td>\n",
       "    </tr>\n",
       "    <tr>\n",
       "      <th>1</th>\n",
       "      <td>CHS</td>\n",
       "    </tr>\n",
       "    <tr>\n",
       "      <th>2</th>\n",
       "      <td>NCNG</td>\n",
       "    </tr>\n",
       "    <tr>\n",
       "      <th>3</th>\n",
       "      <td>ADNI</td>\n",
       "    </tr>\n",
       "    <tr>\n",
       "      <th>4</th>\n",
       "      <td>OECD</td>\n",
       "    </tr>\n",
       "  </tbody>\n",
       "</table>\n",
       "</div>"
      ],
      "text/plain": [
       "   Data\n",
       "0  HBCS\n",
       "1   CHS\n",
       "2  NCNG\n",
       "3  ADNI\n",
       "4  OECD"
      ]
     },
     "execution_count": 27,
     "metadata": {},
     "output_type": "execute_result"
    }
   ],
   "source": [
    "datalist.head()"
   ]
  },
  {
   "cell_type": "code",
   "execution_count": 28,
   "id": "referenced-garbage",
   "metadata": {
    "execution": {
     "iopub.execute_input": "2024-01-02T10:37:43.851460Z",
     "iopub.status.busy": "2024-01-02T10:37:43.850592Z",
     "iopub.status.idle": "2024-01-02T10:37:43.854977Z",
     "shell.execute_reply": "2024-01-02T10:37:43.855585Z",
     "shell.execute_reply.started": "2021-10-10T20:53:29.105484Z"
    },
    "papermill": {
     "duration": 0.118654,
     "end_time": "2024-01-02T10:37:43.855812",
     "exception": false,
     "start_time": "2024-01-02T10:37:43.737158",
     "status": "completed"
    },
    "tags": []
   },
   "outputs": [
    {
     "name": "stdout",
     "output_type": "stream",
     "text": [
      "0                                                  HBCS\n",
      "1                                                   CHS\n",
      "2                                                  NCNG\n",
      "3                                                  ADNI\n",
      "4                                                  OECD\n",
      "5                                                  PISA\n",
      "6                                                   CPS\n",
      "7                                                   CCD\n",
      "8                                                 IPEDS\n",
      "9                                                   NPS\n",
      "10                                               SLRRMS\n",
      "11                                                  IRI\n",
      "12                                                  CNP\n",
      "13                                                  CES\n",
      "14                                                  FMI\n",
      "15                     Helsinki Birth Cohort Study HBCS\n",
      "16                      Cardiovascular Health Study CHS\n",
      "17               Norwegian Cognitive NeuroGenetics NCNG\n",
      "18      Alzheimers Disease Neuroimaging Initiative ADNI\n",
      "19    Organization for Economic Cooperation and Deve...\n",
      "20    Program for International Student Assessment PISA\n",
      "21                        Current Population Survey CPS\n",
      "22                              Common Core of Data CCD\n",
      "23    Integrated Postsecondary Education Data System...\n",
      "24                 OECD National Accounts Database OECD\n",
      "25                            National Park Service NPS\n",
      "26          Sea Level Rise Risk Management Study SLRRMS\n",
      "27                Information Resource Incorporated IRI\n",
      "28                           Consumer Network Panel CNP\n",
      "29                      Consumer Expenditure Survey CES\n",
      "30                         Food Marketing Institute FMI\n",
      "31    Trends in International Mathematics and Scienc...\n",
      "32    Sea Lake and Overland Surges from Hurricanes S...\n",
      "33     National Oceanic Atmospheric Administration NOAA\n",
      "34                        Economic Research Service ERS\n",
      "35                                                TIMSS\n",
      "36                                                  PPP\n",
      "37                                                SLOSH\n",
      "38                                                 NOAA\n",
      "39                                                  ERS\n",
      "Name: Data, dtype: object\n"
     ]
    }
   ],
   "source": [
    "datasetLabels= datalist['Data']\n",
    "print(datasetLabels)"
   ]
  },
  {
   "cell_type": "code",
   "execution_count": 29,
   "id": "freelance-cedar",
   "metadata": {
    "execution": {
     "iopub.execute_input": "2024-01-02T10:37:44.089512Z",
     "iopub.status.busy": "2024-01-02T10:37:44.088739Z",
     "iopub.status.idle": "2024-01-02T10:37:44.095221Z",
     "shell.execute_reply": "2024-01-02T10:37:44.095952Z",
     "shell.execute_reply.started": "2021-10-10T20:53:29.120268Z"
    },
    "papermill": {
     "duration": 0.130223,
     "end_time": "2024-01-02T10:37:44.096174",
     "exception": false,
     "start_time": "2024-01-02T10:37:43.965951",
     "status": "completed"
    },
    "tags": []
   },
   "outputs": [
    {
     "name": "stdout",
     "output_type": "stream",
     "text": [
      "[('2100032a-7c33-4bff-97ef-690822c43466', 'HBCS'), ('2100032a-7c33-4bff-97ef-690822c43466', 'CHS'), ('2100032a-7c33-4bff-97ef-690822c43466', 'NCNG'), ('2100032a-7c33-4bff-97ef-690822c43466', 'ADNI'), ('2100032a-7c33-4bff-97ef-690822c43466', 'Helsinki Birth Cohort Study HBCS'), ('2100032a-7c33-4bff-97ef-690822c43466', 'Cardiovascular Health Study CHS'), ('2100032a-7c33-4bff-97ef-690822c43466', 'Norwegian Cognitive NeuroGenetics NCNG'), ('2100032a-7c33-4bff-97ef-690822c43466', 'Alzheimers Disease Neuroimaging Initiative ADNI'), ('2f392438-e215-4169-bebf-21ac4ff253e1', 'OECD'), ('2f392438-e215-4169-bebf-21ac4ff253e1', 'PISA'), ('2f392438-e215-4169-bebf-21ac4ff253e1', 'CPS'), ('2f392438-e215-4169-bebf-21ac4ff253e1', 'CCD'), ('2f392438-e215-4169-bebf-21ac4ff253e1', 'IPEDS'), ('2f392438-e215-4169-bebf-21ac4ff253e1', 'CES'), ('2f392438-e215-4169-bebf-21ac4ff253e1', 'Organization for Economic Cooperation and Development OECD'), ('2f392438-e215-4169-bebf-21ac4ff253e1', 'Program for International Student Assessment PISA'), ('2f392438-e215-4169-bebf-21ac4ff253e1', 'Current Population Survey CPS'), ('2f392438-e215-4169-bebf-21ac4ff253e1', 'Common Core of Data CCD'), ('2f392438-e215-4169-bebf-21ac4ff253e1', 'Integrated Postsecondary Education Data System IPEDS'), ('2f392438-e215-4169-bebf-21ac4ff253e1', 'OECD National Accounts Database OECD'), ('2f392438-e215-4169-bebf-21ac4ff253e1', 'Trends in International Mathematics and Science Study TIMSS'), ('2f392438-e215-4169-bebf-21ac4ff253e1', 'TIMSS'), ('2f392438-e215-4169-bebf-21ac4ff253e1', 'PPP'), ('3f316b38-1a24-45a9-8d8c-4e05a42257c6', 'NPS'), ('3f316b38-1a24-45a9-8d8c-4e05a42257c6', 'SLRRMS'), ('3f316b38-1a24-45a9-8d8c-4e05a42257c6', 'National Park Service NPS'), ('3f316b38-1a24-45a9-8d8c-4e05a42257c6', 'Sea Level Rise Risk Management Study SLRRMS'), ('3f316b38-1a24-45a9-8d8c-4e05a42257c6', 'Sea Lake and Overland Surges from Hurricanes SLOSH'), ('3f316b38-1a24-45a9-8d8c-4e05a42257c6', 'National Oceanic Atmospheric Administration NOAA'), ('3f316b38-1a24-45a9-8d8c-4e05a42257c6', 'SLOSH'), ('3f316b38-1a24-45a9-8d8c-4e05a42257c6', 'NOAA'), ('8e6996b4-ca08-4c0b-bed2-aaf07a4c6a60', 'IRI'), ('8e6996b4-ca08-4c0b-bed2-aaf07a4c6a60', 'CNP'), ('8e6996b4-ca08-4c0b-bed2-aaf07a4c6a60', 'CES'), ('8e6996b4-ca08-4c0b-bed2-aaf07a4c6a60', 'FMI'), ('8e6996b4-ca08-4c0b-bed2-aaf07a4c6a60', 'Information Resource Incorporated IRI'), ('8e6996b4-ca08-4c0b-bed2-aaf07a4c6a60', 'Consumer Network Panel CNP'), ('8e6996b4-ca08-4c0b-bed2-aaf07a4c6a60', 'Consumer Expenditure Survey CES'), ('8e6996b4-ca08-4c0b-bed2-aaf07a4c6a60', 'Food Marketing Institute FMI'), ('8e6996b4-ca08-4c0b-bed2-aaf07a4c6a60', 'Economic Research Service ERS'), ('8e6996b4-ca08-4c0b-bed2-aaf07a4c6a60', 'ERS')]\n"
     ]
    }
   ],
   "source": [
    "a = [(x,i) for x, y in zip(sample_sub2['Id'],sample_sub2['text']) for i in datasetLabels if i in y]\n",
    "print (a)"
   ]
  },
  {
   "cell_type": "code",
   "execution_count": 30,
   "id": "automatic-terror",
   "metadata": {
    "execution": {
     "iopub.execute_input": "2024-01-02T10:37:44.323134Z",
     "iopub.status.busy": "2024-01-02T10:37:44.322352Z",
     "iopub.status.idle": "2024-01-02T10:37:44.354170Z",
     "shell.execute_reply": "2024-01-02T10:37:44.353266Z",
     "shell.execute_reply.started": "2021-10-10T20:53:29.136037Z"
    },
    "papermill": {
     "duration": 0.147752,
     "end_time": "2024-01-02T10:37:44.354363",
     "exception": false,
     "start_time": "2024-01-02T10:37:44.206611",
     "status": "completed"
    },
    "tags": []
   },
   "outputs": [
    {
     "data": {
      "text/html": [
       "<div>\n",
       "<style scoped>\n",
       "    .dataframe tbody tr th:only-of-type {\n",
       "        vertical-align: middle;\n",
       "    }\n",
       "\n",
       "    .dataframe tbody tr th {\n",
       "        vertical-align: top;\n",
       "    }\n",
       "\n",
       "    .dataframe thead th {\n",
       "        text-align: right;\n",
       "    }\n",
       "</style>\n",
       "<table border=\"1\" class=\"dataframe\">\n",
       "  <thead>\n",
       "    <tr style=\"text-align: right;\">\n",
       "      <th></th>\n",
       "      <th>Id</th>\n",
       "      <th>PredictionString</th>\n",
       "    </tr>\n",
       "  </thead>\n",
       "  <tbody>\n",
       "    <tr>\n",
       "      <th>0</th>\n",
       "      <td>2100032a-7c33-4bff-97ef-690822c43466</td>\n",
       "      <td>HBCS|CHS|NCNG|ADNI|Helsinki Birth Cohort Study...</td>\n",
       "    </tr>\n",
       "    <tr>\n",
       "      <th>1</th>\n",
       "      <td>2f392438-e215-4169-bebf-21ac4ff253e1</td>\n",
       "      <td>OECD|PISA|CPS|CCD|IPEDS|CES|Organization for E...</td>\n",
       "    </tr>\n",
       "    <tr>\n",
       "      <th>2</th>\n",
       "      <td>3f316b38-1a24-45a9-8d8c-4e05a42257c6</td>\n",
       "      <td>NPS|SLRRMS|National Park Service NPS|Sea Level...</td>\n",
       "    </tr>\n",
       "    <tr>\n",
       "      <th>3</th>\n",
       "      <td>8e6996b4-ca08-4c0b-bed2-aaf07a4c6a60</td>\n",
       "      <td>IRI|CNP|CES|FMI|Information Resource Incorpora...</td>\n",
       "    </tr>\n",
       "  </tbody>\n",
       "</table>\n",
       "</div>"
      ],
      "text/plain": [
       "                                     Id  \\\n",
       "0  2100032a-7c33-4bff-97ef-690822c43466   \n",
       "1  2f392438-e215-4169-bebf-21ac4ff253e1   \n",
       "2  3f316b38-1a24-45a9-8d8c-4e05a42257c6   \n",
       "3  8e6996b4-ca08-4c0b-bed2-aaf07a4c6a60   \n",
       "\n",
       "                                    PredictionString  \n",
       "0  HBCS|CHS|NCNG|ADNI|Helsinki Birth Cohort Study...  \n",
       "1  OECD|PISA|CPS|CCD|IPEDS|CES|Organization for E...  \n",
       "2  NPS|SLRRMS|National Park Service NPS|Sea Level...  \n",
       "3  IRI|CNP|CES|FMI|Information Resource Incorpora...  "
      ]
     },
     "execution_count": 30,
     "metadata": {},
     "output_type": "execute_result"
    }
   ],
   "source": [
    "sample_sub2 = pd.DataFrame(a, columns=['Id', 'PredictionString'])\n",
    "sample_sub2 = sample_sub2.groupby('Id').agg({'PredictionString': '|'.join}).reset_index()\n",
    "sample_sub2.head()"
   ]
  },
  {
   "cell_type": "code",
   "execution_count": 31,
   "id": "corporate-radical",
   "metadata": {
    "execution": {
     "iopub.execute_input": "2024-01-02T10:37:44.586429Z",
     "iopub.status.busy": "2024-01-02T10:37:44.585484Z",
     "iopub.status.idle": "2024-01-02T10:37:44.588419Z",
     "shell.execute_reply": "2024-01-02T10:37:44.589149Z",
     "shell.execute_reply.started": "2021-10-10T20:53:29.165931Z"
    },
    "papermill": {
     "duration": 0.123034,
     "end_time": "2024-01-02T10:37:44.589371",
     "exception": false,
     "start_time": "2024-01-02T10:37:44.466337",
     "status": "completed"
    },
    "tags": []
   },
   "outputs": [],
   "source": [
    "sample_sub2['PredictionString'] = [x.lower() for x in sample_sub2['PredictionString'].unique()]"
   ]
  },
  {
   "cell_type": "code",
   "execution_count": 32,
   "id": "complicated-robinson",
   "metadata": {
    "execution": {
     "iopub.execute_input": "2024-01-02T10:37:44.818311Z",
     "iopub.status.busy": "2024-01-02T10:37:44.817574Z",
     "iopub.status.idle": "2024-01-02T10:37:44.827498Z",
     "shell.execute_reply": "2024-01-02T10:37:44.828129Z",
     "shell.execute_reply.started": "2021-10-10T20:53:29.174454Z"
    },
    "papermill": {
     "duration": 0.126904,
     "end_time": "2024-01-02T10:37:44.828336",
     "exception": false,
     "start_time": "2024-01-02T10:37:44.701432",
     "status": "completed"
    },
    "tags": []
   },
   "outputs": [
    {
     "name": "stdout",
     "output_type": "stream",
     "text": [
      "0    hbcs|chs|ncng|adni|helsinki birth cohort study...\n",
      "1    oecd|pisa|cps|ccd|ipeds|ces|organization for e...\n",
      "2    nps|slrrms|national park service nps|sea level...\n",
      "3    iri|cnp|ces|fmi|information resource incorpora...\n",
      "Name: PredictionString, dtype: object\n"
     ]
    }
   ],
   "source": [
    "#my_list = [\"cohort study [lbc1936; n\",\"lothian birth cohort study [lbc1936\",\"Information Resource Incorporated (IRI\",\"on@3\", \"two#\", \"thre%e\"]\n",
    "removetable = str.maketrans('', '', ',@#%([')\n",
    "sample_sub2['PredictionString'] = [s.translate(removetable) for s in sample_sub2['PredictionString']]\n",
    "print(sample_sub2['PredictionString'])"
   ]
  },
  {
   "cell_type": "code",
   "execution_count": 33,
   "id": "laden-nudist",
   "metadata": {
    "execution": {
     "iopub.execute_input": "2024-01-02T10:37:45.047618Z",
     "iopub.status.busy": "2024-01-02T10:37:45.046847Z",
     "iopub.status.idle": "2024-01-02T10:37:45.053042Z",
     "shell.execute_reply": "2024-01-02T10:37:45.052399Z",
     "shell.execute_reply.started": "2021-10-10T20:53:29.19374Z"
    },
    "papermill": {
     "duration": 0.118249,
     "end_time": "2024-01-02T10:37:45.053203",
     "exception": false,
     "start_time": "2024-01-02T10:37:44.934954",
     "status": "completed"
    },
    "tags": []
   },
   "outputs": [],
   "source": [
    "# stop_words = [\"the \"\n",
    "#              ]\n",
    "\n",
    "# pat = '|'.join(r\"\\b{}\\b\".format(x) for x in stop_words)\n",
    "# sample_sub2['PredictionString'] = sample_sub2['PredictionString'].str.replace(pat, '')\n",
    "\n",
    "\n",
    "# #top_words = set(stop_words)\n",
    "# #f = lambda x: ' '.join(w for w in x.split() if not w in stop_words)\n",
    "# #newdata['Verbatim2'] = newdata['Verbatim'].apply(f)\n",
    "\n",
    "# print (sample_sub2['PredictionString'])"
   ]
  },
  {
   "cell_type": "code",
   "execution_count": 34,
   "id": "continuous-publisher",
   "metadata": {
    "execution": {
     "iopub.execute_input": "2024-01-02T10:37:45.285070Z",
     "iopub.status.busy": "2024-01-02T10:37:45.284251Z",
     "iopub.status.idle": "2024-01-02T10:37:45.289362Z",
     "shell.execute_reply": "2024-01-02T10:37:45.288675Z",
     "shell.execute_reply.started": "2021-10-10T20:53:29.202121Z"
    },
    "papermill": {
     "duration": 0.128729,
     "end_time": "2024-01-02T10:37:45.289542",
     "exception": false,
     "start_time": "2024-01-02T10:37:45.160813",
     "status": "completed"
    },
    "tags": []
   },
   "outputs": [
    {
     "data": {
      "text/html": [
       "<div>\n",
       "<style scoped>\n",
       "    .dataframe tbody tr th:only-of-type {\n",
       "        vertical-align: middle;\n",
       "    }\n",
       "\n",
       "    .dataframe tbody tr th {\n",
       "        vertical-align: top;\n",
       "    }\n",
       "\n",
       "    .dataframe thead th {\n",
       "        text-align: right;\n",
       "    }\n",
       "</style>\n",
       "<table border=\"1\" class=\"dataframe\">\n",
       "  <thead>\n",
       "    <tr style=\"text-align: right;\">\n",
       "      <th></th>\n",
       "      <th>Id</th>\n",
       "      <th>PredictionString</th>\n",
       "    </tr>\n",
       "  </thead>\n",
       "  <tbody>\n",
       "    <tr>\n",
       "      <th>0</th>\n",
       "      <td>2100032a-7c33-4bff-97ef-690822c43466</td>\n",
       "      <td>hbcs|chs|ncng|adni|helsinki birth cohort study...</td>\n",
       "    </tr>\n",
       "    <tr>\n",
       "      <th>1</th>\n",
       "      <td>2f392438-e215-4169-bebf-21ac4ff253e1</td>\n",
       "      <td>oecd|pisa|cps|ccd|ipeds|ces|organization for e...</td>\n",
       "    </tr>\n",
       "    <tr>\n",
       "      <th>2</th>\n",
       "      <td>3f316b38-1a24-45a9-8d8c-4e05a42257c6</td>\n",
       "      <td>nps|slrrms|national park service nps|sea level...</td>\n",
       "    </tr>\n",
       "    <tr>\n",
       "      <th>3</th>\n",
       "      <td>8e6996b4-ca08-4c0b-bed2-aaf07a4c6a60</td>\n",
       "      <td>iri|cnp|ces|fmi|information resource incorpora...</td>\n",
       "    </tr>\n",
       "  </tbody>\n",
       "</table>\n",
       "</div>"
      ],
      "text/plain": [
       "                                     Id  \\\n",
       "0  2100032a-7c33-4bff-97ef-690822c43466   \n",
       "1  2f392438-e215-4169-bebf-21ac4ff253e1   \n",
       "2  3f316b38-1a24-45a9-8d8c-4e05a42257c6   \n",
       "3  8e6996b4-ca08-4c0b-bed2-aaf07a4c6a60   \n",
       "\n",
       "                                    PredictionString  \n",
       "0  hbcs|chs|ncng|adni|helsinki birth cohort study...  \n",
       "1  oecd|pisa|cps|ccd|ipeds|ces|organization for e...  \n",
       "2  nps|slrrms|national park service nps|sea level...  \n",
       "3  iri|cnp|ces|fmi|information resource incorpora...  "
      ]
     },
     "execution_count": 34,
     "metadata": {},
     "output_type": "execute_result"
    }
   ],
   "source": [
    "submission2 = pd.DataFrame()\n",
    "submission2['Id'] = sample_sub2['Id']\n",
    "submission2['PredictionString'] = sample_sub2['PredictionString']\n",
    "submission2.head()"
   ]
  },
  {
   "cell_type": "markdown",
   "id": "lined-booking",
   "metadata": {
    "papermill": {
     "duration": 0.115429,
     "end_time": "2024-01-02T10:37:45.512505",
     "exception": false,
     "start_time": "2024-01-02T10:37:45.397076",
     "status": "completed"
    },
    "tags": []
   },
   "source": [
    "# govt dataset"
   ]
  },
  {
   "cell_type": "code",
   "execution_count": 35,
   "id": "american-period",
   "metadata": {
    "execution": {
     "iopub.execute_input": "2024-01-02T10:37:45.789259Z",
     "iopub.status.busy": "2024-01-02T10:37:45.787957Z",
     "iopub.status.idle": "2024-01-02T10:37:45.792046Z",
     "shell.execute_reply": "2024-01-02T10:37:45.791292Z",
     "shell.execute_reply.started": "2021-10-10T20:53:29.222683Z"
    },
    "papermill": {
     "duration": 0.159099,
     "end_time": "2024-01-02T10:37:45.792218",
     "exception": false,
     "start_time": "2024-01-02T10:37:45.633119",
     "status": "completed"
    },
    "tags": []
   },
   "outputs": [],
   "source": [
    "def read_json_pub(filename, train_files_path=train_files_path, output='text'):\n",
    "    json_path = os.path.join(train_files_path, (filename+'.json'))\n",
    "    headings = []\n",
    "    contents = []\n",
    "    combined = []\n",
    "    with open(json_path, 'r') as f:\n",
    "        json_decode = json.load(f)\n",
    "        for data in json_decode:\n",
    "            headings.append(data.get('section_title'))\n",
    "            contents.append(data.get('text'))\n",
    "            combined.append(data.get('section_title'))\n",
    "            combined.append(data.get('text'))\n",
    "    \n",
    "    all_headings = ' '.join(headings)\n",
    "    all_contents = ' '.join(contents)\n",
    "    all_data = '. '.join(combined)\n",
    "    \n",
    "    if output == 'text':\n",
    "        return all_contents\n",
    "    elif output == 'head':\n",
    "        return all_headings\n",
    "    else:\n",
    "        return all_data"
   ]
  },
  {
   "cell_type": "code",
   "execution_count": 36,
   "id": "supported-investing",
   "metadata": {
    "execution": {
     "iopub.execute_input": "2024-01-02T10:37:46.032178Z",
     "iopub.status.busy": "2024-01-02T10:37:46.031252Z",
     "iopub.status.idle": "2024-01-02T10:37:46.038539Z",
     "shell.execute_reply": "2024-01-02T10:37:46.039219Z",
     "shell.execute_reply.started": "2021-10-10T20:53:29.236357Z"
    },
    "papermill": {
     "duration": 0.131284,
     "end_time": "2024-01-02T10:37:46.039459",
     "exception": false,
     "start_time": "2024-01-02T10:37:45.908175",
     "status": "completed"
    },
    "tags": []
   },
   "outputs": [],
   "source": [
    "def text_cleaning2(text):\n",
    "    '''\n",
    "    Converts all text to lower case, Removes special charecters, emojis and multiple spaces\n",
    "    text - Sentence that needs to be cleaned\n",
    "    '''\n",
    "    text = re.sub('[^A-Za-z0-9]+', ' ', str(text).lower()).strip()\n",
    "    text = re.sub(' +', ' ', text)\n",
    "    emoji_pattern = re.compile(\"[\"\n",
    "                               u\"\\U0001F600-\\U0001F64F\"  # emoticons\n",
    "                               u\"\\U0001F300-\\U0001F5FF\"  # symbols & pictographs\n",
    "                               u\"\\U0001F680-\\U0001F6FF\"  # transport & map symbols\n",
    "                               u\"\\U0001F1E0-\\U0001F1FF\"  # flags (iOS)\n",
    "                               \"]+\", flags=re.UNICODE)\n",
    "    text = emoji_pattern.sub(r'', text)\n",
    "    return text"
   ]
  },
  {
   "cell_type": "code",
   "execution_count": 37,
   "id": "ideal-ethernet",
   "metadata": {
    "execution": {
     "iopub.execute_input": "2024-01-02T10:37:46.273428Z",
     "iopub.status.busy": "2024-01-02T10:37:46.272615Z",
     "iopub.status.idle": "2024-01-02T10:37:46.276882Z",
     "shell.execute_reply": "2024-01-02T10:37:46.277578Z",
     "shell.execute_reply.started": "2021-10-10T20:53:29.249974Z"
    },
    "papermill": {
     "duration": 0.126608,
     "end_time": "2024-01-02T10:37:46.277801",
     "exception": false,
     "start_time": "2024-01-02T10:37:46.151193",
     "status": "completed"
    },
    "tags": []
   },
   "outputs": [],
   "source": [
    "def clean_text2(txt):\n",
    "    return re.sub('[^A-Za-z0-9]+', ' ', str(txt).lower()).strip()"
   ]
  },
  {
   "cell_type": "code",
   "execution_count": 38,
   "id": "executed-destiny",
   "metadata": {
    "execution": {
     "iopub.execute_input": "2024-01-02T10:37:46.508336Z",
     "iopub.status.busy": "2024-01-02T10:37:46.507447Z",
     "iopub.status.idle": "2024-01-02T10:37:46.529548Z",
     "shell.execute_reply": "2024-01-02T10:37:46.530382Z",
     "shell.execute_reply.started": "2021-10-10T20:53:29.264935Z"
    },
    "papermill": {
     "duration": 0.140305,
     "end_time": "2024-01-02T10:37:46.530818",
     "exception": false,
     "start_time": "2024-01-02T10:37:46.390513",
     "status": "completed"
    },
    "tags": []
   },
   "outputs": [
    {
     "data": {
      "text/html": [
       "<div>\n",
       "<style scoped>\n",
       "    .dataframe tbody tr th:only-of-type {\n",
       "        vertical-align: middle;\n",
       "    }\n",
       "\n",
       "    .dataframe tbody tr th {\n",
       "        vertical-align: top;\n",
       "    }\n",
       "\n",
       "    .dataframe thead th {\n",
       "        text-align: right;\n",
       "    }\n",
       "</style>\n",
       "<table border=\"1\" class=\"dataframe\">\n",
       "  <thead>\n",
       "    <tr style=\"text-align: right;\">\n",
       "      <th></th>\n",
       "      <th>Id</th>\n",
       "      <th>pub_title</th>\n",
       "      <th>dataset_title</th>\n",
       "      <th>dataset_label</th>\n",
       "      <th>cleaned_label</th>\n",
       "      <th>text</th>\n",
       "    </tr>\n",
       "  </thead>\n",
       "  <tbody>\n",
       "    <tr>\n",
       "      <th>10343</th>\n",
       "      <td>bf7e2895-37e8-48bc-9edd-b30a6e6ae772</td>\n",
       "      <td>A Local-to-Global Metric Learning Framework Fr...</td>\n",
       "      <td>Alzheimer's Disease Neuroimaging Initiative (A...</td>\n",
       "      <td>Alzheimer's Disease Neuroimaging Initiative (A...</td>\n",
       "      <td>alzheimer s disease neuroimaging initiative adni</td>\n",
       "      <td>metric plays a key role in the description of ...</td>\n",
       "    </tr>\n",
       "    <tr>\n",
       "      <th>10811</th>\n",
       "      <td>3ba42bd7-4106-4470-b606-385f12b7566d</td>\n",
       "      <td>A data-driven model of biomarker changes in sp...</td>\n",
       "      <td>Alzheimer's Disease Neuroimaging Initiative (A...</td>\n",
       "      <td>Alzheimer's Disease Neuroimaging Initiative (A...</td>\n",
       "      <td>alzheimer s disease neuroimaging initiative adni</td>\n",
       "      <td>we demonstrate the use of a probabilistic gene...</td>\n",
       "    </tr>\n",
       "    <tr>\n",
       "      <th>6751</th>\n",
       "      <td>2083d879-cb77-4bfb-b6d9-cbb4c10650df</td>\n",
       "      <td>Effect of age, ethnicity, sex, cognitive statu...</td>\n",
       "      <td>Alzheimer's Disease Neuroimaging Initiative (A...</td>\n",
       "      <td>ADNI</td>\n",
       "      <td>adni</td>\n",
       "      <td>please cite this article as r duara da loewens...</td>\n",
       "    </tr>\n",
       "    <tr>\n",
       "      <th>16486</th>\n",
       "      <td>2f431a1e-9b58-4949-a0c2-73891b90d610</td>\n",
       "      <td>Rural Broadband At A Glance</td>\n",
       "      <td>Agricultural Resource Management Survey</td>\n",
       "      <td>Agricultural Resource Management Survey</td>\n",
       "      <td>agricultural resource management survey</td>\n",
       "      <td>he size and growth of us internet use is impre...</td>\n",
       "    </tr>\n",
       "    <tr>\n",
       "      <th>10496</th>\n",
       "      <td>542d80f2-190f-484b-96ff-1e4f3e16d04c</td>\n",
       "      <td>The disengaging brain: Dynamic transitions fro...</td>\n",
       "      <td>Alzheimer's Disease Neuroimaging Initiative (A...</td>\n",
       "      <td>Alzheimer's Disease Neuroimaging Initiative (A...</td>\n",
       "      <td>alzheimer s disease neuroimaging initiative adni</td>\n",
       "      <td>human functional brain connectivity is usually...</td>\n",
       "    </tr>\n",
       "    <tr>\n",
       "      <th>12746</th>\n",
       "      <td>e96ee723-9d72-462e-bb6e-2f2332ae47b3</td>\n",
       "      <td>Short-Term Enrollment in Postsecondary Educati...</td>\n",
       "      <td>Beginning Postsecondary Student</td>\n",
       "      <td>Beginning Postsecondary Students Longitudinal ...</td>\n",
       "      <td>beginning postsecondary students longitudinal ...</td>\n",
       "      <td>in this report attrition departure and leaving...</td>\n",
       "    </tr>\n",
       "    <tr>\n",
       "      <th>2692</th>\n",
       "      <td>031e4b40-7c35-4607-b760-6d3fcac9b493</td>\n",
       "      <td>A Geometry-Driven Optical Flow Warping for Spa...</td>\n",
       "      <td>Baltimore Longitudinal Study of Aging (BLSA)</td>\n",
       "      <td>Baltimore Longitudinal Study of Aging</td>\n",
       "      <td>baltimore longitudinal study of aging</td>\n",
       "      <td>abstractspatial normalization is frequently us...</td>\n",
       "    </tr>\n",
       "    <tr>\n",
       "      <th>9704</th>\n",
       "      <td>b6d22ba8-2d1b-4810-b5f8-2830c5945047</td>\n",
       "      <td>Joint Coupled-Feature Representation and Coupl...</td>\n",
       "      <td>Alzheimer's Disease Neuroimaging Initiative (A...</td>\n",
       "      <td>Alzheimer's Disease Neuroimaging Initiative (A...</td>\n",
       "      <td>alzheimer s disease neuroimaging initiative adni</td>\n",
       "      <td>alzheimers disease ad and its early stage mild...</td>\n",
       "    </tr>\n",
       "    <tr>\n",
       "      <th>15267</th>\n",
       "      <td>3330f147-d604-4abf-ad4e-107c0f917d72</td>\n",
       "      <td>Economics of Gendered Distribution of Resourc...</td>\n",
       "      <td>Trends in International Mathematics and Scienc...</td>\n",
       "      <td>Trends in International Mathematics and Scienc...</td>\n",
       "      <td>trends in international mathematics and scienc...</td>\n",
       "      <td>twentyfive years ago congress passed the scien...</td>\n",
       "    </tr>\n",
       "    <tr>\n",
       "      <th>6534</th>\n",
       "      <td>ef30710a-65b0-4b1e-92ce-3dedd293479d</td>\n",
       "      <td>The age-related effect on cognitive performanc...</td>\n",
       "      <td>Alzheimer's Disease Neuroimaging Initiative (A...</td>\n",
       "      <td>ADNI</td>\n",
       "      <td>adni</td>\n",
       "      <td>background as research in treatments for neuro...</td>\n",
       "    </tr>\n",
       "  </tbody>\n",
       "</table>\n",
       "</div>"
      ],
      "text/plain": [
       "                                         Id  \\\n",
       "10343  bf7e2895-37e8-48bc-9edd-b30a6e6ae772   \n",
       "10811  3ba42bd7-4106-4470-b606-385f12b7566d   \n",
       "6751   2083d879-cb77-4bfb-b6d9-cbb4c10650df   \n",
       "16486  2f431a1e-9b58-4949-a0c2-73891b90d610   \n",
       "10496  542d80f2-190f-484b-96ff-1e4f3e16d04c   \n",
       "12746  e96ee723-9d72-462e-bb6e-2f2332ae47b3   \n",
       "2692   031e4b40-7c35-4607-b760-6d3fcac9b493   \n",
       "9704   b6d22ba8-2d1b-4810-b5f8-2830c5945047   \n",
       "15267  3330f147-d604-4abf-ad4e-107c0f917d72   \n",
       "6534   ef30710a-65b0-4b1e-92ce-3dedd293479d   \n",
       "\n",
       "                                               pub_title  \\\n",
       "10343  A Local-to-Global Metric Learning Framework Fr...   \n",
       "10811  A data-driven model of biomarker changes in sp...   \n",
       "6751   Effect of age, ethnicity, sex, cognitive statu...   \n",
       "16486                       Rural Broadband At A Glance    \n",
       "10496  The disengaging brain: Dynamic transitions fro...   \n",
       "12746  Short-Term Enrollment in Postsecondary Educati...   \n",
       "2692   A Geometry-Driven Optical Flow Warping for Spa...   \n",
       "9704   Joint Coupled-Feature Representation and Coupl...   \n",
       "15267   Economics of Gendered Distribution of Resourc...   \n",
       "6534   The age-related effect on cognitive performanc...   \n",
       "\n",
       "                                           dataset_title  \\\n",
       "10343  Alzheimer's Disease Neuroimaging Initiative (A...   \n",
       "10811  Alzheimer's Disease Neuroimaging Initiative (A...   \n",
       "6751   Alzheimer's Disease Neuroimaging Initiative (A...   \n",
       "16486            Agricultural Resource Management Survey   \n",
       "10496  Alzheimer's Disease Neuroimaging Initiative (A...   \n",
       "12746                    Beginning Postsecondary Student   \n",
       "2692        Baltimore Longitudinal Study of Aging (BLSA)   \n",
       "9704   Alzheimer's Disease Neuroimaging Initiative (A...   \n",
       "15267  Trends in International Mathematics and Scienc...   \n",
       "6534   Alzheimer's Disease Neuroimaging Initiative (A...   \n",
       "\n",
       "                                           dataset_label  \\\n",
       "10343  Alzheimer's Disease Neuroimaging Initiative (A...   \n",
       "10811  Alzheimer's Disease Neuroimaging Initiative (A...   \n",
       "6751                                                ADNI   \n",
       "16486            Agricultural Resource Management Survey   \n",
       "10496  Alzheimer's Disease Neuroimaging Initiative (A...   \n",
       "12746  Beginning Postsecondary Students Longitudinal ...   \n",
       "2692               Baltimore Longitudinal Study of Aging   \n",
       "9704   Alzheimer's Disease Neuroimaging Initiative (A...   \n",
       "15267  Trends in International Mathematics and Scienc...   \n",
       "6534                                                ADNI   \n",
       "\n",
       "                                           cleaned_label  \\\n",
       "10343  alzheimer s disease neuroimaging initiative adni    \n",
       "10811  alzheimer s disease neuroimaging initiative adni    \n",
       "6751                                                adni   \n",
       "16486            agricultural resource management survey   \n",
       "10496  alzheimer s disease neuroimaging initiative adni    \n",
       "12746  beginning postsecondary students longitudinal ...   \n",
       "2692               baltimore longitudinal study of aging   \n",
       "9704   alzheimer s disease neuroimaging initiative adni    \n",
       "15267  trends in international mathematics and scienc...   \n",
       "6534                                                adni   \n",
       "\n",
       "                                                    text  \n",
       "10343  metric plays a key role in the description of ...  \n",
       "10811  we demonstrate the use of a probabilistic gene...  \n",
       "6751   please cite this article as r duara da loewens...  \n",
       "16486  he size and growth of us internet use is impre...  \n",
       "10496  human functional brain connectivity is usually...  \n",
       "12746  in this report attrition departure and leaving...  \n",
       "2692   abstractspatial normalization is frequently us...  \n",
       "9704   alzheimers disease ad and its early stage mild...  \n",
       "15267  twentyfive years ago congress passed the scien...  \n",
       "6534   background as research in treatments for neuro...  "
      ]
     },
     "execution_count": 38,
     "metadata": {},
     "output_type": "execute_result"
    }
   ],
   "source": [
    "# random sample for testing\n",
    "train_sample=train_df.sample(n = 10)\n",
    "\n",
    "train_sample"
   ]
  },
  {
   "cell_type": "code",
   "execution_count": 39,
   "id": "brown-indication",
   "metadata": {
    "execution": {
     "iopub.execute_input": "2024-01-02T10:37:46.769381Z",
     "iopub.status.busy": "2024-01-02T10:37:46.768257Z",
     "iopub.status.idle": "2024-01-02T10:37:46.786946Z",
     "shell.execute_reply": "2024-01-02T10:37:46.787625Z",
     "shell.execute_reply.started": "2021-10-10T20:53:29.292922Z"
    },
    "papermill": {
     "duration": 0.138906,
     "end_time": "2024-01-02T10:37:46.787878",
     "exception": false,
     "start_time": "2024-01-02T10:37:46.648972",
     "status": "completed"
    },
    "tags": []
   },
   "outputs": [],
   "source": [
    "govt_df = pd.read_csv('../input/govtdataset/data_set_800.csv')"
   ]
  },
  {
   "cell_type": "code",
   "execution_count": 40,
   "id": "frank-weight",
   "metadata": {
    "execution": {
     "iopub.execute_input": "2024-01-02T10:37:47.015218Z",
     "iopub.status.busy": "2024-01-02T10:37:47.014452Z",
     "iopub.status.idle": "2024-01-02T10:37:47.025603Z",
     "shell.execute_reply": "2024-01-02T10:37:47.026161Z",
     "shell.execute_reply.started": "2021-10-10T20:53:29.320096Z"
    },
    "papermill": {
     "duration": 0.127622,
     "end_time": "2024-01-02T10:37:47.026383",
     "exception": false,
     "start_time": "2024-01-02T10:37:46.898761",
     "status": "completed"
    },
    "tags": []
   },
   "outputs": [
    {
     "data": {
      "text/html": [
       "<div>\n",
       "<style scoped>\n",
       "    .dataframe tbody tr th:only-of-type {\n",
       "        vertical-align: middle;\n",
       "    }\n",
       "\n",
       "    .dataframe tbody tr th {\n",
       "        vertical-align: top;\n",
       "    }\n",
       "\n",
       "    .dataframe thead th {\n",
       "        text-align: right;\n",
       "    }\n",
       "</style>\n",
       "<table border=\"1\" class=\"dataframe\">\n",
       "  <thead>\n",
       "    <tr style=\"text-align: right;\">\n",
       "      <th></th>\n",
       "      <th>title</th>\n",
       "    </tr>\n",
       "  </thead>\n",
       "  <tbody>\n",
       "    <tr>\n",
       "      <th>0</th>\n",
       "      <td>adni</td>\n",
       "    </tr>\n",
       "    <tr>\n",
       "      <th>1</th>\n",
       "      <td>cccsl</td>\n",
       "    </tr>\n",
       "    <tr>\n",
       "      <th>2</th>\n",
       "      <td>ibtracs</td>\n",
       "    </tr>\n",
       "    <tr>\n",
       "      <th>3</th>\n",
       "      <td>noaa c cap</td>\n",
       "    </tr>\n",
       "    <tr>\n",
       "      <th>4</th>\n",
       "      <td>noaa c-cap</td>\n",
       "    </tr>\n",
       "  </tbody>\n",
       "</table>\n",
       "</div>"
      ],
      "text/plain": [
       "        title\n",
       "0        adni\n",
       "1       cccsl\n",
       "2     ibtracs\n",
       "3  noaa c cap\n",
       "4  noaa c-cap"
      ]
     },
     "execution_count": 40,
     "metadata": {},
     "output_type": "execute_result"
    }
   ],
   "source": [
    "govt_df.head()"
   ]
  },
  {
   "cell_type": "code",
   "execution_count": 41,
   "id": "applicable-registration",
   "metadata": {
    "execution": {
     "iopub.execute_input": "2024-01-02T10:37:47.258529Z",
     "iopub.status.busy": "2024-01-02T10:37:47.257270Z",
     "iopub.status.idle": "2024-01-02T10:37:48.893777Z",
     "shell.execute_reply": "2024-01-02T10:37:48.893046Z",
     "shell.execute_reply.started": "2021-10-10T20:53:29.331164Z"
    },
    "papermill": {
     "duration": 1.756766,
     "end_time": "2024-01-02T10:37:48.893958",
     "exception": false,
     "start_time": "2024-01-02T10:37:47.137192",
     "status": "completed"
    },
    "tags": []
   },
   "outputs": [
    {
     "name": "stdout",
     "output_type": "stream",
     "text": [
      "--- 1.6154224872589111 seconds ---\n"
     ]
    },
    {
     "data": {
      "text/html": [
       "<div>\n",
       "<style scoped>\n",
       "    .dataframe tbody tr th:only-of-type {\n",
       "        vertical-align: middle;\n",
       "    }\n",
       "\n",
       "    .dataframe tbody tr th {\n",
       "        vertical-align: top;\n",
       "    }\n",
       "\n",
       "    .dataframe thead th {\n",
       "        text-align: right;\n",
       "    }\n",
       "</style>\n",
       "<table border=\"1\" class=\"dataframe\">\n",
       "  <thead>\n",
       "    <tr style=\"text-align: right;\">\n",
       "      <th></th>\n",
       "      <th>Id</th>\n",
       "      <th>PredictionString</th>\n",
       "    </tr>\n",
       "  </thead>\n",
       "  <tbody>\n",
       "    <tr>\n",
       "      <th>0</th>\n",
       "      <td>2100032a-7c33-4bff-97ef-690822c43466</td>\n",
       "      <td>adni|alzheimer s disease neuroimaging initiati...</td>\n",
       "    </tr>\n",
       "    <tr>\n",
       "      <th>1</th>\n",
       "      <td>2f392438-e215-4169-bebf-21ac4ff253e1</td>\n",
       "      <td>common core of data|nces common core of data|t...</td>\n",
       "    </tr>\n",
       "    <tr>\n",
       "      <th>2</th>\n",
       "      <td>3f316b38-1a24-45a9-8d8c-4e05a42257c6</td>\n",
       "      <td>slosh model|noaa storm surge inundation|sea la...</td>\n",
       "    </tr>\n",
       "    <tr>\n",
       "      <th>3</th>\n",
       "      <td>8e6996b4-ca08-4c0b-bed2-aaf07a4c6a60</td>\n",
       "      <td>rural urban continuum codes</td>\n",
       "    </tr>\n",
       "  </tbody>\n",
       "</table>\n",
       "</div>"
      ],
      "text/plain": [
       "                                     Id  \\\n",
       "0  2100032a-7c33-4bff-97ef-690822c43466   \n",
       "1  2f392438-e215-4169-bebf-21ac4ff253e1   \n",
       "2  3f316b38-1a24-45a9-8d8c-4e05a42257c6   \n",
       "3  8e6996b4-ca08-4c0b-bed2-aaf07a4c6a60   \n",
       "\n",
       "                                    PredictionString  \n",
       "0  adni|alzheimer s disease neuroimaging initiati...  \n",
       "1  common core of data|nces common core of data|t...  \n",
       "2  slosh model|noaa storm surge inundation|sea la...  \n",
       "3                        rural urban continuum codes  "
      ]
     },
     "execution_count": 41,
     "metadata": {},
     "output_type": "execute_result"
    }
   ],
   "source": [
    "start_time = time.time()\n",
    "\n",
    "\n",
    "#### remove >.5 jaccard matches from predicitons\n",
    "def jaccard_similarity(s1, s2):\n",
    "    l1 = s1.split(\" \")\n",
    "    l2 = s2.split(\" \")    \n",
    "    intersection = len(list(set(l1).intersection(l2)))\n",
    "    union = (len(l1) + len(l2)) - intersection\n",
    "    return float(intersection) / union\n",
    "\n",
    "#############################\n",
    "#path=train_data_path\n",
    "path=test_files_path\n",
    "\n",
    "#for training use train_sample\n",
    "\n",
    "#for submission use sample_sub\n",
    "\n",
    "#############\n",
    "\n",
    "column_names = [\"Id\", \"PredictionString\"]\n",
    "\n",
    "submission3 = pd.DataFrame(columns = column_names)\n",
    "\n",
    "to_append=[]\n",
    "for index, row in sample_sub.iterrows():\n",
    "    to_append=[row['Id'],'']\n",
    "    large_string = str(read_append_return(row['Id'],path))\n",
    "    clean_string=text_cleaning2(large_string)\n",
    "    for index, row2 in govt_df.iterrows():\n",
    "        query_string = str(row2['title'])\n",
    "        if query_string in clean_string:\n",
    "            if to_append[1]!='' and clean_text2(query_string) not in to_append[1]:\n",
    "                to_append[1]=to_append[1]+'|'+clean_text(query_string)\n",
    "            if to_append[1]=='':\n",
    "                to_append[1]=clean_text2(query_string)\n",
    "     \n",
    "    ###### remove similar jaccard\n",
    "    #got_label=to_append[1].split('|')\n",
    "    #filtered=[]\n",
    "    #filtered_labels = ''\n",
    "    #for label in sorted(got_label, key=len):\n",
    "        #label = clean_text(label)\n",
    "        #if len(filtered) == 0 or all(jaccard_similarity(label, got_label) < 1.0 for got_label in filtered):\n",
    "            #filtered.append(label)\n",
    "            #if filtered_labels!='':\n",
    "                #filtered_labels=filtered_labels+'|'+label\n",
    "            #if filtered_labels=='':\n",
    "                #filtered_labels=label\n",
    "    #to_append[1] = filtered_labels         \n",
    "    #print ('################')\n",
    "    #print (to_append)\n",
    "    #print (large_string)\n",
    "    #print ('################')\n",
    "    ###### remove similar jaccard\n",
    "    govt_df_length = len(submission3)\n",
    "    submission3.loc[govt_df_length] = to_append\n",
    "# submission3.to_csv('submission3.csv', index = False)\n",
    "print(\"--- %s seconds ---\" % (time.time() - start_time))\n",
    "submission3"
   ]
  },
  {
   "cell_type": "code",
   "execution_count": 42,
   "id": "organizational-candidate",
   "metadata": {
    "execution": {
     "iopub.execute_input": "2024-01-02T10:37:49.122479Z",
     "iopub.status.busy": "2024-01-02T10:37:49.121717Z",
     "iopub.status.idle": "2024-01-02T10:37:49.125434Z",
     "shell.execute_reply": "2024-01-02T10:37:49.126175Z",
     "shell.execute_reply.started": "2021-10-10T20:53:30.780121Z"
    },
    "papermill": {
     "duration": 0.120598,
     "end_time": "2024-01-02T10:37:49.126554",
     "exception": false,
     "start_time": "2024-01-02T10:37:49.005956",
     "status": "completed"
    },
    "tags": []
   },
   "outputs": [],
   "source": [
    "# submission3 = pd.DataFrame()\n",
    "# submission3['Id'] = govt_data['Id']\n",
    "# submission3['PredictionString'] = govt_data['PredictionString']\n",
    "# submission3.head()"
   ]
  },
  {
   "cell_type": "markdown",
   "id": "reserved-fundamentals",
   "metadata": {
    "papermill": {
     "duration": 0.111491,
     "end_time": "2024-01-02T10:37:49.349674",
     "exception": false,
     "start_time": "2024-01-02T10:37:49.238183",
     "status": "completed"
    },
    "tags": []
   },
   "source": [
    "<p style=\"color:blue;font-size:20px;\">📝Merging DataTables into one Submission File</p>"
   ]
  },
  {
   "cell_type": "code",
   "execution_count": 43,
   "id": "sorted-electricity",
   "metadata": {
    "execution": {
     "iopub.execute_input": "2024-01-02T10:37:49.577882Z",
     "iopub.status.busy": "2024-01-02T10:37:49.577103Z",
     "iopub.status.idle": "2024-01-02T10:37:49.582285Z",
     "shell.execute_reply": "2024-01-02T10:37:49.581573Z",
     "shell.execute_reply.started": "2021-10-10T20:53:30.786901Z"
    },
    "papermill": {
     "duration": 0.120731,
     "end_time": "2024-01-02T10:37:49.582456",
     "exception": false,
     "start_time": "2024-01-02T10:37:49.461725",
     "status": "completed"
    },
    "tags": []
   },
   "outputs": [],
   "source": [
    "##submission = pd.DataFrame(data= {'Id' : sample_sub['Id'], 'PredictionString' : ['','','','']})"
   ]
  },
  {
   "cell_type": "code",
   "execution_count": 44,
   "id": "aging-headset",
   "metadata": {
    "execution": {
     "iopub.execute_input": "2024-01-02T10:37:49.811704Z",
     "iopub.status.busy": "2024-01-02T10:37:49.810921Z",
     "iopub.status.idle": "2024-01-02T10:37:49.815108Z",
     "shell.execute_reply": "2024-01-02T10:37:49.814353Z",
     "shell.execute_reply.started": "2021-10-10T20:53:30.801951Z"
    },
    "papermill": {
     "duration": 0.120082,
     "end_time": "2024-01-02T10:37:49.815288",
     "exception": false,
     "start_time": "2024-01-02T10:37:49.695206",
     "status": "completed"
    },
    "tags": []
   },
   "outputs": [],
   "source": [
    "##submission.head()"
   ]
  },
  {
   "cell_type": "code",
   "execution_count": 45,
   "id": "dimensional-policy",
   "metadata": {
    "execution": {
     "iopub.execute_input": "2024-01-02T10:37:50.053629Z",
     "iopub.status.busy": "2024-01-02T10:37:50.052759Z",
     "iopub.status.idle": "2024-01-02T10:37:50.084460Z",
     "shell.execute_reply": "2024-01-02T10:37:50.085081Z",
     "shell.execute_reply.started": "2021-10-10T20:53:30.813804Z"
    },
    "papermill": {
     "duration": 0.159105,
     "end_time": "2024-01-02T10:37:50.085275",
     "exception": false,
     "start_time": "2024-01-02T10:37:49.926170",
     "status": "completed"
    },
    "tags": []
   },
   "outputs": [
    {
     "name": "stdout",
     "output_type": "stream",
     "text": [
      "                                     Id  \\\n",
      "0  2100032a-7c33-4bff-97ef-690822c43466   \n",
      "1  2f392438-e215-4169-bebf-21ac4ff253e1   \n",
      "2  3f316b38-1a24-45a9-8d8c-4e05a42257c6   \n",
      "3  8e6996b4-ca08-4c0b-bed2-aaf07a4c6a60   \n",
      "\n",
      "                                    PredictionString  \n",
      "0  adni|alzheimer s disease neuroimaging initiati...  \n",
      "1  common core of data|trends in international ma...  \n",
      "2  noaa storm surge inundation|sea lake and overl...  \n",
      "3  rural urban continuum codes|iri|cnp|ces|fmi|in...  \n"
     ]
    }
   ],
   "source": [
    "merged = pd.concat([submission1, submission2,submission3], sort=True).drop_duplicates()\n",
    "submission = merged.dropna().groupby(['Id'], as_index=False).agg({'PredictionString' : '|'.join}).reset_index(drop=True)\n",
    "print(submission)"
   ]
  },
  {
   "cell_type": "code",
   "execution_count": 46,
   "id": "prospective-snapshot",
   "metadata": {
    "execution": {
     "iopub.execute_input": "2024-01-02T10:37:50.312561Z",
     "iopub.status.busy": "2024-01-02T10:37:50.311498Z",
     "iopub.status.idle": "2024-01-02T10:37:50.343187Z",
     "shell.execute_reply": "2024-01-02T10:37:50.343758Z",
     "shell.execute_reply.started": "2021-10-10T20:53:30.85095Z"
    },
    "papermill": {
     "duration": 0.147196,
     "end_time": "2024-01-02T10:37:50.343978",
     "exception": false,
     "start_time": "2024-01-02T10:37:50.196782",
     "status": "completed"
    },
    "tags": []
   },
   "outputs": [
    {
     "data": {
      "text/html": [
       "<div>\n",
       "<style scoped>\n",
       "    .dataframe tbody tr th:only-of-type {\n",
       "        vertical-align: middle;\n",
       "    }\n",
       "\n",
       "    .dataframe tbody tr th {\n",
       "        vertical-align: top;\n",
       "    }\n",
       "\n",
       "    .dataframe thead th {\n",
       "        text-align: right;\n",
       "    }\n",
       "</style>\n",
       "<table border=\"1\" class=\"dataframe\">\n",
       "  <thead>\n",
       "    <tr style=\"text-align: right;\">\n",
       "      <th>variable</th>\n",
       "      <th>PredictionString</th>\n",
       "    </tr>\n",
       "    <tr>\n",
       "      <th>Id</th>\n",
       "      <th></th>\n",
       "    </tr>\n",
       "  </thead>\n",
       "  <tbody>\n",
       "    <tr>\n",
       "      <th>2100032a-7c33-4bff-97ef-690822c43466</th>\n",
       "      <td>adni|alzheimer s disease neuroimaging initiati...</td>\n",
       "    </tr>\n",
       "    <tr>\n",
       "      <th>2f392438-e215-4169-bebf-21ac4ff253e1</th>\n",
       "      <td>common core of data|trends in international ma...</td>\n",
       "    </tr>\n",
       "    <tr>\n",
       "      <th>3f316b38-1a24-45a9-8d8c-4e05a42257c6</th>\n",
       "      <td>noaa storm surge inundation|sea lake and overl...</td>\n",
       "    </tr>\n",
       "    <tr>\n",
       "      <th>8e6996b4-ca08-4c0b-bed2-aaf07a4c6a60</th>\n",
       "      <td>rural urban continuum codes|iri|cnp|ces|fmi|in...</td>\n",
       "    </tr>\n",
       "  </tbody>\n",
       "</table>\n",
       "</div>"
      ],
      "text/plain": [
       "variable                                                               PredictionString\n",
       "Id                                                                                     \n",
       "2100032a-7c33-4bff-97ef-690822c43466  adni|alzheimer s disease neuroimaging initiati...\n",
       "2f392438-e215-4169-bebf-21ac4ff253e1  common core of data|trends in international ma...\n",
       "3f316b38-1a24-45a9-8d8c-4e05a42257c6  noaa storm surge inundation|sea lake and overl...\n",
       "8e6996b4-ca08-4c0b-bed2-aaf07a4c6a60  rural urban continuum codes|iri|cnp|ces|fmi|in..."
      ]
     },
     "execution_count": 46,
     "metadata": {},
     "output_type": "execute_result"
    }
   ],
   "source": [
    "(pd.concat(submission.melt(id_vars='Id').dropna() for df in [submission1,submission2])\n",
    "    .groupby(['Id','variable'])['value'].apply(lambda x: '|'.join(x.unique()))\n",
    "    .unstack()\n",
    ")"
   ]
  },
  {
   "cell_type": "markdown",
   "id": "superb-seller",
   "metadata": {
    "papermill": {
     "duration": 0.113832,
     "end_time": "2024-01-02T10:37:50.571065",
     "exception": false,
     "start_time": "2024-01-02T10:37:50.457233",
     "status": "completed"
    },
    "tags": []
   },
   "source": [
    "# remove Duplicates from dataframe"
   ]
  },
  {
   "cell_type": "code",
   "execution_count": 47,
   "id": "wooden-naples",
   "metadata": {
    "execution": {
     "iopub.execute_input": "2024-01-02T10:37:50.799882Z",
     "iopub.status.busy": "2024-01-02T10:37:50.798845Z",
     "iopub.status.idle": "2024-01-02T10:37:50.803962Z",
     "shell.execute_reply": "2024-01-02T10:37:50.804505Z",
     "shell.execute_reply.started": "2021-10-10T20:53:30.883151Z"
    },
    "papermill": {
     "duration": 0.123036,
     "end_time": "2024-01-02T10:37:50.804730",
     "exception": false,
     "start_time": "2024-01-02T10:37:50.681694",
     "status": "completed"
    },
    "tags": []
   },
   "outputs": [],
   "source": [
    "def remove_dup(strng):\n",
    "    '''\n",
    "     Input a string and split them \n",
    "    '''\n",
    "    return '|'.join(list(dict.fromkeys(strng.split('|'))))"
   ]
  },
  {
   "cell_type": "code",
   "execution_count": 48,
   "id": "subsequent-intersection",
   "metadata": {
    "execution": {
     "iopub.execute_input": "2024-01-02T10:37:51.034107Z",
     "iopub.status.busy": "2024-01-02T10:37:51.033031Z",
     "iopub.status.idle": "2024-01-02T10:37:51.045196Z",
     "shell.execute_reply": "2024-01-02T10:37:51.045745Z",
     "shell.execute_reply.started": "2021-10-10T20:53:30.889812Z"
    },
    "papermill": {
     "duration": 0.128444,
     "end_time": "2024-01-02T10:37:51.045944",
     "exception": false,
     "start_time": "2024-01-02T10:37:50.917500",
     "status": "completed"
    },
    "tags": []
   },
   "outputs": [
    {
     "data": {
      "text/html": [
       "<div>\n",
       "<style scoped>\n",
       "    .dataframe tbody tr th:only-of-type {\n",
       "        vertical-align: middle;\n",
       "    }\n",
       "\n",
       "    .dataframe tbody tr th {\n",
       "        vertical-align: top;\n",
       "    }\n",
       "\n",
       "    .dataframe thead th {\n",
       "        text-align: right;\n",
       "    }\n",
       "</style>\n",
       "<table border=\"1\" class=\"dataframe\">\n",
       "  <thead>\n",
       "    <tr style=\"text-align: right;\">\n",
       "      <th></th>\n",
       "      <th>Id</th>\n",
       "      <th>PredictionString</th>\n",
       "    </tr>\n",
       "  </thead>\n",
       "  <tbody>\n",
       "    <tr>\n",
       "      <th>0</th>\n",
       "      <td>2100032a-7c33-4bff-97ef-690822c43466</td>\n",
       "      <td>adni|alzheimer s disease neuroimaging initiati...</td>\n",
       "    </tr>\n",
       "    <tr>\n",
       "      <th>1</th>\n",
       "      <td>2f392438-e215-4169-bebf-21ac4ff253e1</td>\n",
       "      <td>common core of data|trends in international ma...</td>\n",
       "    </tr>\n",
       "    <tr>\n",
       "      <th>2</th>\n",
       "      <td>3f316b38-1a24-45a9-8d8c-4e05a42257c6</td>\n",
       "      <td>noaa storm surge inundation|sea lake and overl...</td>\n",
       "    </tr>\n",
       "    <tr>\n",
       "      <th>3</th>\n",
       "      <td>8e6996b4-ca08-4c0b-bed2-aaf07a4c6a60</td>\n",
       "      <td>rural urban continuum codes|iri|cnp|ces|fmi|in...</td>\n",
       "    </tr>\n",
       "  </tbody>\n",
       "</table>\n",
       "</div>"
      ],
      "text/plain": [
       "                                     Id  \\\n",
       "0  2100032a-7c33-4bff-97ef-690822c43466   \n",
       "1  2f392438-e215-4169-bebf-21ac4ff253e1   \n",
       "2  3f316b38-1a24-45a9-8d8c-4e05a42257c6   \n",
       "3  8e6996b4-ca08-4c0b-bed2-aaf07a4c6a60   \n",
       "\n",
       "                                    PredictionString  \n",
       "0  adni|alzheimer s disease neuroimaging initiati...  \n",
       "1  common core of data|trends in international ma...  \n",
       "2  noaa storm surge inundation|sea lake and overl...  \n",
       "3  rural urban continuum codes|iri|cnp|ces|fmi|in...  "
      ]
     },
     "execution_count": 48,
     "metadata": {},
     "output_type": "execute_result"
    }
   ],
   "source": [
    "# my_dict = {'Tags':[\"Museum, Art Museum, Shopping, Museum\",'Drink, Drink','Shop','Visit'],'Country':['USA','USA','USA', 'USA']}\n",
    "# df = pd.DataFrame(my_dict)\n",
    "submission['PredictionString'] = submission['PredictionString'].apply(lambda x: remove_dup(x))\n",
    "submission"
   ]
  },
  {
   "cell_type": "markdown",
   "id": "lonely-kitchen",
   "metadata": {
    "papermill": {
     "duration": 0.110668,
     "end_time": "2024-01-02T10:37:51.268903",
     "exception": false,
     "start_time": "2024-01-02T10:37:51.158235",
     "status": "completed"
    },
    "tags": []
   },
   "source": [
    "# **Sorting in a alphabetical Order**"
   ]
  },
  {
   "cell_type": "code",
   "execution_count": 49,
   "id": "terminal-thousand",
   "metadata": {
    "execution": {
     "iopub.execute_input": "2024-01-02T10:37:51.499252Z",
     "iopub.status.busy": "2024-01-02T10:37:51.498163Z",
     "iopub.status.idle": "2024-01-02T10:37:51.507660Z",
     "shell.execute_reply": "2024-01-02T10:37:51.508235Z",
     "shell.execute_reply.started": "2021-10-10T20:53:30.910646Z"
    },
    "papermill": {
     "duration": 0.125248,
     "end_time": "2024-01-02T10:37:51.508428",
     "exception": false,
     "start_time": "2024-01-02T10:37:51.383180",
     "status": "completed"
    },
    "tags": []
   },
   "outputs": [
    {
     "name": "stdout",
     "output_type": "stream",
     "text": [
      "                                     Id  \\\n",
      "0  2100032a-7c33-4bff-97ef-690822c43466   \n",
      "1  2f392438-e215-4169-bebf-21ac4ff253e1   \n",
      "2  3f316b38-1a24-45a9-8d8c-4e05a42257c6   \n",
      "3  8e6996b4-ca08-4c0b-bed2-aaf07a4c6a60   \n",
      "\n",
      "                                    PredictionString  \n",
      "0  adni|alzheimer s disease neuroimaging initiati...  \n",
      "1  ccd|ces|common core of data|common core of dat...  \n",
      "2  national oceanic atmospheric administration no...  \n",
      "3  ces|cnp|consumer expenditure survey ces|consum...  \n"
     ]
    }
   ],
   "source": [
    "submission['PredictionString'] = submission['PredictionString'].apply(lambda x: '|'.join(sorted(x.split('|'))))\n",
    "print(submission)"
   ]
  },
  {
   "cell_type": "code",
   "execution_count": 50,
   "id": "efficient-chest",
   "metadata": {
    "execution": {
     "iopub.execute_input": "2024-01-02T10:37:51.740169Z",
     "iopub.status.busy": "2024-01-02T10:37:51.739078Z",
     "iopub.status.idle": "2024-01-02T10:37:51.746672Z",
     "shell.execute_reply": "2024-01-02T10:37:51.747335Z",
     "shell.execute_reply.started": "2021-10-10T20:53:30.921997Z"
    },
    "papermill": {
     "duration": 0.125366,
     "end_time": "2024-01-02T10:37:51.747546",
     "exception": false,
     "start_time": "2024-01-02T10:37:51.622180",
     "status": "completed"
    },
    "tags": []
   },
   "outputs": [
    {
     "data": {
      "text/plain": [
       "'ccd|ces|common core of data|common core of data ccd|cps|current population survey cps|integrated postsecondary education data system|integrated postsecondary education data system ipeds|ipeds|nces common core of data|oecd|oecd national accounts database oecd|organization for economic cooperation and development oecd|pisa|ppp|program for international student assessment pisa|progress in international reading literacy study|schools and staffing survey|timss|trends in international mathematics and science study|trends in international mathematics and science study timss'"
      ]
     },
     "execution_count": 50,
     "metadata": {},
     "output_type": "execute_result"
    }
   ],
   "source": [
    "submission['PredictionString'][1]"
   ]
  },
  {
   "cell_type": "code",
   "execution_count": 51,
   "id": "aerial-slave",
   "metadata": {
    "execution": {
     "iopub.execute_input": "2024-01-02T10:37:51.979199Z",
     "iopub.status.busy": "2024-01-02T10:37:51.978464Z",
     "iopub.status.idle": "2024-01-02T10:37:51.989779Z",
     "shell.execute_reply": "2024-01-02T10:37:51.990456Z",
     "shell.execute_reply.started": "2021-10-10T20:53:30.936207Z"
    },
    "papermill": {
     "duration": 0.128545,
     "end_time": "2024-01-02T10:37:51.990669",
     "exception": false,
     "start_time": "2024-01-02T10:37:51.862124",
     "status": "completed"
    },
    "tags": []
   },
   "outputs": [
    {
     "data": {
      "text/html": [
       "<div>\n",
       "<style scoped>\n",
       "    .dataframe tbody tr th:only-of-type {\n",
       "        vertical-align: middle;\n",
       "    }\n",
       "\n",
       "    .dataframe tbody tr th {\n",
       "        vertical-align: top;\n",
       "    }\n",
       "\n",
       "    .dataframe thead th {\n",
       "        text-align: right;\n",
       "    }\n",
       "</style>\n",
       "<table border=\"1\" class=\"dataframe\">\n",
       "  <thead>\n",
       "    <tr style=\"text-align: right;\">\n",
       "      <th></th>\n",
       "      <th>Id</th>\n",
       "      <th>PredictionString</th>\n",
       "    </tr>\n",
       "  </thead>\n",
       "  <tbody>\n",
       "    <tr>\n",
       "      <th>0</th>\n",
       "      <td>2100032a-7c33-4bff-97ef-690822c43466</td>\n",
       "      <td>adni|alzheimer s disease neuroimaging initiati...</td>\n",
       "    </tr>\n",
       "    <tr>\n",
       "      <th>1</th>\n",
       "      <td>2f392438-e215-4169-bebf-21ac4ff253e1</td>\n",
       "      <td>ccd|ces|common core of data|common core of dat...</td>\n",
       "    </tr>\n",
       "    <tr>\n",
       "      <th>2</th>\n",
       "      <td>3f316b38-1a24-45a9-8d8c-4e05a42257c6</td>\n",
       "      <td>national oceanic atmospheric administration no...</td>\n",
       "    </tr>\n",
       "    <tr>\n",
       "      <th>3</th>\n",
       "      <td>8e6996b4-ca08-4c0b-bed2-aaf07a4c6a60</td>\n",
       "      <td>ces|cnp|consumer expenditure survey ces|consum...</td>\n",
       "    </tr>\n",
       "  </tbody>\n",
       "</table>\n",
       "</div>"
      ],
      "text/plain": [
       "                                     Id  \\\n",
       "0  2100032a-7c33-4bff-97ef-690822c43466   \n",
       "1  2f392438-e215-4169-bebf-21ac4ff253e1   \n",
       "2  3f316b38-1a24-45a9-8d8c-4e05a42257c6   \n",
       "3  8e6996b4-ca08-4c0b-bed2-aaf07a4c6a60   \n",
       "\n",
       "                                    PredictionString  \n",
       "0  adni|alzheimer s disease neuroimaging initiati...  \n",
       "1  ccd|ces|common core of data|common core of dat...  \n",
       "2  national oceanic atmospheric administration no...  \n",
       "3  ces|cnp|consumer expenditure survey ces|consum...  "
      ]
     },
     "execution_count": 51,
     "metadata": {},
     "output_type": "execute_result"
    }
   ],
   "source": [
    "submission.head()"
   ]
  },
  {
   "cell_type": "code",
   "execution_count": 52,
   "id": "neural-brooklyn",
   "metadata": {
    "execution": {
     "iopub.execute_input": "2024-01-02T10:37:52.220703Z",
     "iopub.status.busy": "2024-01-02T10:37:52.219946Z",
     "iopub.status.idle": "2024-01-02T10:37:52.231866Z",
     "shell.execute_reply": "2024-01-02T10:37:52.231121Z",
     "shell.execute_reply.started": "2021-10-10T20:53:30.954191Z"
    },
    "papermill": {
     "duration": 0.128247,
     "end_time": "2024-01-02T10:37:52.232029",
     "exception": false,
     "start_time": "2024-01-02T10:37:52.103782",
     "status": "completed"
    },
    "tags": []
   },
   "outputs": [],
   "source": [
    "submission.to_csv('submission.csv', index=False)"
   ]
  },
  {
   "cell_type": "code",
   "execution_count": 53,
   "id": "defensive-norwegian",
   "metadata": {
    "execution": {
     "iopub.execute_input": "2024-01-02T10:37:52.470477Z",
     "iopub.status.busy": "2024-01-02T10:37:52.469400Z",
     "iopub.status.idle": "2024-01-02T10:37:52.472879Z",
     "shell.execute_reply": "2024-01-02T10:37:52.472234Z",
     "shell.execute_reply.started": "2021-10-10T20:53:30.970984Z"
    },
    "papermill": {
     "duration": 0.124213,
     "end_time": "2024-01-02T10:37:52.473035",
     "exception": false,
     "start_time": "2024-01-02T10:37:52.348822",
     "status": "completed"
    },
    "tags": []
   },
   "outputs": [],
   "source": [
    "#test = pd.concat([train_df,train_df],axis=0,ignore_index=True)"
   ]
  },
  {
   "cell_type": "markdown",
   "id": "excited-posting",
   "metadata": {
    "papermill": {
     "duration": 0.127696,
     "end_time": "2024-01-02T10:37:52.722277",
     "exception": false,
     "start_time": "2024-01-02T10:37:52.594581",
     "status": "completed"
    },
    "tags": []
   },
   "source": [
    "# PredictionString Analysis"
   ]
  },
  {
   "cell_type": "markdown",
   "id": "conscious-burlington",
   "metadata": {
    "papermill": {
     "duration": 0.115807,
     "end_time": "2024-01-02T10:37:52.953933",
     "exception": false,
     "start_time": "2024-01-02T10:37:52.838126",
     "status": "completed"
    },
    "tags": []
   },
   "source": [
    "#  Baseline Modelling "
   ]
  },
  {
   "cell_type": "code",
   "execution_count": 54,
   "id": "productive-pride",
   "metadata": {
    "execution": {
     "iopub.execute_input": "2024-01-02T10:37:53.191477Z",
     "iopub.status.busy": "2024-01-02T10:37:53.190546Z",
     "iopub.status.idle": "2024-01-02T10:37:53.195446Z",
     "shell.execute_reply": "2024-01-02T10:37:53.196199Z",
     "shell.execute_reply.started": "2021-10-10T20:53:30.979006Z"
    },
    "papermill": {
     "duration": 0.127132,
     "end_time": "2024-01-02T10:37:53.196423",
     "exception": false,
     "start_time": "2024-01-02T10:37:53.069291",
     "status": "completed"
    },
    "tags": []
   },
   "outputs": [
    {
     "data": {
      "text/plain": [
       "'adni|alzheimer s disease neuroimaging initiative adni'"
      ]
     },
     "execution_count": 54,
     "metadata": {},
     "output_type": "execute_result"
    }
   ],
   "source": [
    "submission1['PredictionString'][0]"
   ]
  },
  {
   "cell_type": "markdown",
   "id": "electoral-biotechnology",
   "metadata": {
    "papermill": {
     "duration": 0.113954,
     "end_time": "2024-01-02T10:37:53.427098",
     "exception": false,
     "start_time": "2024-01-02T10:37:53.313144",
     "status": "completed"
    },
    "tags": []
   },
   "source": [
    "# Fine Tunning Through Huggingface Models"
   ]
  },
  {
   "cell_type": "code",
   "execution_count": 55,
   "id": "potential-michigan",
   "metadata": {
    "execution": {
     "iopub.execute_input": "2024-01-02T10:37:53.673195Z",
     "iopub.status.busy": "2024-01-02T10:37:53.672416Z",
     "iopub.status.idle": "2024-01-02T10:37:53.677355Z",
     "shell.execute_reply": "2024-01-02T10:37:53.677909Z",
     "shell.execute_reply.started": "2021-10-10T20:53:30.993102Z"
    },
    "papermill": {
     "duration": 0.134895,
     "end_time": "2024-01-02T10:37:53.678109",
     "exception": false,
     "start_time": "2024-01-02T10:37:53.543214",
     "status": "completed"
    },
    "tags": []
   },
   "outputs": [
    {
     "data": {
      "text/plain": [
       "'hbcs|chs|ncng|adni|helsinki birth cohort study hbcs|cardiovascular health study chs|norwegian cognitive neurogenetics ncng|alzheimers disease neuroimaging initiative adni'"
      ]
     },
     "execution_count": 55,
     "metadata": {},
     "output_type": "execute_result"
    }
   ],
   "source": [
    "submission2['PredictionString'][0]"
   ]
  },
  {
   "cell_type": "markdown",
   "id": "systematic-wildlife",
   "metadata": {
    "papermill": {
     "duration": 0.113242,
     "end_time": "2024-01-02T10:37:53.904960",
     "exception": false,
     "start_time": "2024-01-02T10:37:53.791718",
     "status": "completed"
    },
    "tags": []
   },
   "source": [
    "# Govt Datasets"
   ]
  },
  {
   "cell_type": "code",
   "execution_count": 56,
   "id": "bulgarian-fluid",
   "metadata": {
    "execution": {
     "iopub.execute_input": "2024-01-02T10:37:54.143831Z",
     "iopub.status.busy": "2024-01-02T10:37:54.142965Z",
     "iopub.status.idle": "2024-01-02T10:37:54.147978Z",
     "shell.execute_reply": "2024-01-02T10:37:54.147313Z",
     "shell.execute_reply.started": "2021-10-10T20:53:31.004385Z"
    },
    "papermill": {
     "duration": 0.129466,
     "end_time": "2024-01-02T10:37:54.148143",
     "exception": false,
     "start_time": "2024-01-02T10:37:54.018677",
     "status": "completed"
    },
    "tags": []
   },
   "outputs": [
    {
     "data": {
      "text/plain": [
       "'adni|alzheimer s disease neuroimaging initiative adni|pubmed'"
      ]
     },
     "execution_count": 56,
     "metadata": {},
     "output_type": "execute_result"
    }
   ],
   "source": [
    "submission3['PredictionString'][0]"
   ]
  },
  {
   "cell_type": "markdown",
   "id": "charming-federal",
   "metadata": {
    "papermill": {
     "duration": 0.120224,
     "end_time": "2024-01-02T10:37:54.384281",
     "exception": false,
     "start_time": "2024-01-02T10:37:54.264057",
     "status": "completed"
    },
    "tags": []
   },
   "source": [
    "# PredictionString after Merging dataframes"
   ]
  },
  {
   "cell_type": "code",
   "execution_count": 57,
   "id": "former-printing",
   "metadata": {
    "execution": {
     "iopub.execute_input": "2024-01-02T10:37:54.625925Z",
     "iopub.status.busy": "2024-01-02T10:37:54.625055Z",
     "iopub.status.idle": "2024-01-02T10:37:54.629579Z",
     "shell.execute_reply": "2024-01-02T10:37:54.628938Z",
     "shell.execute_reply.started": "2021-10-10T20:53:31.018899Z"
    },
    "papermill": {
     "duration": 0.126064,
     "end_time": "2024-01-02T10:37:54.629742",
     "exception": false,
     "start_time": "2024-01-02T10:37:54.503678",
     "status": "completed"
    },
    "tags": []
   },
   "outputs": [
    {
     "data": {
      "text/plain": [
       "'adni|alzheimer s disease neuroimaging initiative adni|alzheimers disease neuroimaging initiative adni|cardiovascular health study chs|chs|hbcs|helsinki birth cohort study hbcs|ncng|norwegian cognitive neurogenetics ncng|pubmed'"
      ]
     },
     "execution_count": 57,
     "metadata": {},
     "output_type": "execute_result"
    }
   ],
   "source": [
    "submission['PredictionString'][0]"
   ]
  },
  {
   "cell_type": "code",
   "execution_count": 58,
   "id": "armed-assistant",
   "metadata": {
    "execution": {
     "iopub.execute_input": "2024-01-02T10:37:54.864824Z",
     "iopub.status.busy": "2024-01-02T10:37:54.863965Z",
     "iopub.status.idle": "2024-01-02T10:37:55.090437Z",
     "shell.execute_reply": "2024-01-02T10:37:55.089126Z",
     "shell.execute_reply.started": "2021-10-10T20:53:31.028356Z"
    },
    "papermill": {
     "duration": 0.345057,
     "end_time": "2024-01-02T10:37:55.090672",
     "exception": false,
     "start_time": "2024-01-02T10:37:54.745615",
     "status": "completed"
    },
    "tags": []
   },
   "outputs": [],
   "source": [
    "from sklearn.cluster import KMeans \n",
    "from sklearn.feature_extraction.text import TfidfVectorizer\n",
    "from sklearn.decomposition import PCA\n",
    "from sklearn.preprocessing import normalize\n",
    "from sklearn.metrics import pairwise_distances\n",
    "from nltk.tokenize import word_tokenize\n",
    "from nltk.stem.porter import PorterStemmer\n",
    "from nltk.corpus import stopwords\n",
    "\n",
    "from scipy.stats import multivariate_normal as mvn\n",
    "import nltk\n",
    "import os\n",
    "import random\n",
    "\n",
    "plt.style.use('fivethirtyeight')\n"
   ]
  },
  {
   "cell_type": "code",
   "execution_count": 59,
   "id": "illegal-congress",
   "metadata": {
    "execution": {
     "iopub.execute_input": "2024-01-02T10:37:55.340243Z",
     "iopub.status.busy": "2024-01-02T10:37:55.339434Z",
     "iopub.status.idle": "2024-01-02T10:37:55.353348Z",
     "shell.execute_reply": "2024-01-02T10:37:55.352415Z",
     "shell.execute_reply.started": "2021-10-10T20:53:31.230292Z"
    },
    "papermill": {
     "duration": 0.144308,
     "end_time": "2024-01-02T10:37:55.353571",
     "exception": false,
     "start_time": "2024-01-02T10:37:55.209263",
     "status": "completed"
    },
    "tags": []
   },
   "outputs": [],
   "source": [
    "from sklearn.feature_extraction.text import TfidfVectorizer\n",
    "data = submission['PredictionString']\n",
    "\n",
    "\n",
    "tf_idf_vectorizor = TfidfVectorizer(stop_words = 'english',#tokenizer = tokenize_and_stem,\n",
    "                             max_features = 20000)\n",
    "tf_idf = tf_idf_vectorizor.fit_transform(data)\n",
    "tf_idf_norm = normalize(tf_idf)\n",
    "tf_idf_array = tf_idf_norm.toarray()"
   ]
  },
  {
   "cell_type": "code",
   "execution_count": 60,
   "id": "protected-northeast",
   "metadata": {
    "execution": {
     "iopub.execute_input": "2024-01-02T10:37:55.613318Z",
     "iopub.status.busy": "2024-01-02T10:37:55.611216Z",
     "iopub.status.idle": "2024-01-02T10:37:55.617889Z",
     "shell.execute_reply": "2024-01-02T10:37:55.616727Z",
     "shell.execute_reply.started": "2021-10-10T20:53:31.249832Z"
    },
    "papermill": {
     "duration": 0.145941,
     "end_time": "2024-01-02T10:37:55.618111",
     "exception": false,
     "start_time": "2024-01-02T10:37:55.472170",
     "status": "completed"
    },
    "tags": []
   },
   "outputs": [],
   "source": [
    "class Kmeans:\n",
    "    \"\"\" K Means Clustering\n",
    "    \n",
    "    Parameters\n",
    "    -----------\n",
    "        k: int , number of clusters\n",
    "        \n",
    "        seed: int, will be randomly set if None\n",
    "        \n",
    "        max_iter: int, number of iterations to run algorithm, default: 200\n",
    "        \n",
    "    Attributes\n",
    "    -----------\n",
    "       centroids: array, k, number_features\n",
    "       \n",
    "       cluster_labels: label for each data point\n",
    "       \n",
    "    \"\"\"\n",
    "    \n",
    "    def __init__(self, k, seed = None, max_iter = 200):\n",
    "        self.k = k\n",
    "        self.seed = seed\n",
    "        if self.seed is not None:\n",
    "            np.random.seed(self.seed)\n",
    "        self.max_iter = max_iter\n",
    "        \n",
    "            \n",
    "    \n",
    "    def initialise_centroids(self, data):\n",
    "        \"\"\"Randomly Initialise Centroids\n",
    "        \n",
    "        Parameters\n",
    "        ----------\n",
    "        data: array or matrix, number_rows, number_features\n",
    "        \n",
    "        Returns\n",
    "        --------\n",
    "        centroids: array of k centroids chosen as random data points \n",
    "        \"\"\"\n",
    "        \n",
    "        initial_centroids = np.random.permutation(data.shape[0])[:self.k]\n",
    "        self.centroids = data[initial_centroids]\n",
    "\n",
    "        return self.centroids\n",
    "    \n",
    "    \n",
    "    def assign_clusters(self, data):\n",
    "        \"\"\"Compute distance of data from clusters and assign data point\n",
    "           to closest cluster.\n",
    "        \n",
    "        Parameters\n",
    "        ----------\n",
    "        data: array or matrix, number_rows, number_features\n",
    "        \n",
    "        Returns\n",
    "        --------\n",
    "        cluster_labels: index which minmises the distance of data to each\n",
    "        cluster\n",
    "            \n",
    "        \"\"\"\n",
    "        \n",
    "        if data.ndim == 1:\n",
    "            data = data.reshape(-1, 1)\n",
    "        \n",
    "        dist_to_centroid =  pairwise_distances(data, self.centroids, metric = 'euclidean')\n",
    "        self.cluster_labels = np.argmin(dist_to_centroid, axis = 1)\n",
    "        \n",
    "        return  self.cluster_labels\n",
    "    \n",
    "    \n",
    "    def update_centroids(self, data):\n",
    "        \"\"\"Computes average of all data points in cluster and\n",
    "           assigns new centroids as average of data points\n",
    "        \n",
    "        Parameters\n",
    "        -----------\n",
    "        data: array or matrix, number_rows, number_features\n",
    "        \n",
    "        Returns\n",
    "        -----------\n",
    "        centroids: array, k, number_features\n",
    "        \"\"\"\n",
    "        \n",
    "        self.centroids = np.array([data[self.cluster_labels == i].mean(axis = 0) for i in range(self.k)])\n",
    "        \n",
    "        return self.centroids\n",
    "    \n",
    "    \n",
    "    def convergence_calculation(self):\n",
    "        \"\"\"\n",
    "        Calculates \n",
    "        \n",
    "        \"\"\"\n",
    "        pass\n",
    "    \n",
    "    def predict(self, data):\n",
    "        \"\"\"Predict which cluster data point belongs to\n",
    "        \n",
    "        Parameters\n",
    "        ----------\n",
    "        data: array or matrix, number_rows, number_features\n",
    "        \n",
    "        Returns\n",
    "        --------\n",
    "        cluster_labels: index which minmises the distance of data to each\n",
    "        cluster\n",
    "        \"\"\"\n",
    "        \n",
    "        return self.assign_clusters(data)\n",
    "    \n",
    "    def fit_kmeans(self, data):\n",
    "        \"\"\"\n",
    "        This function contains the main loop to fit the algorithm\n",
    "        Implements initialise centroids and update_centroids\n",
    "        according to max_iter\n",
    "        -----------------------\n",
    "        \n",
    "        Returns\n",
    "        -------\n",
    "        instance of kmeans class\n",
    "            \n",
    "        \"\"\"\n",
    "        self.centroids = self.initialise_centroids(data)\n",
    "        \n",
    "        # Main kmeans loop\n",
    "        for iter in range(self.max_iter):\n",
    "\n",
    "            self.cluster_labels = self.assign_clusters(data)\n",
    "            self.centroids = self.update_centroids(data)          \n",
    "            if iter % 100 == 0:\n",
    "                print(\"Running Model Iteration %d \" %iter)\n",
    "        print(\"Model finished running\")\n",
    "        return self    "
   ]
  },
  {
   "cell_type": "code",
   "execution_count": 61,
   "id": "about-guinea",
   "metadata": {
    "execution": {
     "iopub.execute_input": "2024-01-02T10:37:55.892552Z",
     "iopub.status.busy": "2024-01-02T10:37:55.891702Z",
     "iopub.status.idle": "2024-01-02T10:37:56.095899Z",
     "shell.execute_reply": "2024-01-02T10:37:56.095134Z",
     "shell.execute_reply.started": "2021-10-10T20:53:31.268033Z"
    },
    "papermill": {
     "duration": 0.33139,
     "end_time": "2024-01-02T10:37:56.096086",
     "exception": false,
     "start_time": "2024-01-02T10:37:55.764696",
     "status": "completed"
    },
    "tags": []
   },
   "outputs": [
    {
     "data": {
      "text/plain": [
       "array([-3.58040006,  7.08578225])"
      ]
     },
     "execution_count": 61,
     "metadata": {},
     "output_type": "execute_result"
    },
    {
     "data": {
      "image/png": "[encoded data removed]",
      "text/plain": [
       "<Figure size 432x288 with 1 Axes>"
      ]
     },
     "metadata": {},
     "output_type": "display_data"
    }
   ],
   "source": [
    "from sklearn.datasets import make_blobs\n",
    "# create blobs\n",
    "data = make_blobs(n_samples=200, n_features=2, centers=3, cluster_std=1.6, random_state=50)\n",
    "# create np array for data points\n",
    "points = data[0]\n",
    "# create scatter plot\n",
    "plt.scatter(data[0][:,0], data[0][:,1], c=data[1], cmap='viridis')\n",
    "plt.xlim(-15,15)\n",
    "plt.ylim(-15,15)\n",
    "\n",
    "X = data[0]\n",
    "X[2]"
   ]
  },
  {
   "cell_type": "code",
   "execution_count": 62,
   "id": "dying-message",
   "metadata": {
    "execution": {
     "iopub.execute_input": "2024-01-02T10:37:56.351510Z",
     "iopub.status.busy": "2024-01-02T10:37:56.350460Z",
     "iopub.status.idle": "2024-01-02T10:37:56.578138Z",
     "shell.execute_reply": "2024-01-02T10:37:56.577492Z",
     "shell.execute_reply.started": "2021-10-10T20:53:31.457129Z"
    },
    "papermill": {
     "duration": 0.356285,
     "end_time": "2024-01-02T10:37:56.578327",
     "exception": false,
     "start_time": "2024-01-02T10:37:56.222042",
     "status": "completed"
    },
    "tags": []
   },
   "outputs": [
    {
     "name": "stdout",
     "output_type": "stream",
     "text": [
      "Running Model Iteration 0 \n",
      "Running Model Iteration 100 \n",
      "Running Model Iteration 200 \n",
      "Running Model Iteration 300 \n",
      "Running Model Iteration 400 \n",
      "Running Model Iteration 500 \n",
      "Model finished running\n"
     ]
    },
    {
     "data": {
      "text/plain": [
       "array([0, 0, 1, 0])"
      ]
     },
     "execution_count": 62,
     "metadata": {},
     "output_type": "execute_result"
    }
   ],
   "source": [
    "temp_k  = Kmeans(4, 1, 600)\n",
    "temp_fitted  = temp_k.fit_kmeans(X)\n",
    "new_data = np.array([[1.066, -8.66],\n",
    "                    [1.87876, -6.516],\n",
    "                    [-1.59728965,  8.45369045],\n",
    "                    [1.87876, -6.516]])\n",
    "temp_fitted.predict(new_data)"
   ]
  },
  {
   "cell_type": "code",
   "execution_count": 63,
   "id": "original-glasgow",
   "metadata": {
    "execution": {
     "iopub.execute_input": "2024-01-02T10:37:56.827911Z",
     "iopub.status.busy": "2024-01-02T10:37:56.826586Z",
     "iopub.status.idle": "2024-01-02T10:37:57.206381Z",
     "shell.execute_reply": "2024-01-02T10:37:57.205801Z",
     "shell.execute_reply.started": "2021-10-10T20:53:31.648692Z"
    },
    "papermill": {
     "duration": 0.508839,
     "end_time": "2024-01-02T10:37:57.206574",
     "exception": false,
     "start_time": "2024-01-02T10:37:56.697735",
     "status": "completed"
    },
    "tags": []
   },
   "outputs": [
    {
     "name": "stdout",
     "output_type": "stream",
     "text": [
      "Running Model Iteration 0 \n",
      "Running Model Iteration 100 \n",
      "Running Model Iteration 200 \n",
      "Running Model Iteration 300 \n",
      "Running Model Iteration 400 \n",
      "Running Model Iteration 500 \n",
      "Model finished running\n",
      "CPU times: user 149 ms, sys: 2.92 ms, total: 152 ms\n",
      "Wall time: 151 ms\n"
     ]
    },
    {
     "data": {
      "image/png": "[encoded data removed]",
      "text/plain": [
       "<Figure size 432x288 with 1 Axes>"
      ]
     },
     "metadata": {},
     "output_type": "display_data"
    }
   ],
   "source": [
    "sklearn_pca = PCA(n_components = 2)\n",
    "Y_sklearn = sklearn_pca.fit_transform(tf_idf_array)\n",
    "test_e = Kmeans(3, 1, 600)\n",
    "%time fitted = test_e.fit_kmeans(Y_sklearn)\n",
    "predicted_values = test_e.predict(Y_sklearn)\n",
    "\n",
    "plt.scatter(Y_sklearn[:, 0], Y_sklearn[:, 1], c=predicted_values, s=50, cmap='viridis')\n",
    "\n",
    "centers = fitted.centroids\n",
    "plt.scatter(centers[:, 0], centers[:, 1],c='black', s=300, alpha=0.6);"
   ]
  },
  {
   "cell_type": "markdown",
   "id": "cognitive-montreal",
   "metadata": {
    "papermill": {
     "duration": 0.120451,
     "end_time": "2024-01-02T10:37:57.447324",
     "exception": false,
     "start_time": "2024-01-02T10:37:57.326873",
     "status": "completed"
    },
    "tags": []
   },
   "source": [
    "# SK learn Implementation"
   ]
  },
  {
   "cell_type": "code",
   "execution_count": 64,
   "id": "protected-insert",
   "metadata": {
    "execution": {
     "iopub.execute_input": "2024-01-02T10:37:57.712098Z",
     "iopub.status.busy": "2024-01-02T10:37:57.704250Z",
     "iopub.status.idle": "2024-01-02T10:37:57.938601Z",
     "shell.execute_reply": "2024-01-02T10:37:57.937933Z",
     "shell.execute_reply.started": "2021-10-10T20:53:32.029995Z"
    },
    "papermill": {
     "duration": 0.368802,
     "end_time": "2024-01-02T10:37:57.938803",
     "exception": false,
     "start_time": "2024-01-02T10:37:57.570001",
     "status": "completed"
    },
    "tags": []
   },
   "outputs": [
    {
     "name": "stdout",
     "output_type": "stream",
     "text": [
      "CPU times: user 18.8 ms, sys: 1.41 ms, total: 20.2 ms\n",
      "Wall time: 29.4 ms\n"
     ]
    },
    {
     "data": {
      "image/png": "[encoded data removed]",
      "text/plain": [
       "<Figure size 432x288 with 1 Axes>"
      ]
     },
     "metadata": {},
     "output_type": "display_data"
    }
   ],
   "source": [
    "from sklearn.cluster import KMeans\n",
    "n_clusters = 3\n",
    "sklearn_pca = PCA(n_components = 2)\n",
    "Y_sklearn = sklearn_pca.fit_transform(tf_idf_array)\n",
    "kmeans = KMeans(n_clusters= n_clusters, max_iter=600, algorithm = 'auto')\n",
    "%time fitted = kmeans.fit(Y_sklearn)\n",
    "prediction = kmeans.predict(Y_sklearn)\n",
    "\n",
    "plt.scatter(Y_sklearn[:, 0], Y_sklearn[:, 1],c=prediction ,s=50, cmap='viridis')\n",
    "\n",
    "centers2 = fitted.cluster_centers_\n",
    "plt.scatter(centers2[:, 0], centers2[:, 1],c='black', s=300, alpha=0.6);"
   ]
  },
  {
   "cell_type": "markdown",
   "id": "stretch-passage",
   "metadata": {
    "papermill": {
     "duration": 0.124285,
     "end_time": "2024-01-02T10:37:58.196762",
     "exception": false,
     "start_time": "2024-01-02T10:37:58.072477",
     "status": "completed"
    },
    "tags": []
   },
   "source": [
    "# Optimal Clusters"
   ]
  },
  {
   "cell_type": "code",
   "execution_count": 65,
   "id": "amazing-glory",
   "metadata": {
    "execution": {
     "iopub.execute_input": "2024-01-02T10:37:58.450634Z",
     "iopub.status.busy": "2024-01-02T10:37:58.449838Z",
     "iopub.status.idle": "2024-01-02T10:37:59.023074Z",
     "shell.execute_reply": "2024-01-02T10:37:59.021293Z",
     "shell.execute_reply.started": "2021-10-10T20:53:32.228234Z"
    },
    "papermill": {
     "duration": 0.702382,
     "end_time": "2024-01-02T10:37:59.023265",
     "exception": false,
     "start_time": "2024-01-02T10:37:58.320883",
     "status": "completed"
    },
    "tags": []
   },
   "outputs": [
    {
     "data": {
      "image/png": "[encoded data removed]",
      "text/plain": [
       "<Figure size 432x288 with 1 Axes>"
      ]
     },
     "metadata": {},
     "output_type": "display_data"
    }
   ],
   "source": [
    "number_clusters = range(1, 5)\n",
    "\n",
    "kmeans = [KMeans(n_clusters=i, max_iter = 600) for i in number_clusters]\n",
    "kmeans\n",
    "\n",
    "score = [kmeans[i].fit(Y_sklearn).score(Y_sklearn) for i in range(len(kmeans))]\n",
    "score = [i*-1 for i in score]\n",
    "\n",
    "plt.plot(number_clusters, score)\n",
    "plt.xlabel('Number of Clusters')\n",
    "plt.ylabel('Score')\n",
    "plt.title('Elbow Method')\n",
    "plt.show()"
   ]
  },
  {
   "cell_type": "markdown",
   "id": "digital-bahrain",
   "metadata": {
    "papermill": {
     "duration": 0.125647,
     "end_time": "2024-01-02T10:37:59.274641",
     "exception": false,
     "start_time": "2024-01-02T10:37:59.148994",
     "status": "completed"
    },
    "tags": []
   },
   "source": [
    "# Extracting top features"
   ]
  },
  {
   "cell_type": "code",
   "execution_count": 66,
   "id": "needed-performance",
   "metadata": {
    "execution": {
     "iopub.execute_input": "2024-01-02T10:37:59.540361Z",
     "iopub.status.busy": "2024-01-02T10:37:59.539473Z",
     "iopub.status.idle": "2024-01-02T10:37:59.547963Z",
     "shell.execute_reply": "2024-01-02T10:37:59.548657Z",
     "shell.execute_reply.started": "2021-10-10T20:53:32.654137Z"
    },
    "papermill": {
     "duration": 0.144553,
     "end_time": "2024-01-02T10:37:59.548895",
     "exception": false,
     "start_time": "2024-01-02T10:37:59.404342",
     "status": "completed"
    },
    "tags": []
   },
   "outputs": [],
   "source": [
    "def get_top_features_cluster(tf_idf_array, prediction, n_feats):\n",
    "    labels = np.unique(prediction)\n",
    "    dfs = []\n",
    "    for label in labels:\n",
    "        id_temp = np.where(prediction==label) # indices for each cluster\n",
    "        x_means = np.mean(tf_idf_array[id_temp], axis = 0) # returns average score across cluster\n",
    "        sorted_means = np.argsort(x_means)[::-1][:n_feats] # indices with top 20 scores\n",
    "        features = tf_idf_vectorizor.get_feature_names()\n",
    "        best_features = [(features[i], x_means[i]) for i in sorted_means]\n",
    "        df = pd.DataFrame(best_features, columns = ['features', 'score'])\n",
    "        dfs.append(df)\n",
    "    return dfs\n",
    "dfs = get_top_features_cluster(tf_idf_array, prediction, 20)"
   ]
  },
  {
   "cell_type": "code",
   "execution_count": 67,
   "id": "former-giving",
   "metadata": {
    "execution": {
     "iopub.execute_input": "2024-01-02T10:37:59.808380Z",
     "iopub.status.busy": "2024-01-02T10:37:59.807494Z",
     "iopub.status.idle": "2024-01-02T10:38:00.146695Z",
     "shell.execute_reply": "2024-01-02T10:38:00.147335Z",
     "shell.execute_reply.started": "2021-10-10T20:53:32.668745Z"
    },
    "papermill": {
     "duration": 0.471597,
     "end_time": "2024-01-02T10:38:00.147584",
     "exception": false,
     "start_time": "2024-01-02T10:37:59.675987",
     "status": "completed"
    },
    "tags": []
   },
   "outputs": [
    {
     "data": {
      "text/plain": [
       "<AxesSubplot:xlabel='score', ylabel='features'>"
      ]
     },
     "execution_count": 67,
     "metadata": {},
     "output_type": "execute_result"
    },
    {
     "data": {
      "image/png": "[encoded data removed]",
      "text/plain": [
       "<Figure size 576x432 with 1 Axes>"
      ]
     },
     "metadata": {},
     "output_type": "display_data"
    }
   ],
   "source": [
    "import seaborn as sns\n",
    "plt.figure(figsize=(8,6))\n",
    "sns.set(font_scale = 2)\n",
    "sns.barplot(x = 'score' , y = 'features', orient = 'h' , data = dfs[0][:15])"
   ]
  },
  {
   "cell_type": "code",
   "execution_count": 68,
   "id": "stunning-paste",
   "metadata": {
    "execution": {
     "iopub.execute_input": "2024-01-02T10:38:00.409178Z",
     "iopub.status.busy": "2024-01-02T10:38:00.408278Z",
     "iopub.status.idle": "2024-01-02T10:38:00.755017Z",
     "shell.execute_reply": "2024-01-02T10:38:00.754178Z",
     "shell.execute_reply.started": "2021-10-10T20:53:32.971196Z"
    },
    "papermill": {
     "duration": 0.478533,
     "end_time": "2024-01-02T10:38:00.755206",
     "exception": false,
     "start_time": "2024-01-02T10:38:00.276673",
     "status": "completed"
    },
    "tags": []
   },
   "outputs": [
    {
     "data": {
      "text/plain": [
       "<AxesSubplot:xlabel='score', ylabel='features'>"
      ]
     },
     "execution_count": 68,
     "metadata": {},
     "output_type": "execute_result"
    },
    {
     "data": {
      "image/png": "[encoded data removed]",
      "text/plain": [
       "<Figure size 576x432 with 1 Axes>"
      ]
     },
     "metadata": {},
     "output_type": "display_data"
    }
   ],
   "source": [
    "plt.figure(figsize=(8,6))\n",
    "sns.set(font_scale = 2)\n",
    "sns.barplot(x = 'score' , y = 'features', orient = 'h' , data = dfs[1][:15])"
   ]
  },
  {
   "cell_type": "code",
   "execution_count": 69,
   "id": "solved-albuquerque",
   "metadata": {
    "execution": {
     "iopub.execute_input": "2024-01-02T10:38:01.080846Z",
     "iopub.status.busy": "2024-01-02T10:38:01.041637Z",
     "iopub.status.idle": "2024-01-02T10:38:01.377969Z",
     "shell.execute_reply": "2024-01-02T10:38:01.377136Z",
     "shell.execute_reply.started": "2021-10-10T20:53:33.263607Z"
    },
    "papermill": {
     "duration": 0.487525,
     "end_time": "2024-01-02T10:38:01.378150",
     "exception": false,
     "start_time": "2024-01-02T10:38:00.890625",
     "status": "completed"
    },
    "tags": []
   },
   "outputs": [
    {
     "data": {
      "text/plain": [
       "<AxesSubplot:xlabel='score', ylabel='features'>"
      ]
     },
     "execution_count": 69,
     "metadata": {},
     "output_type": "execute_result"
    },
    {
     "data": {
      "image/png": "[encoded data removed]",
      "text/plain": [
       "<Figure size 576x432 with 1 Axes>"
      ]
     },
     "metadata": {},
     "output_type": "display_data"
    }
   ],
   "source": [
    "plt.figure(figsize=(8,6))\n",
    "sns.set(font_scale = 2)\n",
    "sns.barplot(x = 'score' , y = 'features', orient = 'h' , data = dfs[2][:15])"
   ]
  },
  {
   "cell_type": "code",
   "execution_count": 70,
   "id": "fabulous-elder",
   "metadata": {
    "execution": {
     "iopub.execute_input": "2024-01-02T10:38:01.651059Z",
     "iopub.status.busy": "2024-01-02T10:38:01.649111Z",
     "iopub.status.idle": "2024-01-02T10:38:01.656220Z",
     "shell.execute_reply": "2024-01-02T10:38:01.655490Z",
     "shell.execute_reply.started": "2021-10-10T20:53:33.554861Z"
    },
    "papermill": {
     "duration": 0.146766,
     "end_time": "2024-01-02T10:38:01.656381",
     "exception": false,
     "start_time": "2024-01-02T10:38:01.509615",
     "status": "completed"
    },
    "tags": []
   },
   "outputs": [],
   "source": [
    "for i, df in enumerate(dfs):\n",
    "    df.to_csv('df_'+str(i)+'.csv')"
   ]
  },
  {
   "cell_type": "code",
   "execution_count": 71,
   "id": "saved-palmer",
   "metadata": {
    "execution": {
     "iopub.execute_input": "2024-01-02T10:38:01.929069Z",
     "iopub.status.busy": "2024-01-02T10:38:01.928210Z",
     "iopub.status.idle": "2024-01-02T10:38:02.584171Z",
     "shell.execute_reply": "2024-01-02T10:38:02.584829Z",
     "shell.execute_reply.started": "2021-10-10T20:53:33.567002Z"
    },
    "papermill": {
     "duration": 0.797868,
     "end_time": "2024-01-02T10:38:02.585072",
     "exception": false,
     "start_time": "2024-01-02T10:38:01.787204",
     "status": "completed"
    },
    "tags": []
   },
   "outputs": [
    {
     "name": "stderr",
     "output_type": "stream",
     "text": [
      "/opt/conda/lib/python3.7/site-packages/ipykernel_launcher.py:14: UserWarning: FixedFormatter should only be used together with FixedLocator\n",
      "  \n"
     ]
    },
    {
     "data": {
      "image/png": "[encoded data removed]",
      "text/plain": [
       "<Figure size 1008x864 with 3 Axes>"
      ]
     },
     "metadata": {},
     "output_type": "display_data"
    }
   ],
   "source": [
    "def plot_features(dfs):\n",
    "    fig = plt.figure(figsize=(14,12))\n",
    "    x = np.arange(len(dfs[0]))\n",
    "    for i, df in enumerate(dfs):\n",
    "        ax = fig.add_subplot(1, len(dfs), i+1)\n",
    "        ax.set_title(\"Cluster: \"+ str(i), fontsize = 14)\n",
    "        ax.spines[\"top\"].set_visible(False)\n",
    "        ax.spines[\"right\"].set_visible(False)\n",
    "        ax.set_frame_on(False)\n",
    "        ax.get_xaxis().tick_bottom()\n",
    "        ax.get_yaxis().tick_left()\n",
    "        ax.ticklabel_format(axis='x', style='sci', scilimits=(-2,2))\n",
    "        ax.barh(x, df.score, align='center', color='#40826d')\n",
    "        yticks = ax.set_yticklabels(df.features)\n",
    "    plt.show();\n",
    "plot_features(dfs)"
   ]
  },
  {
   "cell_type": "code",
   "execution_count": 72,
   "id": "global-insulin",
   "metadata": {
    "execution": {
     "iopub.execute_input": "2024-01-02T10:38:02.870793Z",
     "iopub.status.busy": "2024-01-02T10:38:02.869397Z",
     "iopub.status.idle": "2024-01-02T10:38:05.350323Z",
     "shell.execute_reply": "2024-01-02T10:38:05.351026Z",
     "shell.execute_reply.started": "2021-10-10T20:55:18.41049Z"
    },
    "papermill": {
     "duration": 2.627804,
     "end_time": "2024-01-02T10:38:05.351281",
     "exception": false,
     "start_time": "2024-01-02T10:38:02.723477",
     "status": "completed"
    },
    "tags": []
   },
   "outputs": [
    {
     "data": {
      "image/png": "[encoded data removed]",
      "text/plain": [
       "<Figure size 7200x3600 with 1 Axes>"
      ]
     },
     "metadata": {},
     "output_type": "display_data"
    }
   ],
   "source": [
    "\n",
    "\n",
    "plt.figure(figsize=(100,50))\n",
    "plt.scatter(submission['PredictionString'],submission['Id'])\n",
    "plt.xlabel('Weight')\n",
    "plt.ylabel('Height')\n",
    "plt.title('Data Distribution')\n",
    "plt.show()"
   ]
  },
  {
   "cell_type": "markdown",
   "id": "approved-flashing",
   "metadata": {
    "papermill": {
     "duration": 0.156327,
     "end_time": "2024-01-02T10:38:05.659284",
     "exception": false,
     "start_time": "2024-01-02T10:38:05.502957",
     "status": "completed"
    },
    "tags": []
   },
   "source": [
    "# **# References**"
   ]
  },
  {
   "cell_type": "markdown",
   "id": "certain-fighter",
   "metadata": {
    "papermill": {
     "duration": 0.148578,
     "end_time": "2024-01-02T10:38:05.974021",
     "exception": false,
     "start_time": "2024-01-02T10:38:05.825443",
     "status": "completed"
    },
    "tags": []
   },
   "source": [
    "[https://www.kaggle.com/code/tayyabahussain/para-data](http://)\n",
    "\n",
    "[https://www.kaggle.com/code/tayyabahussain/coleridge-initiative-eda-modelling](http://)"
   ]
  },
  {
   "cell_type": "markdown",
   "id": "committed-stylus",
   "metadata": {
    "papermill": {
     "duration": 0.150798,
     "end_time": "2024-01-02T10:38:06.274857",
     "exception": false,
     "start_time": "2024-01-02T10:38:06.124059",
     "status": "completed"
    },
    "tags": []
   },
   "source": []
  },
  {
   "cell_type": "markdown",
   "id": "limited-intervention",
   "metadata": {
    "papermill": {
     "duration": 0.152479,
     "end_time": "2024-01-02T10:38:06.576491",
     "exception": false,
     "start_time": "2024-01-02T10:38:06.424012",
     "status": "completed"
    },
    "tags": []
   },
   "source": [
    "<p style=\"color:green;font-size:20px;\">Hope you like this kernel.\n",
    "    </br>Please don't forget to upvote and leave your valuable comment.   \n",
    "       </br> Thank you!</p><span style='font-size:100px;'>&#128513;</span></p>"
   ]
  }
 ],
 "metadata": {
  "kaggle": {
   "accelerator": "none",
   "dataSources": [
    {
     "databundleVersionId": 2089362,
     "sourceId": 25925,
     "sourceType": "competition"
    },
    {
     "datasetId": 1426148,
     "sourceId": 2361303,
     "sourceType": "datasetVersion"
    },
    {
     "sourceId": 66423818,
     "sourceType": "kernelVersion"
    }
   ],
   "dockerImageVersionId": 30096,
   "isGpuEnabled": false,
   "isInternetEnabled": false,
   "language": "python",
   "sourceType": "notebook"
  },
  "kernelspec": {
   "display_name": "Python 3",
   "language": "python",
   "name": "python3"
  },
  "language_info": {
   "codemirror_mode": {
    "name": "ipython",
    "version": 3
   },
   "file_extension": ".py",
   "mimetype": "text/x-python",
   "name": "python",
   "nbconvert_exporter": "python",
   "pygments_lexer": "ipython3",
   "version": "3.7.10"
  },
  "papermill": {
   "default_parameters": {},
   "duration": 410.328494,
   "end_time": "2024-01-02T10:38:09.565092",
   "environment_variables": {},
   "exception": null,
   "input_path": "__notebook__.ipynb",
   "output_path": "__notebook__.ipynb",
   "parameters": {},
   "start_time": "2024-01-02T10:31:19.236598",
   "version": "2.3.3"
  },
  "widgets": {
   "application/vnd.jupyter.widget-state+json": {
    "state": {
     "0559f99bea97479f9d2ab4b45bd5c88c": {
      "model_module": "@jupyter-widgets/base",
      "model_module_version": "1.2.0",
      "model_name": "LayoutModel",
      "state": {
       "_model_module": "@jupyter-widgets/base",
       "_model_module_version": "1.2.0",
       "_model_name": "LayoutModel",
       "_view_count": null,
       "_view_module": "@jupyter-widgets/base",
       "_view_module_version": "1.2.0",
       "_view_name": "LayoutView",
       "align_content": null,
       "align_items": null,
       "align_self": null,
       "border": null,
       "bottom": null,
       "display": null,
       "flex": null,
       "flex_flow": null,
       "grid_area": null,
       "grid_auto_columns": null,
       "grid_auto_flow": null,
       "grid_auto_rows": null,
       "grid_column": null,
       "grid_gap": null,
       "grid_row": null,
       "grid_template_areas": null,
       "grid_template_columns": null,
       "grid_template_rows": null,
       "height": null,
       "justify_content": null,
       "justify_items": null,
       "left": null,
       "margin": null,
       "max_height": null,
       "max_width": null,
       "min_height": null,
       "min_width": null,
       "object_fit": null,
       "object_position": null,
       "order": null,
       "overflow": null,
       "overflow_x": null,
       "overflow_y": null,
       "padding": null,
       "right": null,
       "top": null,
       "visibility": null,
       "width": null
      }
     },
     "0ab623c3d8fc4294889613bef3e776f1": {
      "model_module": "@jupyter-widgets/base",
      "model_module_version": "1.2.0",
      "model_name": "LayoutModel",
      "state": {
       "_model_module": "@jupyter-widgets/base",
       "_model_module_version": "1.2.0",
       "_model_name": "LayoutModel",
       "_view_count": null,
       "_view_module": "@jupyter-widgets/base",
       "_view_module_version": "1.2.0",
       "_view_name": "LayoutView",
       "align_content": null,
       "align_items": null,
       "align_self": null,
       "border": null,
       "bottom": null,
       "display": null,
       "flex": null,
       "flex_flow": null,
       "grid_area": null,
       "grid_auto_columns": null,
       "grid_auto_flow": null,
       "grid_auto_rows": null,
       "grid_column": null,
       "grid_gap": null,
       "grid_row": null,
       "grid_template_areas": null,
       "grid_template_columns": null,
       "grid_template_rows": null,
       "height": null,
       "justify_content": null,
       "justify_items": null,
       "left": null,
       "margin": null,
       "max_height": null,
       "max_width": null,
       "min_height": null,
       "min_width": null,
       "object_fit": null,
       "object_position": null,
       "order": null,
       "overflow": null,
       "overflow_x": null,
       "overflow_y": null,
       "padding": null,
       "right": null,
       "top": null,
       "visibility": null,
       "width": null
      }
     },
     "1029f702fe374c6da1fe65072a2f5158": {
      "model_module": "@jupyter-widgets/base",
      "model_module_version": "1.2.0",
      "model_name": "LayoutModel",
      "state": {
       "_model_module": "@jupyter-widgets/base",
       "_model_module_version": "1.2.0",
       "_model_name": "LayoutModel",
       "_view_count": null,
       "_view_module": "@jupyter-widgets/base",
       "_view_module_version": "1.2.0",
       "_view_name": "LayoutView",
       "align_content": null,
       "align_items": null,
       "align_self": null,
       "border": null,
       "bottom": null,
       "display": null,
       "flex": null,
       "flex_flow": null,
       "grid_area": null,
       "grid_auto_columns": null,
       "grid_auto_flow": null,
       "grid_auto_rows": null,
       "grid_column": null,
       "grid_gap": null,
       "grid_row": null,
       "grid_template_areas": null,
       "grid_template_columns": null,
       "grid_template_rows": null,
       "height": null,
       "justify_content": null,
       "justify_items": null,
       "left": null,
       "margin": null,
       "max_height": null,
       "max_width": null,
       "min_height": null,
       "min_width": null,
       "object_fit": null,
       "object_position": null,
       "order": null,
       "overflow": null,
       "overflow_x": null,
       "overflow_y": null,
       "padding": null,
       "right": null,
       "top": null,
       "visibility": null,
       "width": null
      }
     },
     "142a6fef7c1444868124a702149379f7": {
      "model_module": "@jupyter-widgets/controls",
      "model_module_version": "1.5.0",
      "model_name": "HTMLModel",
      "state": {
       "_dom_classes": [],
       "_model_module": "@jupyter-widgets/controls",
       "_model_module_version": "1.5.0",
       "_model_name": "HTMLModel",
       "_view_count": null,
       "_view_module": "@jupyter-widgets/controls",
       "_view_module_version": "1.5.0",
       "_view_name": "HTMLView",
       "description": "",
       "description_tooltip": null,
       "layout": "IPY_MODEL_58adc44d4ffb45c59363686593a8cedd",
       "placeholder": "​",
       "style": "IPY_MODEL_3f44f1de524a4af598246f29af39f28c",
       "value": " 4/4 [00:00&lt;00:00, 84.37it/s]"
      }
     },
     "2358fbb62ad74fff93a5e91c7a68439c": {
      "model_module": "@jupyter-widgets/base",
      "model_module_version": "1.2.0",
      "model_name": "LayoutModel",
      "state": {
       "_model_module": "@jupyter-widgets/base",
       "_model_module_version": "1.2.0",
       "_model_name": "LayoutModel",
       "_view_count": null,
       "_view_module": "@jupyter-widgets/base",
       "_view_module_version": "1.2.0",
       "_view_name": "LayoutView",
       "align_content": null,
       "align_items": null,
       "align_self": null,
       "border": null,
       "bottom": null,
       "display": null,
       "flex": null,
       "flex_flow": null,
       "grid_area": null,
       "grid_auto_columns": null,
       "grid_auto_flow": null,
       "grid_auto_rows": null,
       "grid_column": null,
       "grid_gap": null,
       "grid_row": null,
       "grid_template_areas": null,
       "grid_template_columns": null,
       "grid_template_rows": null,
       "height": null,
       "justify_content": null,
       "justify_items": null,
       "left": null,
       "margin": null,
       "max_height": null,
       "max_width": null,
       "min_height": null,
       "min_width": null,
       "object_fit": null,
       "object_position": null,
       "order": null,
       "overflow": null,
       "overflow_x": null,
       "overflow_y": null,
       "padding": null,
       "right": null,
       "top": null,
       "visibility": null,
       "width": null
      }
     },
     "2694176715d64d9780c6fb04d404e4f5": {
      "model_module": "@jupyter-widgets/controls",
      "model_module_version": "1.5.0",
      "model_name": "DescriptionStyleModel",
      "state": {
       "_model_module": "@jupyter-widgets/controls",
       "_model_module_version": "1.5.0",
       "_model_name": "DescriptionStyleModel",
       "_view_count": null,
       "_view_module": "@jupyter-widgets/base",
       "_view_module_version": "1.2.0",
       "_view_name": "StyleView",
       "description_width": ""
      }
     },
     "278cdebe22b04a1cbbe0a23d98c79114": {
      "model_module": "@jupyter-widgets/controls",
      "model_module_version": "1.5.0",
      "model_name": "FloatProgressModel",
      "state": {
       "_dom_classes": [],
       "_model_module": "@jupyter-widgets/controls",
       "_model_module_version": "1.5.0",
       "_model_name": "FloatProgressModel",
       "_view_count": null,
       "_view_module": "@jupyter-widgets/controls",
       "_view_module_version": "1.5.0",
       "_view_name": "ProgressView",
       "bar_style": "success",
       "description": "",
       "description_tooltip": null,
       "layout": "IPY_MODEL_a928663f1935485eba996bca3b7dd68a",
       "max": 4.0,
       "min": 0.0,
       "orientation": "horizontal",
       "style": "IPY_MODEL_a117456959964483952bf4921c6ea05f",
       "value": 4.0
      }
     },
     "31d6352b81824331abf2ab428458d65c": {
      "model_module": "@jupyter-widgets/controls",
      "model_module_version": "1.5.0",
      "model_name": "HTMLModel",
      "state": {
       "_dom_classes": [],
       "_model_module": "@jupyter-widgets/controls",
       "_model_module_version": "1.5.0",
       "_model_name": "HTMLModel",
       "_view_count": null,
       "_view_module": "@jupyter-widgets/controls",
       "_view_module_version": "1.5.0",
       "_view_name": "HTMLView",
       "description": "",
       "description_tooltip": null,
       "layout": "IPY_MODEL_5a8ef85aba51473787f15ba3ae2898e1",
       "placeholder": "​",
       "style": "IPY_MODEL_e8c6211b0aa04fa6af3351712c2ab528",
       "value": " 19661/19661 [02:03&lt;00:00, 148.77it/s]"
      }
     },
     "3407c7e7ba38486a830a977a5a9a73ec": {
      "model_module": "@jupyter-widgets/controls",
      "model_module_version": "1.5.0",
      "model_name": "DescriptionStyleModel",
      "state": {
       "_model_module": "@jupyter-widgets/controls",
       "_model_module_version": "1.5.0",
       "_model_name": "DescriptionStyleModel",
       "_view_count": null,
       "_view_module": "@jupyter-widgets/base",
       "_view_module_version": "1.2.0",
       "_view_name": "StyleView",
       "description_width": ""
      }
     },
     "3f1570c40869413aa81b0bba86cc5d22": {
      "model_module": "@jupyter-widgets/controls",
      "model_module_version": "1.5.0",
      "model_name": "ProgressStyleModel",
      "state": {
       "_model_module": "@jupyter-widgets/controls",
       "_model_module_version": "1.5.0",
       "_model_name": "ProgressStyleModel",
       "_view_count": null,
       "_view_module": "@jupyter-widgets/base",
       "_view_module_version": "1.2.0",
       "_view_name": "StyleView",
       "bar_color": null,
       "description_width": ""
      }
     },
     "3f44f1de524a4af598246f29af39f28c": {
      "model_module": "@jupyter-widgets/controls",
      "model_module_version": "1.5.0",
      "model_name": "DescriptionStyleModel",
      "state": {
       "_model_module": "@jupyter-widgets/controls",
       "_model_module_version": "1.5.0",
       "_model_name": "DescriptionStyleModel",
       "_view_count": null,
       "_view_module": "@jupyter-widgets/base",
       "_view_module_version": "1.2.0",
       "_view_name": "StyleView",
       "description_width": ""
      }
     },
     "400961c7fc434625b894ce3d6cdd5981": {
      "model_module": "@jupyter-widgets/controls",
      "model_module_version": "1.5.0",
      "model_name": "HTMLModel",
      "state": {
       "_dom_classes": [],
       "_model_module": "@jupyter-widgets/controls",
       "_model_module_version": "1.5.0",
       "_model_name": "HTMLModel",
       "_view_count": null,
       "_view_module": "@jupyter-widgets/controls",
       "_view_module_version": "1.5.0",
       "_view_name": "HTMLView",
       "description": "",
       "description_tooltip": null,
       "layout": "IPY_MODEL_ac63a3a3834047fd8859d77c6c6bcba2",
       "placeholder": "​",
       "style": "IPY_MODEL_2694176715d64d9780c6fb04d404e4f5",
       "value": " 4/4 [00:00&lt;00:00, 50.50it/s]"
      }
     },
     "41040ed49f564a8f978ea6e4c7d9abd3": {
      "model_module": "@jupyter-widgets/base",
      "model_module_version": "1.2.0",
      "model_name": "LayoutModel",
      "state": {
       "_model_module": "@jupyter-widgets/base",
       "_model_module_version": "1.2.0",
       "_model_name": "LayoutModel",
       "_view_count": null,
       "_view_module": "@jupyter-widgets/base",
       "_view_module_version": "1.2.0",
       "_view_name": "LayoutView",
       "align_content": null,
       "align_items": null,
       "align_self": null,
       "border": null,
       "bottom": null,
       "display": null,
       "flex": null,
       "flex_flow": null,
       "grid_area": null,
       "grid_auto_columns": null,
       "grid_auto_flow": null,
       "grid_auto_rows": null,
       "grid_column": null,
       "grid_gap": null,
       "grid_row": null,
       "grid_template_areas": null,
       "grid_template_columns": null,
       "grid_template_rows": null,
       "height": null,
       "justify_content": null,
       "justify_items": null,
       "left": null,
       "margin": null,
       "max_height": null,
       "max_width": null,
       "min_height": null,
       "min_width": null,
       "object_fit": null,
       "object_position": null,
       "order": null,
       "overflow": null,
       "overflow_x": null,
       "overflow_y": null,
       "padding": null,
       "right": null,
       "top": null,
       "visibility": null,
       "width": null
      }
     },
     "44fa7faadfef404681328c704f95d191": {
      "model_module": "@jupyter-widgets/controls",
      "model_module_version": "1.5.0",
      "model_name": "FloatProgressModel",
      "state": {
       "_dom_classes": [],
       "_model_module": "@jupyter-widgets/controls",
       "_model_module_version": "1.5.0",
       "_model_name": "FloatProgressModel",
       "_view_count": null,
       "_view_module": "@jupyter-widgets/controls",
       "_view_module_version": "1.5.0",
       "_view_name": "ProgressView",
       "bar_style": "success",
       "description": "",
       "description_tooltip": null,
       "layout": "IPY_MODEL_c5de7997038f40a9a0210e953401750c",
       "max": 4.0,
       "min": 0.0,
       "orientation": "horizontal",
       "style": "IPY_MODEL_4c0bc074b9b44fef8334633b19ec77f6",
       "value": 4.0
      }
     },
     "465091ba50854e5aa0ac5e607cddbbc7": {
      "model_module": "@jupyter-widgets/controls",
      "model_module_version": "1.5.0",
      "model_name": "DescriptionStyleModel",
      "state": {
       "_model_module": "@jupyter-widgets/controls",
       "_model_module_version": "1.5.0",
       "_model_name": "DescriptionStyleModel",
       "_view_count": null,
       "_view_module": "@jupyter-widgets/base",
       "_view_module_version": "1.2.0",
       "_view_name": "StyleView",
       "description_width": ""
      }
     },
     "4c0bc074b9b44fef8334633b19ec77f6": {
      "model_module": "@jupyter-widgets/controls",
      "model_module_version": "1.5.0",
      "model_name": "ProgressStyleModel",
      "state": {
       "_model_module": "@jupyter-widgets/controls",
       "_model_module_version": "1.5.0",
       "_model_name": "ProgressStyleModel",
       "_view_count": null,
       "_view_module": "@jupyter-widgets/base",
       "_view_module_version": "1.2.0",
       "_view_name": "StyleView",
       "bar_color": null,
       "description_width": ""
      }
     },
     "511f8e79a88647d0b81be7928dd28c26": {
      "model_module": "@jupyter-widgets/base",
      "model_module_version": "1.2.0",
      "model_name": "LayoutModel",
      "state": {
       "_model_module": "@jupyter-widgets/base",
       "_model_module_version": "1.2.0",
       "_model_name": "LayoutModel",
       "_view_count": null,
       "_view_module": "@jupyter-widgets/base",
       "_view_module_version": "1.2.0",
       "_view_name": "LayoutView",
       "align_content": null,
       "align_items": null,
       "align_self": null,
       "border": null,
       "bottom": null,
       "display": null,
       "flex": null,
       "flex_flow": null,
       "grid_area": null,
       "grid_auto_columns": null,
       "grid_auto_flow": null,
       "grid_auto_rows": null,
       "grid_column": null,
       "grid_gap": null,
       "grid_row": null,
       "grid_template_areas": null,
       "grid_template_columns": null,
       "grid_template_rows": null,
       "height": null,
       "justify_content": null,
       "justify_items": null,
       "left": null,
       "margin": null,
       "max_height": null,
       "max_width": null,
       "min_height": null,
       "min_width": null,
       "object_fit": null,
       "object_position": null,
       "order": null,
       "overflow": null,
       "overflow_x": null,
       "overflow_y": null,
       "padding": null,
       "right": null,
       "top": null,
       "visibility": null,
       "width": null
      }
     },
     "578aea85461342b1b0721e0aa8d111ca": {
      "model_module": "@jupyter-widgets/controls",
      "model_module_version": "1.5.0",
      "model_name": "DescriptionStyleModel",
      "state": {
       "_model_module": "@jupyter-widgets/controls",
       "_model_module_version": "1.5.0",
       "_model_name": "DescriptionStyleModel",
       "_view_count": null,
       "_view_module": "@jupyter-widgets/base",
       "_view_module_version": "1.2.0",
       "_view_name": "StyleView",
       "description_width": ""
      }
     },
     "58adc44d4ffb45c59363686593a8cedd": {
      "model_module": "@jupyter-widgets/base",
      "model_module_version": "1.2.0",
      "model_name": "LayoutModel",
      "state": {
       "_model_module": "@jupyter-widgets/base",
       "_model_module_version": "1.2.0",
       "_model_name": "LayoutModel",
       "_view_count": null,
       "_view_module": "@jupyter-widgets/base",
       "_view_module_version": "1.2.0",
       "_view_name": "LayoutView",
       "align_content": null,
       "align_items": null,
       "align_self": null,
       "border": null,
       "bottom": null,
       "display": null,
       "flex": null,
       "flex_flow": null,
       "grid_area": null,
       "grid_auto_columns": null,
       "grid_auto_flow": null,
       "grid_auto_rows": null,
       "grid_column": null,
       "grid_gap": null,
       "grid_row": null,
       "grid_template_areas": null,
       "grid_template_columns": null,
       "grid_template_rows": null,
       "height": null,
       "justify_content": null,
       "justify_items": null,
       "left": null,
       "margin": null,
       "max_height": null,
       "max_width": null,
       "min_height": null,
       "min_width": null,
       "object_fit": null,
       "object_position": null,
       "order": null,
       "overflow": null,
       "overflow_x": null,
       "overflow_y": null,
       "padding": null,
       "right": null,
       "top": null,
       "visibility": null,
       "width": null
      }
     },
     "5a8ef85aba51473787f15ba3ae2898e1": {
      "model_module": "@jupyter-widgets/base",
      "model_module_version": "1.2.0",
      "model_name": "LayoutModel",
      "state": {
       "_model_module": "@jupyter-widgets/base",
       "_model_module_version": "1.2.0",
       "_model_name": "LayoutModel",
       "_view_count": null,
       "_view_module": "@jupyter-widgets/base",
       "_view_module_version": "1.2.0",
       "_view_name": "LayoutView",
       "align_content": null,
       "align_items": null,
       "align_self": null,
       "border": null,
       "bottom": null,
       "display": null,
       "flex": null,
       "flex_flow": null,
       "grid_area": null,
       "grid_auto_columns": null,
       "grid_auto_flow": null,
       "grid_auto_rows": null,
       "grid_column": null,
       "grid_gap": null,
       "grid_row": null,
       "grid_template_areas": null,
       "grid_template_columns": null,
       "grid_template_rows": null,
       "height": null,
       "justify_content": null,
       "justify_items": null,
       "left": null,
       "margin": null,
       "max_height": null,
       "max_width": null,
       "min_height": null,
       "min_width": null,
       "object_fit": null,
       "object_position": null,
       "order": null,
       "overflow": null,
       "overflow_x": null,
       "overflow_y": null,
       "padding": null,
       "right": null,
       "top": null,
       "visibility": null,
       "width": null
      }
     },
     "5f4ddce4559e4f7095e0cd5a05ab1758": {
      "model_module": "@jupyter-widgets/controls",
      "model_module_version": "1.5.0",
      "model_name": "DescriptionStyleModel",
      "state": {
       "_model_module": "@jupyter-widgets/controls",
       "_model_module_version": "1.5.0",
       "_model_name": "DescriptionStyleModel",
       "_view_count": null,
       "_view_module": "@jupyter-widgets/base",
       "_view_module_version": "1.2.0",
       "_view_name": "StyleView",
       "description_width": ""
      }
     },
     "690029484d24484aa97a3b8541531f21": {
      "model_module": "@jupyter-widgets/controls",
      "model_module_version": "1.5.0",
      "model_name": "DescriptionStyleModel",
      "state": {
       "_model_module": "@jupyter-widgets/controls",
       "_model_module_version": "1.5.0",
       "_model_name": "DescriptionStyleModel",
       "_view_count": null,
       "_view_module": "@jupyter-widgets/base",
       "_view_module_version": "1.2.0",
       "_view_name": "StyleView",
       "description_width": ""
      }
     },
     "73e1a4cc391540539489bab72d5b2fb1": {
      "model_module": "@jupyter-widgets/base",
      "model_module_version": "1.2.0",
      "model_name": "LayoutModel",
      "state": {
       "_model_module": "@jupyter-widgets/base",
       "_model_module_version": "1.2.0",
       "_model_name": "LayoutModel",
       "_view_count": null,
       "_view_module": "@jupyter-widgets/base",
       "_view_module_version": "1.2.0",
       "_view_name": "LayoutView",
       "align_content": null,
       "align_items": null,
       "align_self": null,
       "border": null,
       "bottom": null,
       "display": null,
       "flex": null,
       "flex_flow": null,
       "grid_area": null,
       "grid_auto_columns": null,
       "grid_auto_flow": null,
       "grid_auto_rows": null,
       "grid_column": null,
       "grid_gap": null,
       "grid_row": null,
       "grid_template_areas": null,
       "grid_template_columns": null,
       "grid_template_rows": null,
       "height": null,
       "justify_content": null,
       "justify_items": null,
       "left": null,
       "margin": null,
       "max_height": null,
       "max_width": null,
       "min_height": null,
       "min_width": null,
       "object_fit": null,
       "object_position": null,
       "order": null,
       "overflow": null,
       "overflow_x": null,
       "overflow_y": null,
       "padding": null,
       "right": null,
       "top": null,
       "visibility": null,
       "width": null
      }
     },
     "75a8008ead054eee83abd9b7aca148be": {
      "model_module": "@jupyter-widgets/controls",
      "model_module_version": "1.5.0",
      "model_name": "FloatProgressModel",
      "state": {
       "_dom_classes": [],
       "_model_module": "@jupyter-widgets/controls",
       "_model_module_version": "1.5.0",
       "_model_name": "FloatProgressModel",
       "_view_count": null,
       "_view_module": "@jupyter-widgets/controls",
       "_view_module_version": "1.5.0",
       "_view_name": "ProgressView",
       "bar_style": "success",
       "description": "",
       "description_tooltip": null,
       "layout": "IPY_MODEL_2358fbb62ad74fff93a5e91c7a68439c",
       "max": 19661.0,
       "min": 0.0,
       "orientation": "horizontal",
       "style": "IPY_MODEL_af79900bd4874526967d240d67cbc031",
       "value": 19661.0
      }
     },
     "7e7af579b953411a85e961d1d21af10b": {
      "model_module": "@jupyter-widgets/controls",
      "model_module_version": "1.5.0",
      "model_name": "HTMLModel",
      "state": {
       "_dom_classes": [],
       "_model_module": "@jupyter-widgets/controls",
       "_model_module_version": "1.5.0",
       "_model_name": "HTMLModel",
       "_view_count": null,
       "_view_module": "@jupyter-widgets/controls",
       "_view_module_version": "1.5.0",
       "_view_name": "HTMLView",
       "description": "",
       "description_tooltip": null,
       "layout": "IPY_MODEL_b391cf3890e74d91bf52898b18a304d9",
       "placeholder": "​",
       "style": "IPY_MODEL_5f4ddce4559e4f7095e0cd5a05ab1758",
       "value": " 4/? [00:00&lt;00:00, 10.40it/s]"
      }
     },
     "82b6d2f8e2484ed0ab2abae22bf78044": {
      "model_module": "@jupyter-widgets/controls",
      "model_module_version": "1.5.0",
      "model_name": "HTMLModel",
      "state": {
       "_dom_classes": [],
       "_model_module": "@jupyter-widgets/controls",
       "_model_module_version": "1.5.0",
       "_model_name": "HTMLModel",
       "_view_count": null,
       "_view_module": "@jupyter-widgets/controls",
       "_view_module_version": "1.5.0",
       "_view_name": "HTMLView",
       "description": "",
       "description_tooltip": null,
       "layout": "IPY_MODEL_0ab623c3d8fc4294889613bef3e776f1",
       "placeholder": "​",
       "style": "IPY_MODEL_8a099350441a4951a8517b608cd9e274",
       "value": "100%"
      }
     },
     "876d93582ba3483f875bf4cd128a60d3": {
      "model_module": "@jupyter-widgets/controls",
      "model_module_version": "1.5.0",
      "model_name": "HBoxModel",
      "state": {
       "_dom_classes": [],
       "_model_module": "@jupyter-widgets/controls",
       "_model_module_version": "1.5.0",
       "_model_name": "HBoxModel",
       "_view_count": null,
       "_view_module": "@jupyter-widgets/controls",
       "_view_module_version": "1.5.0",
       "_view_name": "HBoxView",
       "box_style": "",
       "children": [
        "IPY_MODEL_be7d8275861846eb8801010b7c212c55",
        "IPY_MODEL_a378dd46af53462997276e37d0b8a78d",
        "IPY_MODEL_a4ad3e4c1bc54b478d2935a25db3097d"
       ],
       "layout": "IPY_MODEL_511f8e79a88647d0b81be7928dd28c26"
      }
     },
     "897825ef13f347b1b46b9634f32a6812": {
      "model_module": "@jupyter-widgets/base",
      "model_module_version": "1.2.0",
      "model_name": "LayoutModel",
      "state": {
       "_model_module": "@jupyter-widgets/base",
       "_model_module_version": "1.2.0",
       "_model_name": "LayoutModel",
       "_view_count": null,
       "_view_module": "@jupyter-widgets/base",
       "_view_module_version": "1.2.0",
       "_view_name": "LayoutView",
       "align_content": null,
       "align_items": null,
       "align_self": null,
       "border": null,
       "bottom": null,
       "display": null,
       "flex": null,
       "flex_flow": null,
       "grid_area": null,
       "grid_auto_columns": null,
       "grid_auto_flow": null,
       "grid_auto_rows": null,
       "grid_column": null,
       "grid_gap": null,
       "grid_row": null,
       "grid_template_areas": null,
       "grid_template_columns": null,
       "grid_template_rows": null,
       "height": null,
       "justify_content": null,
       "justify_items": null,
       "left": null,
       "margin": null,
       "max_height": null,
       "max_width": null,
       "min_height": null,
       "min_width": null,
       "object_fit": null,
       "object_position": null,
       "order": null,
       "overflow": null,
       "overflow_x": null,
       "overflow_y": null,
       "padding": null,
       "right": null,
       "top": null,
       "visibility": null,
       "width": null
      }
     },
     "8a099350441a4951a8517b608cd9e274": {
      "model_module": "@jupyter-widgets/controls",
      "model_module_version": "1.5.0",
      "model_name": "DescriptionStyleModel",
      "state": {
       "_model_module": "@jupyter-widgets/controls",
       "_model_module_version": "1.5.0",
       "_model_name": "DescriptionStyleModel",
       "_view_count": null,
       "_view_module": "@jupyter-widgets/base",
       "_view_module_version": "1.2.0",
       "_view_name": "StyleView",
       "description_width": ""
      }
     },
     "8d76fade9445421da6ed277bfa170d11": {
      "model_module": "@jupyter-widgets/controls",
      "model_module_version": "1.5.0",
      "model_name": "HBoxModel",
      "state": {
       "_dom_classes": [],
       "_model_module": "@jupyter-widgets/controls",
       "_model_module_version": "1.5.0",
       "_model_name": "HBoxModel",
       "_view_count": null,
       "_view_module": "@jupyter-widgets/controls",
       "_view_module_version": "1.5.0",
       "_view_name": "HBoxView",
       "box_style": "",
       "children": [
        "IPY_MODEL_d36403fb086f412986655eb98af20d9f",
        "IPY_MODEL_d7f71fe254334b6eb00ae8cc2c189138",
        "IPY_MODEL_7e7af579b953411a85e961d1d21af10b"
       ],
       "layout": "IPY_MODEL_b9fc9ce11bf84656a0f3ca9df965aca5"
      }
     },
     "94ea966fede64a6bb445cf9b215d795d": {
      "model_module": "@jupyter-widgets/base",
      "model_module_version": "1.2.0",
      "model_name": "LayoutModel",
      "state": {
       "_model_module": "@jupyter-widgets/base",
       "_model_module_version": "1.2.0",
       "_model_name": "LayoutModel",
       "_view_count": null,
       "_view_module": "@jupyter-widgets/base",
       "_view_module_version": "1.2.0",
       "_view_name": "LayoutView",
       "align_content": null,
       "align_items": null,
       "align_self": null,
       "border": null,
       "bottom": null,
       "display": null,
       "flex": null,
       "flex_flow": null,
       "grid_area": null,
       "grid_auto_columns": null,
       "grid_auto_flow": null,
       "grid_auto_rows": null,
       "grid_column": null,
       "grid_gap": null,
       "grid_row": null,
       "grid_template_areas": null,
       "grid_template_columns": null,
       "grid_template_rows": null,
       "height": null,
       "justify_content": null,
       "justify_items": null,
       "left": null,
       "margin": null,
       "max_height": null,
       "max_width": null,
       "min_height": null,
       "min_width": null,
       "object_fit": null,
       "object_position": null,
       "order": null,
       "overflow": null,
       "overflow_x": null,
       "overflow_y": null,
       "padding": null,
       "right": null,
       "top": null,
       "visibility": null,
       "width": null
      }
     },
     "978a38097aa747639777afa58e4cca89": {
      "model_module": "@jupyter-widgets/base",
      "model_module_version": "1.2.0",
      "model_name": "LayoutModel",
      "state": {
       "_model_module": "@jupyter-widgets/base",
       "_model_module_version": "1.2.0",
       "_model_name": "LayoutModel",
       "_view_count": null,
       "_view_module": "@jupyter-widgets/base",
       "_view_module_version": "1.2.0",
       "_view_name": "LayoutView",
       "align_content": null,
       "align_items": null,
       "align_self": null,
       "border": null,
       "bottom": null,
       "display": null,
       "flex": null,
       "flex_flow": null,
       "grid_area": null,
       "grid_auto_columns": null,
       "grid_auto_flow": null,
       "grid_auto_rows": null,
       "grid_column": null,
       "grid_gap": null,
       "grid_row": null,
       "grid_template_areas": null,
       "grid_template_columns": null,
       "grid_template_rows": null,
       "height": null,
       "justify_content": null,
       "justify_items": null,
       "left": null,
       "margin": null,
       "max_height": null,
       "max_width": null,
       "min_height": null,
       "min_width": null,
       "object_fit": null,
       "object_position": null,
       "order": null,
       "overflow": null,
       "overflow_x": null,
       "overflow_y": null,
       "padding": null,
       "right": null,
       "top": null,
       "visibility": null,
       "width": null
      }
     },
     "99044e2351e7430e8ceeb356458c30ac": {
      "model_module": "@jupyter-widgets/controls",
      "model_module_version": "1.5.0",
      "model_name": "HTMLModel",
      "state": {
       "_dom_classes": [],
       "_model_module": "@jupyter-widgets/controls",
       "_model_module_version": "1.5.0",
       "_model_name": "HTMLModel",
       "_view_count": null,
       "_view_module": "@jupyter-widgets/controls",
       "_view_module_version": "1.5.0",
       "_view_name": "HTMLView",
       "description": "",
       "description_tooltip": null,
       "layout": "IPY_MODEL_b46622f305ed413a9a7b7f635aea27e6",
       "placeholder": "​",
       "style": "IPY_MODEL_578aea85461342b1b0721e0aa8d111ca",
       "value": "100%"
      }
     },
     "9f0a3472ae05476883eed6476732d985": {
      "model_module": "@jupyter-widgets/base",
      "model_module_version": "1.2.0",
      "model_name": "LayoutModel",
      "state": {
       "_model_module": "@jupyter-widgets/base",
       "_model_module_version": "1.2.0",
       "_model_name": "LayoutModel",
       "_view_count": null,
       "_view_module": "@jupyter-widgets/base",
       "_view_module_version": "1.2.0",
       "_view_name": "LayoutView",
       "align_content": null,
       "align_items": null,
       "align_self": null,
       "border": null,
       "bottom": null,
       "display": null,
       "flex": null,
       "flex_flow": null,
       "grid_area": null,
       "grid_auto_columns": null,
       "grid_auto_flow": null,
       "grid_auto_rows": null,
       "grid_column": null,
       "grid_gap": null,
       "grid_row": null,
       "grid_template_areas": null,
       "grid_template_columns": null,
       "grid_template_rows": null,
       "height": null,
       "justify_content": null,
       "justify_items": null,
       "left": null,
       "margin": null,
       "max_height": null,
       "max_width": null,
       "min_height": null,
       "min_width": null,
       "object_fit": null,
       "object_position": null,
       "order": null,
       "overflow": null,
       "overflow_x": null,
       "overflow_y": null,
       "padding": null,
       "right": null,
       "top": null,
       "visibility": null,
       "width": "20px"
      }
     },
     "a117456959964483952bf4921c6ea05f": {
      "model_module": "@jupyter-widgets/controls",
      "model_module_version": "1.5.0",
      "model_name": "ProgressStyleModel",
      "state": {
       "_model_module": "@jupyter-widgets/controls",
       "_model_module_version": "1.5.0",
       "_model_name": "ProgressStyleModel",
       "_view_count": null,
       "_view_module": "@jupyter-widgets/base",
       "_view_module_version": "1.2.0",
       "_view_name": "StyleView",
       "bar_color": null,
       "description_width": ""
      }
     },
     "a378dd46af53462997276e37d0b8a78d": {
      "model_module": "@jupyter-widgets/controls",
      "model_module_version": "1.5.0",
      "model_name": "FloatProgressModel",
      "state": {
       "_dom_classes": [],
       "_model_module": "@jupyter-widgets/controls",
       "_model_module_version": "1.5.0",
       "_model_name": "FloatProgressModel",
       "_view_count": null,
       "_view_module": "@jupyter-widgets/controls",
       "_view_module_version": "1.5.0",
       "_view_name": "ProgressView",
       "bar_style": "success",
       "description": "",
       "description_tooltip": null,
       "layout": "IPY_MODEL_bd0ca9cd956e452db339bd06ee0c67f6",
       "max": 19661.0,
       "min": 0.0,
       "orientation": "horizontal",
       "style": "IPY_MODEL_cff47167ef2f4ba396f6a84a33496f92",
       "value": 19661.0
      }
     },
     "a4ad3e4c1bc54b478d2935a25db3097d": {
      "model_module": "@jupyter-widgets/controls",
      "model_module_version": "1.5.0",
      "model_name": "HTMLModel",
      "state": {
       "_dom_classes": [],
       "_model_module": "@jupyter-widgets/controls",
       "_model_module_version": "1.5.0",
       "_model_name": "HTMLModel",
       "_view_count": null,
       "_view_module": "@jupyter-widgets/controls",
       "_view_module_version": "1.5.0",
       "_view_name": "HTMLView",
       "description": "",
       "description_tooltip": null,
       "layout": "IPY_MODEL_0559f99bea97479f9d2ab4b45bd5c88c",
       "placeholder": "​",
       "style": "IPY_MODEL_fb71e39af4984f779e5b1e8121689181",
       "value": " 19661/19661 [03:35&lt;00:00, 184.43it/s]"
      }
     },
     "a742ecf0e4f44281aac688c70235f7b0": {
      "model_module": "@jupyter-widgets/controls",
      "model_module_version": "1.5.0",
      "model_name": "HBoxModel",
      "state": {
       "_dom_classes": [],
       "_model_module": "@jupyter-widgets/controls",
       "_model_module_version": "1.5.0",
       "_model_name": "HBoxModel",
       "_view_count": null,
       "_view_module": "@jupyter-widgets/controls",
       "_view_module_version": "1.5.0",
       "_view_name": "HBoxView",
       "box_style": "",
       "children": [
        "IPY_MODEL_df28ffbf3f6641d09de3fed277c8e821",
        "IPY_MODEL_44fa7faadfef404681328c704f95d191",
        "IPY_MODEL_400961c7fc434625b894ce3d6cdd5981"
       ],
       "layout": "IPY_MODEL_41040ed49f564a8f978ea6e4c7d9abd3"
      }
     },
     "a928663f1935485eba996bca3b7dd68a": {
      "model_module": "@jupyter-widgets/base",
      "model_module_version": "1.2.0",
      "model_name": "LayoutModel",
      "state": {
       "_model_module": "@jupyter-widgets/base",
       "_model_module_version": "1.2.0",
       "_model_name": "LayoutModel",
       "_view_count": null,
       "_view_module": "@jupyter-widgets/base",
       "_view_module_version": "1.2.0",
       "_view_name": "LayoutView",
       "align_content": null,
       "align_items": null,
       "align_self": null,
       "border": null,
       "bottom": null,
       "display": null,
       "flex": null,
       "flex_flow": null,
       "grid_area": null,
       "grid_auto_columns": null,
       "grid_auto_flow": null,
       "grid_auto_rows": null,
       "grid_column": null,
       "grid_gap": null,
       "grid_row": null,
       "grid_template_areas": null,
       "grid_template_columns": null,
       "grid_template_rows": null,
       "height": null,
       "justify_content": null,
       "justify_items": null,
       "left": null,
       "margin": null,
       "max_height": null,
       "max_width": null,
       "min_height": null,
       "min_width": null,
       "object_fit": null,
       "object_position": null,
       "order": null,
       "overflow": null,
       "overflow_x": null,
       "overflow_y": null,
       "padding": null,
       "right": null,
       "top": null,
       "visibility": null,
       "width": null
      }
     },
     "ac63a3a3834047fd8859d77c6c6bcba2": {
      "model_module": "@jupyter-widgets/base",
      "model_module_version": "1.2.0",
      "model_name": "LayoutModel",
      "state": {
       "_model_module": "@jupyter-widgets/base",
       "_model_module_version": "1.2.0",
       "_model_name": "LayoutModel",
       "_view_count": null,
       "_view_module": "@jupyter-widgets/base",
       "_view_module_version": "1.2.0",
       "_view_name": "LayoutView",
       "align_content": null,
       "align_items": null,
       "align_self": null,
       "border": null,
       "bottom": null,
       "display": null,
       "flex": null,
       "flex_flow": null,
       "grid_area": null,
       "grid_auto_columns": null,
       "grid_auto_flow": null,
       "grid_auto_rows": null,
       "grid_column": null,
       "grid_gap": null,
       "grid_row": null,
       "grid_template_areas": null,
       "grid_template_columns": null,
       "grid_template_rows": null,
       "height": null,
       "justify_content": null,
       "justify_items": null,
       "left": null,
       "margin": null,
       "max_height": null,
       "max_width": null,
       "min_height": null,
       "min_width": null,
       "object_fit": null,
       "object_position": null,
       "order": null,
       "overflow": null,
       "overflow_x": null,
       "overflow_y": null,
       "padding": null,
       "right": null,
       "top": null,
       "visibility": null,
       "width": null
      }
     },
     "af79900bd4874526967d240d67cbc031": {
      "model_module": "@jupyter-widgets/controls",
      "model_module_version": "1.5.0",
      "model_name": "ProgressStyleModel",
      "state": {
       "_model_module": "@jupyter-widgets/controls",
       "_model_module_version": "1.5.0",
       "_model_name": "ProgressStyleModel",
       "_view_count": null,
       "_view_module": "@jupyter-widgets/base",
       "_view_module_version": "1.2.0",
       "_view_name": "StyleView",
       "bar_color": null,
       "description_width": ""
      }
     },
     "b391cf3890e74d91bf52898b18a304d9": {
      "model_module": "@jupyter-widgets/base",
      "model_module_version": "1.2.0",
      "model_name": "LayoutModel",
      "state": {
       "_model_module": "@jupyter-widgets/base",
       "_model_module_version": "1.2.0",
       "_model_name": "LayoutModel",
       "_view_count": null,
       "_view_module": "@jupyter-widgets/base",
       "_view_module_version": "1.2.0",
       "_view_name": "LayoutView",
       "align_content": null,
       "align_items": null,
       "align_self": null,
       "border": null,
       "bottom": null,
       "display": null,
       "flex": null,
       "flex_flow": null,
       "grid_area": null,
       "grid_auto_columns": null,
       "grid_auto_flow": null,
       "grid_auto_rows": null,
       "grid_column": null,
       "grid_gap": null,
       "grid_row": null,
       "grid_template_areas": null,
       "grid_template_columns": null,
       "grid_template_rows": null,
       "height": null,
       "justify_content": null,
       "justify_items": null,
       "left": null,
       "margin": null,
       "max_height": null,
       "max_width": null,
       "min_height": null,
       "min_width": null,
       "object_fit": null,
       "object_position": null,
       "order": null,
       "overflow": null,
       "overflow_x": null,
       "overflow_y": null,
       "padding": null,
       "right": null,
       "top": null,
       "visibility": null,
       "width": null
      }
     },
     "b46622f305ed413a9a7b7f635aea27e6": {
      "model_module": "@jupyter-widgets/base",
      "model_module_version": "1.2.0",
      "model_name": "LayoutModel",
      "state": {
       "_model_module": "@jupyter-widgets/base",
       "_model_module_version": "1.2.0",
       "_model_name": "LayoutModel",
       "_view_count": null,
       "_view_module": "@jupyter-widgets/base",
       "_view_module_version": "1.2.0",
       "_view_name": "LayoutView",
       "align_content": null,
       "align_items": null,
       "align_self": null,
       "border": null,
       "bottom": null,
       "display": null,
       "flex": null,
       "flex_flow": null,
       "grid_area": null,
       "grid_auto_columns": null,
       "grid_auto_flow": null,
       "grid_auto_rows": null,
       "grid_column": null,
       "grid_gap": null,
       "grid_row": null,
       "grid_template_areas": null,
       "grid_template_columns": null,
       "grid_template_rows": null,
       "height": null,
       "justify_content": null,
       "justify_items": null,
       "left": null,
       "margin": null,
       "max_height": null,
       "max_width": null,
       "min_height": null,
       "min_width": null,
       "object_fit": null,
       "object_position": null,
       "order": null,
       "overflow": null,
       "overflow_x": null,
       "overflow_y": null,
       "padding": null,
       "right": null,
       "top": null,
       "visibility": null,
       "width": null
      }
     },
     "b9fc9ce11bf84656a0f3ca9df965aca5": {
      "model_module": "@jupyter-widgets/base",
      "model_module_version": "1.2.0",
      "model_name": "LayoutModel",
      "state": {
       "_model_module": "@jupyter-widgets/base",
       "_model_module_version": "1.2.0",
       "_model_name": "LayoutModel",
       "_view_count": null,
       "_view_module": "@jupyter-widgets/base",
       "_view_module_version": "1.2.0",
       "_view_name": "LayoutView",
       "align_content": null,
       "align_items": null,
       "align_self": null,
       "border": null,
       "bottom": null,
       "display": null,
       "flex": null,
       "flex_flow": null,
       "grid_area": null,
       "grid_auto_columns": null,
       "grid_auto_flow": null,
       "grid_auto_rows": null,
       "grid_column": null,
       "grid_gap": null,
       "grid_row": null,
       "grid_template_areas": null,
       "grid_template_columns": null,
       "grid_template_rows": null,
       "height": null,
       "justify_content": null,
       "justify_items": null,
       "left": null,
       "margin": null,
       "max_height": null,
       "max_width": null,
       "min_height": null,
       "min_width": null,
       "object_fit": null,
       "object_position": null,
       "order": null,
       "overflow": null,
       "overflow_x": null,
       "overflow_y": null,
       "padding": null,
       "right": null,
       "top": null,
       "visibility": null,
       "width": null
      }
     },
     "bd0ca9cd956e452db339bd06ee0c67f6": {
      "model_module": "@jupyter-widgets/base",
      "model_module_version": "1.2.0",
      "model_name": "LayoutModel",
      "state": {
       "_model_module": "@jupyter-widgets/base",
       "_model_module_version": "1.2.0",
       "_model_name": "LayoutModel",
       "_view_count": null,
       "_view_module": "@jupyter-widgets/base",
       "_view_module_version": "1.2.0",
       "_view_name": "LayoutView",
       "align_content": null,
       "align_items": null,
       "align_self": null,
       "border": null,
       "bottom": null,
       "display": null,
       "flex": null,
       "flex_flow": null,
       "grid_area": null,
       "grid_auto_columns": null,
       "grid_auto_flow": null,
       "grid_auto_rows": null,
       "grid_column": null,
       "grid_gap": null,
       "grid_row": null,
       "grid_template_areas": null,
       "grid_template_columns": null,
       "grid_template_rows": null,
       "height": null,
       "justify_content": null,
       "justify_items": null,
       "left": null,
       "margin": null,
       "max_height": null,
       "max_width": null,
       "min_height": null,
       "min_width": null,
       "object_fit": null,
       "object_position": null,
       "order": null,
       "overflow": null,
       "overflow_x": null,
       "overflow_y": null,
       "padding": null,
       "right": null,
       "top": null,
       "visibility": null,
       "width": null
      }
     },
     "be7d8275861846eb8801010b7c212c55": {
      "model_module": "@jupyter-widgets/controls",
      "model_module_version": "1.5.0",
      "model_name": "HTMLModel",
      "state": {
       "_dom_classes": [],
       "_model_module": "@jupyter-widgets/controls",
       "_model_module_version": "1.5.0",
       "_model_name": "HTMLModel",
       "_view_count": null,
       "_view_module": "@jupyter-widgets/controls",
       "_view_module_version": "1.5.0",
       "_view_name": "HTMLView",
       "description": "",
       "description_tooltip": null,
       "layout": "IPY_MODEL_94ea966fede64a6bb445cf9b215d795d",
       "placeholder": "​",
       "style": "IPY_MODEL_3407c7e7ba38486a830a977a5a9a73ec",
       "value": "100%"
      }
     },
     "c4652cdb6feb4fc3873f682a893db04d": {
      "model_module": "@jupyter-widgets/controls",
      "model_module_version": "1.5.0",
      "model_name": "HBoxModel",
      "state": {
       "_dom_classes": [],
       "_model_module": "@jupyter-widgets/controls",
       "_model_module_version": "1.5.0",
       "_model_name": "HBoxModel",
       "_view_count": null,
       "_view_module": "@jupyter-widgets/controls",
       "_view_module_version": "1.5.0",
       "_view_name": "HBoxView",
       "box_style": "",
       "children": [
        "IPY_MODEL_99044e2351e7430e8ceeb356458c30ac",
        "IPY_MODEL_278cdebe22b04a1cbbe0a23d98c79114",
        "IPY_MODEL_142a6fef7c1444868124a702149379f7"
       ],
       "layout": "IPY_MODEL_978a38097aa747639777afa58e4cca89"
      }
     },
     "c5de7997038f40a9a0210e953401750c": {
      "model_module": "@jupyter-widgets/base",
      "model_module_version": "1.2.0",
      "model_name": "LayoutModel",
      "state": {
       "_model_module": "@jupyter-widgets/base",
       "_model_module_version": "1.2.0",
       "_model_name": "LayoutModel",
       "_view_count": null,
       "_view_module": "@jupyter-widgets/base",
       "_view_module_version": "1.2.0",
       "_view_name": "LayoutView",
       "align_content": null,
       "align_items": null,
       "align_self": null,
       "border": null,
       "bottom": null,
       "display": null,
       "flex": null,
       "flex_flow": null,
       "grid_area": null,
       "grid_auto_columns": null,
       "grid_auto_flow": null,
       "grid_auto_rows": null,
       "grid_column": null,
       "grid_gap": null,
       "grid_row": null,
       "grid_template_areas": null,
       "grid_template_columns": null,
       "grid_template_rows": null,
       "height": null,
       "justify_content": null,
       "justify_items": null,
       "left": null,
       "margin": null,
       "max_height": null,
       "max_width": null,
       "min_height": null,
       "min_width": null,
       "object_fit": null,
       "object_position": null,
       "order": null,
       "overflow": null,
       "overflow_x": null,
       "overflow_y": null,
       "padding": null,
       "right": null,
       "top": null,
       "visibility": null,
       "width": null
      }
     },
     "cff47167ef2f4ba396f6a84a33496f92": {
      "model_module": "@jupyter-widgets/controls",
      "model_module_version": "1.5.0",
      "model_name": "ProgressStyleModel",
      "state": {
       "_model_module": "@jupyter-widgets/controls",
       "_model_module_version": "1.5.0",
       "_model_name": "ProgressStyleModel",
       "_view_count": null,
       "_view_module": "@jupyter-widgets/base",
       "_view_module_version": "1.2.0",
       "_view_name": "StyleView",
       "bar_color": null,
       "description_width": ""
      }
     },
     "d36403fb086f412986655eb98af20d9f": {
      "model_module": "@jupyter-widgets/controls",
      "model_module_version": "1.5.0",
      "model_name": "HTMLModel",
      "state": {
       "_dom_classes": [],
       "_model_module": "@jupyter-widgets/controls",
       "_model_module_version": "1.5.0",
       "_model_name": "HTMLModel",
       "_view_count": null,
       "_view_module": "@jupyter-widgets/controls",
       "_view_module_version": "1.5.0",
       "_view_name": "HTMLView",
       "description": "",
       "description_tooltip": null,
       "layout": "IPY_MODEL_1029f702fe374c6da1fe65072a2f5158",
       "placeholder": "​",
       "style": "IPY_MODEL_465091ba50854e5aa0ac5e607cddbbc7",
       "value": ""
      }
     },
     "d7f71fe254334b6eb00ae8cc2c189138": {
      "model_module": "@jupyter-widgets/controls",
      "model_module_version": "1.5.0",
      "model_name": "FloatProgressModel",
      "state": {
       "_dom_classes": [],
       "_model_module": "@jupyter-widgets/controls",
       "_model_module_version": "1.5.0",
       "_model_name": "FloatProgressModel",
       "_view_count": null,
       "_view_module": "@jupyter-widgets/controls",
       "_view_module_version": "1.5.0",
       "_view_name": "ProgressView",
       "bar_style": "success",
       "description": "",
       "description_tooltip": null,
       "layout": "IPY_MODEL_9f0a3472ae05476883eed6476732d985",
       "max": 1.0,
       "min": 0.0,
       "orientation": "horizontal",
       "style": "IPY_MODEL_3f1570c40869413aa81b0bba86cc5d22",
       "value": 1.0
      }
     },
     "de167dc69b7344f293adb84bbc036cb7": {
      "model_module": "@jupyter-widgets/controls",
      "model_module_version": "1.5.0",
      "model_name": "HBoxModel",
      "state": {
       "_dom_classes": [],
       "_model_module": "@jupyter-widgets/controls",
       "_model_module_version": "1.5.0",
       "_model_name": "HBoxModel",
       "_view_count": null,
       "_view_module": "@jupyter-widgets/controls",
       "_view_module_version": "1.5.0",
       "_view_name": "HBoxView",
       "box_style": "",
       "children": [
        "IPY_MODEL_82b6d2f8e2484ed0ab2abae22bf78044",
        "IPY_MODEL_75a8008ead054eee83abd9b7aca148be",
        "IPY_MODEL_31d6352b81824331abf2ab428458d65c"
       ],
       "layout": "IPY_MODEL_897825ef13f347b1b46b9634f32a6812"
      }
     },
     "df28ffbf3f6641d09de3fed277c8e821": {
      "model_module": "@jupyter-widgets/controls",
      "model_module_version": "1.5.0",
      "model_name": "HTMLModel",
      "state": {
       "_dom_classes": [],
       "_model_module": "@jupyter-widgets/controls",
       "_model_module_version": "1.5.0",
       "_model_name": "HTMLModel",
       "_view_count": null,
       "_view_module": "@jupyter-widgets/controls",
       "_view_module_version": "1.5.0",
       "_view_name": "HTMLView",
       "description": "",
       "description_tooltip": null,
       "layout": "IPY_MODEL_73e1a4cc391540539489bab72d5b2fb1",
       "placeholder": "​",
       "style": "IPY_MODEL_690029484d24484aa97a3b8541531f21",
       "value": "100%"
      }
     },
     "e8c6211b0aa04fa6af3351712c2ab528": {
      "model_module": "@jupyter-widgets/controls",
      "model_module_version": "1.5.0",
      "model_name": "DescriptionStyleModel",
      "state": {
       "_model_module": "@jupyter-widgets/controls",
       "_model_module_version": "1.5.0",
       "_model_name": "DescriptionStyleModel",
       "_view_count": null,
       "_view_module": "@jupyter-widgets/base",
       "_view_module_version": "1.2.0",
       "_view_name": "StyleView",
       "description_width": ""
      }
     },
     "fb71e39af4984f779e5b1e8121689181": {
      "model_module": "@jupyter-widgets/controls",
      "model_module_version": "1.5.0",
      "model_name": "DescriptionStyleModel",
      "state": {
       "_model_module": "@jupyter-widgets/controls",
       "_model_module_version": "1.5.0",
       "_model_name": "DescriptionStyleModel",
       "_view_count": null,
       "_view_module": "@jupyter-widgets/base",
       "_view_module_version": "1.2.0",
       "_view_name": "StyleView",
       "description_width": ""
      }
     }
    },
    "version_major": 2,
    "version_minor": 0
   }
  }
 },
 "nbformat": 4,
 "nbformat_minor": 5
}
